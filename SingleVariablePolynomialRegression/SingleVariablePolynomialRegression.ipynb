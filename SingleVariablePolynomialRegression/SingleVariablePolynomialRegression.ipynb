{
 "cells": [
  {
   "cell_type": "markdown",
   "metadata": {},
   "source": [
    "# Single Variable Polynomial Regression"
   ]
  },
  {
   "cell_type": "code",
   "execution_count": 1,
   "metadata": {},
   "outputs": [
    {
     "name": "stdout",
     "output_type": "stream",
     "text": [
      "Requirement already satisfied: numpy in /home/mpradyumna/RegressionFromScratch/.venv/lib64/python3.11/site-packages (1.26.0)\n",
      "Requirement already satisfied: pandas in /home/mpradyumna/RegressionFromScratch/.venv/lib64/python3.11/site-packages (2.1.1)\n",
      "Requirement already satisfied: matplotlib in /home/mpradyumna/RegressionFromScratch/.venv/lib64/python3.11/site-packages (3.8.0)\n",
      "Requirement already satisfied: python-dateutil>=2.8.2 in /home/mpradyumna/RegressionFromScratch/.venv/lib64/python3.11/site-packages (from pandas) (2.8.2)\n",
      "Requirement already satisfied: pytz>=2020.1 in /home/mpradyumna/RegressionFromScratch/.venv/lib64/python3.11/site-packages (from pandas) (2023.3.post1)\n",
      "Requirement already satisfied: tzdata>=2022.1 in /home/mpradyumna/RegressionFromScratch/.venv/lib64/python3.11/site-packages (from pandas) (2023.3)\n",
      "Requirement already satisfied: contourpy>=1.0.1 in /home/mpradyumna/RegressionFromScratch/.venv/lib64/python3.11/site-packages (from matplotlib) (1.1.1)\n",
      "Requirement already satisfied: cycler>=0.10 in /home/mpradyumna/RegressionFromScratch/.venv/lib64/python3.11/site-packages (from matplotlib) (0.12.0)\n",
      "Requirement already satisfied: fonttools>=4.22.0 in /home/mpradyumna/RegressionFromScratch/.venv/lib64/python3.11/site-packages (from matplotlib) (4.43.0)\n",
      "Requirement already satisfied: kiwisolver>=1.0.1 in /home/mpradyumna/RegressionFromScratch/.venv/lib64/python3.11/site-packages (from matplotlib) (1.4.5)\n",
      "Requirement already satisfied: packaging>=20.0 in /home/mpradyumna/RegressionFromScratch/.venv/lib64/python3.11/site-packages (from matplotlib) (23.2)\n",
      "Requirement already satisfied: pillow>=6.2.0 in /home/mpradyumna/RegressionFromScratch/.venv/lib64/python3.11/site-packages (from matplotlib) (10.0.1)\n",
      "Requirement already satisfied: pyparsing>=2.3.1 in /home/mpradyumna/RegressionFromScratch/.venv/lib64/python3.11/site-packages (from matplotlib) (3.1.1)\n",
      "Requirement already satisfied: six>=1.5 in /home/mpradyumna/RegressionFromScratch/.venv/lib64/python3.11/site-packages (from python-dateutil>=2.8.2->pandas) (1.16.0)\n",
      "Note: you may need to restart the kernel to use updated packages.\n"
     ]
    }
   ],
   "source": [
    "%pip install numpy pandas matplotlib"
   ]
  },
  {
   "cell_type": "markdown",
   "metadata": {},
   "source": [
    "## Install Dependencies"
   ]
  },
  {
   "cell_type": "code",
   "execution_count": 2,
   "metadata": {},
   "outputs": [],
   "source": [
    "import numpy as np\n",
    "import pandas as pd\n",
    "import matplotlib.pyplot as plt"
   ]
  },
  {
   "cell_type": "markdown",
   "metadata": {},
   "source": [
    "## Import Dataset"
   ]
  },
  {
   "cell_type": "code",
   "execution_count": 3,
   "metadata": {},
   "outputs": [],
   "source": [
    "df = pd.read_csv('../SingleVariablePolynomialRegression/data/Data.csv')"
   ]
  },
  {
   "cell_type": "code",
   "execution_count": 4,
   "metadata": {},
   "outputs": [
    {
     "data": {
      "text/html": [
       "<div>\n",
       "<style scoped>\n",
       "    .dataframe tbody tr th:only-of-type {\n",
       "        vertical-align: middle;\n",
       "    }\n",
       "\n",
       "    .dataframe tbody tr th {\n",
       "        vertical-align: top;\n",
       "    }\n",
       "\n",
       "    .dataframe thead th {\n",
       "        text-align: right;\n",
       "    }\n",
       "</style>\n",
       "<table border=\"1\" class=\"dataframe\">\n",
       "  <thead>\n",
       "    <tr style=\"text-align: right;\">\n",
       "      <th></th>\n",
       "      <th>X</th>\n",
       "      <th>Y</th>\n",
       "    </tr>\n",
       "  </thead>\n",
       "  <tbody>\n",
       "    <tr>\n",
       "      <th>0</th>\n",
       "      <td>0.987988</td>\n",
       "      <td>5.098368</td>\n",
       "    </tr>\n",
       "    <tr>\n",
       "      <th>1</th>\n",
       "      <td>0.719720</td>\n",
       "      <td>2.516654</td>\n",
       "    </tr>\n",
       "    <tr>\n",
       "      <th>2</th>\n",
       "      <td>-0.403403</td>\n",
       "      <td>0.337961</td>\n",
       "    </tr>\n",
       "    <tr>\n",
       "      <th>3</th>\n",
       "      <td>0.107107</td>\n",
       "      <td>0.737320</td>\n",
       "    </tr>\n",
       "    <tr>\n",
       "      <th>4</th>\n",
       "      <td>0.345345</td>\n",
       "      <td>-0.780955</td>\n",
       "    </tr>\n",
       "  </tbody>\n",
       "</table>\n",
       "</div>"
      ],
      "text/plain": [
       "          X         Y\n",
       "0  0.987988  5.098368\n",
       "1  0.719720  2.516654\n",
       "2 -0.403403  0.337961\n",
       "3  0.107107  0.737320\n",
       "4  0.345345 -0.780955"
      ]
     },
     "execution_count": 4,
     "metadata": {},
     "output_type": "execute_result"
    }
   ],
   "source": [
    "df.head()"
   ]
  },
  {
   "cell_type": "markdown",
   "metadata": {},
   "source": [
    "### Note: No NAN Values"
   ]
  },
  {
   "cell_type": "code",
   "execution_count": 5,
   "metadata": {},
   "outputs": [
    {
     "data": {
      "text/plain": [
       "X    0\n",
       "Y    0\n",
       "dtype: int64"
      ]
     },
     "execution_count": 5,
     "metadata": {},
     "output_type": "execute_result"
    }
   ],
   "source": [
    "df.isna().sum()"
   ]
  },
  {
   "cell_type": "markdown",
   "metadata": {},
   "source": [
    "## Normalize the feature X"
   ]
  },
  {
   "cell_type": "code",
   "execution_count": 6,
   "metadata": {},
   "outputs": [],
   "source": [
    "df['X'] = (df['X']-np.mean(df['X']))/np.std(df['X'])"
   ]
  },
  {
   "cell_type": "code",
   "execution_count": 7,
   "metadata": {},
   "outputs": [
    {
     "data": {
      "text/html": [
       "<div>\n",
       "<style scoped>\n",
       "    .dataframe tbody tr th:only-of-type {\n",
       "        vertical-align: middle;\n",
       "    }\n",
       "\n",
       "    .dataframe tbody tr th {\n",
       "        vertical-align: top;\n",
       "    }\n",
       "\n",
       "    .dataframe thead th {\n",
       "        text-align: right;\n",
       "    }\n",
       "</style>\n",
       "<table border=\"1\" class=\"dataframe\">\n",
       "  <thead>\n",
       "    <tr style=\"text-align: right;\">\n",
       "      <th></th>\n",
       "      <th>X</th>\n",
       "      <th>Y</th>\n",
       "    </tr>\n",
       "  </thead>\n",
       "  <tbody>\n",
       "    <tr>\n",
       "      <th>0</th>\n",
       "      <td>1.709535</td>\n",
       "      <td>5.098368</td>\n",
       "    </tr>\n",
       "    <tr>\n",
       "      <th>1</th>\n",
       "      <td>1.245345</td>\n",
       "      <td>2.516654</td>\n",
       "    </tr>\n",
       "    <tr>\n",
       "      <th>2</th>\n",
       "      <td>-0.698017</td>\n",
       "      <td>0.337961</td>\n",
       "    </tr>\n",
       "    <tr>\n",
       "      <th>3</th>\n",
       "      <td>0.185330</td>\n",
       "      <td>0.737320</td>\n",
       "    </tr>\n",
       "    <tr>\n",
       "      <th>4</th>\n",
       "      <td>0.597558</td>\n",
       "      <td>-0.780955</td>\n",
       "    </tr>\n",
       "  </tbody>\n",
       "</table>\n",
       "</div>"
      ],
      "text/plain": [
       "          X         Y\n",
       "0  1.709535  5.098368\n",
       "1  1.245345  2.516654\n",
       "2 -0.698017  0.337961\n",
       "3  0.185330  0.737320\n",
       "4  0.597558 -0.780955"
      ]
     },
     "execution_count": 7,
     "metadata": {},
     "output_type": "execute_result"
    }
   ],
   "source": [
    "df.head()"
   ]
  },
  {
   "cell_type": "markdown",
   "metadata": {},
   "source": [
    "## Generate Random Test and Train Splits"
   ]
  },
  {
   "cell_type": "code",
   "execution_count": 8,
   "metadata": {},
   "outputs": [],
   "source": [
    "seed = 420\n",
    "train_fraction = 0.8\n",
    "train = df.sample(frac=train_fraction, random_state=seed)\n",
    "test = df.drop(train.index)"
   ]
  },
  {
   "cell_type": "code",
   "execution_count": 9,
   "metadata": {},
   "outputs": [
    {
     "data": {
      "text/plain": [
       "<bound method DataFrame.info of             X         Y\n",
       "715 -1.259202  0.035008\n",
       "353  1.591755  2.834778\n",
       "507  0.105655 -1.238693\n",
       "713  0.943968  0.730347\n",
       "553 -0.500563  0.381970\n",
       "..        ...       ...\n",
       "252 -1.435871  0.610148\n",
       "327  0.012124  0.765786\n",
       "115 -0.396640 -0.704895\n",
       "174 -0.025981  2.100271\n",
       "701 -1.629861 -0.873611\n",
       "\n",
       "[800 rows x 2 columns]>"
      ]
     },
     "execution_count": 9,
     "metadata": {},
     "output_type": "execute_result"
    }
   ],
   "source": [
    "train.info"
   ]
  },
  {
   "cell_type": "code",
   "execution_count": 10,
   "metadata": {},
   "outputs": [
    {
     "data": {
      "text/plain": [
       "<bound method DataFrame.info of             X         Y\n",
       "3    0.185330  0.737320\n",
       "8   -0.670304 -0.566798\n",
       "9    0.715337  2.219073\n",
       "10  -0.012124  0.341446\n",
       "28   0.902399  1.116080\n",
       "..        ...       ...\n",
       "975  1.674894  5.692382\n",
       "983  0.348142 -0.517849\n",
       "994  0.912791  1.611825\n",
       "995  1.162207  3.079356\n",
       "996 -1.065212  0.027487\n",
       "\n",
       "[200 rows x 2 columns]>"
      ]
     },
     "execution_count": 10,
     "metadata": {},
     "output_type": "execute_result"
    }
   ],
   "source": [
    "test.info"
   ]
  },
  {
   "cell_type": "markdown",
   "metadata": {},
   "source": [
    "## Polynomial Regression Model"
   ]
  },
  {
   "cell_type": "code",
   "execution_count": 134,
   "metadata": {},
   "outputs": [],
   "source": [
    "class PolynomialRegressionModel:\n",
    "    def __init__(self, degree):\n",
    "        \"\"\"\n",
    "        Polynomial Regression Model for some particular degree.\n",
    "        \"\"\"\n",
    "        self.errors = {}\n",
    "        self.deg = degree\n",
    "        self.weights = np.random.rand(1, degree+1)\n",
    "\n",
    "    def calculate_loss(self, input, target):\n",
    "        # print('inside self.calculate_loss()')\n",
    "        assert type(input) == float and type(target) == float, \"Types are not matching. Check!\"\n",
    "        result = []\n",
    "        prediction = self.predict([input])\n",
    "        # print('predicted:')\n",
    "        # print(prediction)\n",
    "        # print('expected')\n",
    "        # print(target)\n",
    "        for i in range(self.deg+1):\n",
    "            result.append(\n",
    "                (input**i)*(prediction-target)\n",
    "            )\n",
    "        # print('loss: ')\n",
    "        # print(result)\n",
    "        return np.array(result).reshape(self.weights.shape)\n",
    "\n",
    "    def fit(self, X_train, y_train, lr=0.01, epochs=500, batch_size=20):\n",
    "        \"\"\"\n",
    "        Fit the polynomial regression model using Batch Gradient Descent.\n",
    "\n",
    "        Parameters:\n",
    "        X_train: Input Feature variable (only one!)\n",
    "        y_train: Target Variable\n",
    "        lr: Learning Rate for Gradient Descent\n",
    "        epochs: No of Epochs to train\n",
    "\n",
    "        Returns:\n",
    "        NA\n",
    "        \"\"\"\n",
    "        print('Starting Training.....')\n",
    "        for epoch in range(epochs):\n",
    "            count = 0\n",
    "            loss = np.zeros_like(self.weights)\n",
    "            for sample in zip(X_train, y_train):\n",
    "                input = sample[0]\n",
    "                target = sample[1]\n",
    "                # print(input, target)\n",
    "                if count%batch_size == 0:\n",
    "                    loss /= batch_size\n",
    "                    self.weights *= 0.995\n",
    "                    self.weights -= lr*loss\n",
    "                    loss = np.zeros_like(self.weights)\n",
    "                else:\n",
    "                    loss += self.calculate_loss(input, target)\n",
    "            \n",
    "                count+=1\n",
    "                if epoch == 0:\n",
    "                    # print(epoch*X_train.shape[0]+count)\n",
    "                    self.errors[count] = self.calculate_error(X_train, y_train)\n",
    "            if epoch%(epochs/10) == 0:\n",
    "                print(f\"epoch: {epoch}\")\n",
    "                print(f\"Error: {self.calculate_error(X_train, y_train)}\")\n",
    "\n",
    "        return\n",
    "\n",
    "    def calculate_error(self, X_test, y_test):\n",
    "        \"\"\"\n",
    "        Find the error of the model on some data.\n",
    "\n",
    "        Parameters:\n",
    "        X_test: The sample Input Feature.\n",
    "        y_test: The sample Target Feature.\n",
    "\n",
    "        Returns:\n",
    "        A float value that is the MSE b/w the predicted outputs and the target outputs.\n",
    "        \"\"\"\n",
    "        predictions = self.predict(X_test)\n",
    "        mse = np.mean(\n",
    "            (predictions-y_test)**2\n",
    "        )\n",
    "        return mse\n",
    "\n",
    "    def predict(self, X_test):\n",
    "        \"\"\"\n",
    "        Make Predictions using the trained model.\n",
    "\n",
    "        Parameters:\n",
    "        X_test: The sample Input Features.\n",
    "\n",
    "        Returns:\n",
    "        A numpy Array with the predicted target variable value for each of the samples having\n",
    "        same dimensions as X_test.\n",
    "        \"\"\"\n",
    "        result = [] \n",
    "        for sample in X_test:\n",
    "            assert type(sample) == float, \"Variable doesn't have the required type!\"\n",
    "            arr = np.array([sample**i for i in range(self.deg+1)]).reshape(1, self.deg+1)\n",
    "            result.append(arr.dot(self.weights.T)[0][0])\n",
    "            \n",
    "        return np.array(result)"
   ]
  },
  {
   "cell_type": "markdown",
   "metadata": {},
   "source": [
    "## Skip"
   ]
  },
  {
   "cell_type": "code",
   "execution_count": 135,
   "metadata": {},
   "outputs": [
    {
     "name": "stdout",
     "output_type": "stream",
     "text": [
      "Starting Training.....\n",
      "epoch: 0\n",
      "Error: 1.2661752859619195\n",
      "epoch: 100\n",
      "Error: 1.1038973895334854\n",
      "epoch: 200\n",
      "Error: 1.1038973895327169\n",
      "epoch: 300\n",
      "Error: 1.1038973895327169\n",
      "epoch: 400\n",
      "Error: 1.1038973895327169\n",
      "epoch: 500\n",
      "Error: 1.1038973895327169\n",
      "epoch: 600\n",
      "Error: 1.1038973895327169\n",
      "epoch: 700\n",
      "Error: 1.1038973895327169\n",
      "epoch: 800\n",
      "Error: 1.1038973895327169\n",
      "epoch: 900\n",
      "Error: 1.1038973895327169\n"
     ]
    }
   ],
   "source": [
    "model = PolynomialRegressionModel(3)\n",
    "model.fit(train['X'], train['Y'], lr=0.01, epochs=1000)"
   ]
  },
  {
   "cell_type": "code",
   "execution_count": 136,
   "metadata": {},
   "outputs": [],
   "source": [
    "x = model.errors.keys()\n",
    "x\n",
    "y = []\n",
    "for i in x:\n",
    "    y.append(model.errors[i])\n",
    "x = np.array(list(x))\n",
    "y = np.array(y)\n"
   ]
  },
  {
   "cell_type": "code",
   "execution_count": 137,
   "metadata": {},
   "outputs": [
    {
     "data": {
      "text/plain": [
       "array([2.31308229, 2.31308229, 2.31308229, 2.31308229, 2.31308229,\n",
       "       2.31308229, 2.31308229, 2.31308229, 2.31308229, 2.31308229,\n",
       "       2.31308229, 2.31308229, 2.31308229, 2.31308229, 2.31308229,\n",
       "       2.31308229, 2.31308229, 2.31308229, 2.31308229, 2.31308229,\n",
       "       2.18283712, 2.18283712, 2.18283712, 2.18283712, 2.18283712,\n",
       "       2.18283712, 2.18283712, 2.18283712, 2.18283712, 2.18283712,\n",
       "       2.18283712, 2.18283712, 2.18283712, 2.18283712, 2.18283712,\n",
       "       2.18283712, 2.18283712, 2.18283712, 2.18283712, 2.18283712,\n",
       "       2.12405982, 2.12405982, 2.12405982, 2.12405982, 2.12405982,\n",
       "       2.12405982, 2.12405982, 2.12405982, 2.12405982, 2.12405982,\n",
       "       2.12405982, 2.12405982, 2.12405982, 2.12405982, 2.12405982,\n",
       "       2.12405982, 2.12405982, 2.12405982, 2.12405982, 2.12405982,\n",
       "       2.06088399, 2.06088399, 2.06088399, 2.06088399, 2.06088399,\n",
       "       2.06088399, 2.06088399, 2.06088399, 2.06088399, 2.06088399,\n",
       "       2.06088399, 2.06088399, 2.06088399, 2.06088399, 2.06088399,\n",
       "       2.06088399, 2.06088399, 2.06088399, 2.06088399, 2.06088399,\n",
       "       1.99125616, 1.99125616, 1.99125616, 1.99125616, 1.99125616,\n",
       "       1.99125616, 1.99125616, 1.99125616, 1.99125616, 1.99125616,\n",
       "       1.99125616, 1.99125616, 1.99125616, 1.99125616, 1.99125616,\n",
       "       1.99125616, 1.99125616, 1.99125616, 1.99125616, 1.99125616,\n",
       "       1.93845079, 1.93845079, 1.93845079, 1.93845079, 1.93845079,\n",
       "       1.93845079, 1.93845079, 1.93845079, 1.93845079, 1.93845079,\n",
       "       1.93845079, 1.93845079, 1.93845079, 1.93845079, 1.93845079,\n",
       "       1.93845079, 1.93845079, 1.93845079, 1.93845079, 1.93845079,\n",
       "       1.84578776, 1.84578776, 1.84578776, 1.84578776, 1.84578776,\n",
       "       1.84578776, 1.84578776, 1.84578776, 1.84578776, 1.84578776,\n",
       "       1.84578776, 1.84578776, 1.84578776, 1.84578776, 1.84578776,\n",
       "       1.84578776, 1.84578776, 1.84578776, 1.84578776, 1.84578776,\n",
       "       1.75631953, 1.75631953, 1.75631953, 1.75631953, 1.75631953,\n",
       "       1.75631953, 1.75631953, 1.75631953, 1.75631953, 1.75631953,\n",
       "       1.75631953, 1.75631953, 1.75631953, 1.75631953, 1.75631953,\n",
       "       1.75631953, 1.75631953, 1.75631953, 1.75631953, 1.75631953,\n",
       "       1.70922419, 1.70922419, 1.70922419, 1.70922419, 1.70922419,\n",
       "       1.70922419, 1.70922419, 1.70922419, 1.70922419, 1.70922419,\n",
       "       1.70922419, 1.70922419, 1.70922419, 1.70922419, 1.70922419,\n",
       "       1.70922419, 1.70922419, 1.70922419, 1.70922419, 1.70922419,\n",
       "       1.69525573, 1.69525573, 1.69525573, 1.69525573, 1.69525573,\n",
       "       1.69525573, 1.69525573, 1.69525573, 1.69525573, 1.69525573,\n",
       "       1.69525573, 1.69525573, 1.69525573, 1.69525573, 1.69525573,\n",
       "       1.69525573, 1.69525573, 1.69525573, 1.69525573, 1.69525573,\n",
       "       1.65424381, 1.65424381, 1.65424381, 1.65424381, 1.65424381,\n",
       "       1.65424381, 1.65424381, 1.65424381, 1.65424381, 1.65424381,\n",
       "       1.65424381, 1.65424381, 1.65424381, 1.65424381, 1.65424381,\n",
       "       1.65424381, 1.65424381, 1.65424381, 1.65424381, 1.65424381,\n",
       "       1.63140863, 1.63140863, 1.63140863, 1.63140863, 1.63140863,\n",
       "       1.63140863, 1.63140863, 1.63140863, 1.63140863, 1.63140863,\n",
       "       1.63140863, 1.63140863, 1.63140863, 1.63140863, 1.63140863,\n",
       "       1.63140863, 1.63140863, 1.63140863, 1.63140863, 1.63140863,\n",
       "       1.60638124, 1.60638124, 1.60638124, 1.60638124, 1.60638124,\n",
       "       1.60638124, 1.60638124, 1.60638124, 1.60638124, 1.60638124,\n",
       "       1.60638124, 1.60638124, 1.60638124, 1.60638124, 1.60638124,\n",
       "       1.60638124, 1.60638124, 1.60638124, 1.60638124, 1.60638124,\n",
       "       1.57719562, 1.57719562, 1.57719562, 1.57719562, 1.57719562,\n",
       "       1.57719562, 1.57719562, 1.57719562, 1.57719562, 1.57719562,\n",
       "       1.57719562, 1.57719562, 1.57719562, 1.57719562, 1.57719562,\n",
       "       1.57719562, 1.57719562, 1.57719562, 1.57719562, 1.57719562,\n",
       "       1.55358514, 1.55358514, 1.55358514, 1.55358514, 1.55358514,\n",
       "       1.55358514, 1.55358514, 1.55358514, 1.55358514, 1.55358514,\n",
       "       1.55358514, 1.55358514, 1.55358514, 1.55358514, 1.55358514,\n",
       "       1.55358514, 1.55358514, 1.55358514, 1.55358514, 1.55358514,\n",
       "       1.5359286 , 1.5359286 , 1.5359286 , 1.5359286 , 1.5359286 ,\n",
       "       1.5359286 , 1.5359286 , 1.5359286 , 1.5359286 , 1.5359286 ,\n",
       "       1.5359286 , 1.5359286 , 1.5359286 , 1.5359286 , 1.5359286 ,\n",
       "       1.5359286 , 1.5359286 , 1.5359286 , 1.5359286 , 1.5359286 ,\n",
       "       1.5105118 , 1.5105118 , 1.5105118 , 1.5105118 , 1.5105118 ,\n",
       "       1.5105118 , 1.5105118 , 1.5105118 , 1.5105118 , 1.5105118 ,\n",
       "       1.5105118 , 1.5105118 , 1.5105118 , 1.5105118 , 1.5105118 ,\n",
       "       1.5105118 , 1.5105118 , 1.5105118 , 1.5105118 , 1.5105118 ,\n",
       "       1.47852077, 1.47852077, 1.47852077, 1.47852077, 1.47852077,\n",
       "       1.47852077, 1.47852077, 1.47852077, 1.47852077, 1.47852077,\n",
       "       1.47852077, 1.47852077, 1.47852077, 1.47852077, 1.47852077,\n",
       "       1.47852077, 1.47852077, 1.47852077, 1.47852077, 1.47852077,\n",
       "       1.46004197, 1.46004197, 1.46004197, 1.46004197, 1.46004197,\n",
       "       1.46004197, 1.46004197, 1.46004197, 1.46004197, 1.46004197,\n",
       "       1.46004197, 1.46004197, 1.46004197, 1.46004197, 1.46004197,\n",
       "       1.46004197, 1.46004197, 1.46004197, 1.46004197, 1.46004197,\n",
       "       1.43699568, 1.43699568, 1.43699568, 1.43699568, 1.43699568,\n",
       "       1.43699568, 1.43699568, 1.43699568, 1.43699568, 1.43699568,\n",
       "       1.43699568, 1.43699568, 1.43699568, 1.43699568, 1.43699568,\n",
       "       1.43699568, 1.43699568, 1.43699568, 1.43699568, 1.43699568,\n",
       "       1.41009879, 1.41009879, 1.41009879, 1.41009879, 1.41009879,\n",
       "       1.41009879, 1.41009879, 1.41009879, 1.41009879, 1.41009879,\n",
       "       1.41009879, 1.41009879, 1.41009879, 1.41009879, 1.41009879,\n",
       "       1.41009879, 1.41009879, 1.41009879, 1.41009879, 1.41009879,\n",
       "       1.38470052, 1.38470052, 1.38470052, 1.38470052, 1.38470052,\n",
       "       1.38470052, 1.38470052, 1.38470052, 1.38470052, 1.38470052,\n",
       "       1.38470052, 1.38470052, 1.38470052, 1.38470052, 1.38470052,\n",
       "       1.38470052, 1.38470052, 1.38470052, 1.38470052, 1.38470052,\n",
       "       1.37549017, 1.37549017, 1.37549017, 1.37549017, 1.37549017,\n",
       "       1.37549017, 1.37549017, 1.37549017, 1.37549017, 1.37549017,\n",
       "       1.37549017, 1.37549017, 1.37549017, 1.37549017, 1.37549017,\n",
       "       1.37549017, 1.37549017, 1.37549017, 1.37549017, 1.37549017,\n",
       "       1.37803738, 1.37803738, 1.37803738, 1.37803738, 1.37803738,\n",
       "       1.37803738, 1.37803738, 1.37803738, 1.37803738, 1.37803738,\n",
       "       1.37803738, 1.37803738, 1.37803738, 1.37803738, 1.37803738,\n",
       "       1.37803738, 1.37803738, 1.37803738, 1.37803738, 1.37803738,\n",
       "       1.36375709, 1.36375709, 1.36375709, 1.36375709, 1.36375709,\n",
       "       1.36375709, 1.36375709, 1.36375709, 1.36375709, 1.36375709,\n",
       "       1.36375709, 1.36375709, 1.36375709, 1.36375709, 1.36375709,\n",
       "       1.36375709, 1.36375709, 1.36375709, 1.36375709, 1.36375709,\n",
       "       1.35144746, 1.35144746, 1.35144746, 1.35144746, 1.35144746,\n",
       "       1.35144746, 1.35144746, 1.35144746, 1.35144746, 1.35144746,\n",
       "       1.35144746, 1.35144746, 1.35144746, 1.35144746, 1.35144746,\n",
       "       1.35144746, 1.35144746, 1.35144746, 1.35144746, 1.35144746,\n",
       "       1.33744008, 1.33744008, 1.33744008, 1.33744008, 1.33744008,\n",
       "       1.33744008, 1.33744008, 1.33744008, 1.33744008, 1.33744008,\n",
       "       1.33744008, 1.33744008, 1.33744008, 1.33744008, 1.33744008,\n",
       "       1.33744008, 1.33744008, 1.33744008, 1.33744008, 1.33744008,\n",
       "       1.32631686, 1.32631686, 1.32631686, 1.32631686, 1.32631686,\n",
       "       1.32631686, 1.32631686, 1.32631686, 1.32631686, 1.32631686,\n",
       "       1.32631686, 1.32631686, 1.32631686, 1.32631686, 1.32631686,\n",
       "       1.32631686, 1.32631686, 1.32631686, 1.32631686, 1.32631686,\n",
       "       1.32079311, 1.32079311, 1.32079311, 1.32079311, 1.32079311,\n",
       "       1.32079311, 1.32079311, 1.32079311, 1.32079311, 1.32079311,\n",
       "       1.32079311, 1.32079311, 1.32079311, 1.32079311, 1.32079311,\n",
       "       1.32079311, 1.32079311, 1.32079311, 1.32079311, 1.32079311,\n",
       "       1.31580093, 1.31580093, 1.31580093, 1.31580093, 1.31580093,\n",
       "       1.31580093, 1.31580093, 1.31580093, 1.31580093, 1.31580093,\n",
       "       1.31580093, 1.31580093, 1.31580093, 1.31580093, 1.31580093,\n",
       "       1.31580093, 1.31580093, 1.31580093, 1.31580093, 1.31580093,\n",
       "       1.31027116, 1.31027116, 1.31027116, 1.31027116, 1.31027116,\n",
       "       1.31027116, 1.31027116, 1.31027116, 1.31027116, 1.31027116,\n",
       "       1.31027116, 1.31027116, 1.31027116, 1.31027116, 1.31027116,\n",
       "       1.31027116, 1.31027116, 1.31027116, 1.31027116, 1.31027116,\n",
       "       1.30638612, 1.30638612, 1.30638612, 1.30638612, 1.30638612,\n",
       "       1.30638612, 1.30638612, 1.30638612, 1.30638612, 1.30638612,\n",
       "       1.30638612, 1.30638612, 1.30638612, 1.30638612, 1.30638612,\n",
       "       1.30638612, 1.30638612, 1.30638612, 1.30638612, 1.30638612,\n",
       "       1.2940766 , 1.2940766 , 1.2940766 , 1.2940766 , 1.2940766 ,\n",
       "       1.2940766 , 1.2940766 , 1.2940766 , 1.2940766 , 1.2940766 ,\n",
       "       1.2940766 , 1.2940766 , 1.2940766 , 1.2940766 , 1.2940766 ,\n",
       "       1.2940766 , 1.2940766 , 1.2940766 , 1.2940766 , 1.2940766 ,\n",
       "       1.28663234, 1.28663234, 1.28663234, 1.28663234, 1.28663234,\n",
       "       1.28663234, 1.28663234, 1.28663234, 1.28663234, 1.28663234,\n",
       "       1.28663234, 1.28663234, 1.28663234, 1.28663234, 1.28663234,\n",
       "       1.28663234, 1.28663234, 1.28663234, 1.28663234, 1.28663234,\n",
       "       1.28642405, 1.28642405, 1.28642405, 1.28642405, 1.28642405,\n",
       "       1.28642405, 1.28642405, 1.28642405, 1.28642405, 1.28642405,\n",
       "       1.28642405, 1.28642405, 1.28642405, 1.28642405, 1.28642405,\n",
       "       1.28642405, 1.28642405, 1.28642405, 1.28642405, 1.28642405,\n",
       "       1.27820767, 1.27820767, 1.27820767, 1.27820767, 1.27820767,\n",
       "       1.27820767, 1.27820767, 1.27820767, 1.27820767, 1.27820767,\n",
       "       1.27820767, 1.27820767, 1.27820767, 1.27820767, 1.27820767,\n",
       "       1.27820767, 1.27820767, 1.27820767, 1.27820767, 1.27820767,\n",
       "       1.27672218, 1.27672218, 1.27672218, 1.27672218, 1.27672218,\n",
       "       1.27672218, 1.27672218, 1.27672218, 1.27672218, 1.27672218,\n",
       "       1.27672218, 1.27672218, 1.27672218, 1.27672218, 1.27672218,\n",
       "       1.27672218, 1.27672218, 1.27672218, 1.27672218, 1.27672218,\n",
       "       1.27247206, 1.27247206, 1.27247206, 1.27247206, 1.27247206,\n",
       "       1.27247206, 1.27247206, 1.27247206, 1.27247206, 1.27247206,\n",
       "       1.27247206, 1.27247206, 1.27247206, 1.27247206, 1.27247206,\n",
       "       1.27247206, 1.27247206, 1.27247206, 1.27247206, 1.27247206,\n",
       "       1.27188017, 1.27188017, 1.27188017, 1.27188017, 1.27188017,\n",
       "       1.27188017, 1.27188017, 1.27188017, 1.27188017, 1.27188017,\n",
       "       1.27188017, 1.27188017, 1.27188017, 1.27188017, 1.27188017,\n",
       "       1.27188017, 1.27188017, 1.27188017, 1.27188017, 1.27188017,\n",
       "       1.26617529, 1.26617529, 1.26617529, 1.26617529, 1.26617529,\n",
       "       1.26617529, 1.26617529, 1.26617529, 1.26617529, 1.26617529,\n",
       "       1.26617529, 1.26617529, 1.26617529, 1.26617529, 1.26617529,\n",
       "       1.26617529, 1.26617529, 1.26617529, 1.26617529, 1.26617529])"
      ]
     },
     "execution_count": 137,
     "metadata": {},
     "output_type": "execute_result"
    }
   ],
   "source": [
    "y"
   ]
  },
  {
   "cell_type": "code",
   "execution_count": 139,
   "metadata": {},
   "outputs": [
    {
     "data": {
      "image/png": "[encoded data removed]",
      "text/plain": [
       "<Figure size 640x480 with 1 Axes>"
      ]
     },
     "metadata": {},
     "output_type": "display_data"
    }
   ],
   "source": [
    "plt.plot(x, y)\n",
    "plt.show()"
   ]
  },
  {
   "cell_type": "code",
   "execution_count": 126,
   "metadata": {},
   "outputs": [
    {
     "data": {
      "text/plain": [
       "array([ 1.46568795e-01,  1.59482557e-03,  3.96679279e-01,  1.11967894e-01,\n",
       "        5.74978170e-01, -1.13894111e-02, -5.87396191e-02,  1.09876932e+00,\n",
       "        2.16958488e+00,  1.53482830e-02, -1.84048619e-01,  5.01942922e-01,\n",
       "       -8.49349683e-02,  6.63050602e-02,  1.12440976e-01,  1.55469768e+00,\n",
       "        5.37176330e-02,  1.38425708e+00,  6.96916098e-01, -1.54380075e-01,\n",
       "        9.86068363e-01,  8.14827575e-03,  1.29802169e-01, -9.50299359e-01,\n",
       "        7.31861152e-02,  2.04279969e+00,  1.08577975e+00,  7.98496818e-02,\n",
       "        9.94339864e-02,  1.54624610e+00,  6.27210436e-01,  9.27457926e-01,\n",
       "        8.68146093e-02,  4.43381987e-01, -1.52018981e-01,  3.47339698e-01,\n",
       "        2.08445055e+00, -3.29479620e-01, -8.84920626e-01,  1.83456167e-01,\n",
       "       -5.22737854e-02,  7.45701782e-02,  1.28568547e-01, -2.07967715e-01,\n",
       "        5.37378669e-01,  4.64064626e-02,  5.19394815e-01,  3.59234138e-02,\n",
       "        7.89951800e-02,  1.26760099e-01,  4.35531075e-02,  5.22948742e-01,\n",
       "        3.80401078e-01,  2.29069193e+00, -7.17247246e-01,  8.64162387e-02,\n",
       "        8.88081278e-01, -6.70892711e-04, -2.43499625e-02,  1.16863356e-01,\n",
       "       -4.78807565e-01,  5.30120718e-01, -3.19043849e-01, -1.03979824e+00,\n",
       "        7.27182893e-02,  3.82895328e-02,  9.20573128e-03, -9.43791536e-02,\n",
       "        1.47170288e+00, -2.75976195e-01, -4.07972597e-01,  3.08444965e-01,\n",
       "       -6.62640949e-01,  1.48803279e+00,  1.79024597e-01, -1.01170934e+00,\n",
       "        4.49567071e-01,  4.31246762e-01, -9.24609107e-02,  2.84034100e-02,\n",
       "        9.44747251e-01,  9.31033521e-02,  8.15327833e-02,  3.75083714e-02,\n",
       "        9.38863577e-02,  2.61271171e-01, -4.40468861e-01,  2.16479923e-01,\n",
       "        2.92712525e-02,  2.29761918e-01, -1.05402843e+00,  1.10568735e-01,\n",
       "        7.03273908e-02, -1.81930658e-03,  4.65377018e-01,  1.41277080e-01,\n",
       "       -4.11954514e-01,  5.67281722e-01,  2.28235883e-01, -6.84159948e-01,\n",
       "        7.43640464e-01,  1.23853190e-01,  3.91180068e-01, -4.00076716e-01,\n",
       "       -8.67945432e-02,  2.17906113e-01,  8.23661911e-01,  1.42351112e+00,\n",
       "       -1.29319407e-01, -4.36326209e-01, -1.11220094e+00,  3.59704737e-01,\n",
       "        4.42766864e-02,  2.27948639e+00, -7.86390405e-01,  1.01878815e-01,\n",
       "        1.62354254e+00,  2.97895198e-01,  3.09822915e-02, -7.68728697e-01,\n",
       "        1.64109869e+00,  8.76084659e-02,  4.05886092e-02,  3.35402483e-01,\n",
       "        1.31564469e+00,  1.39204250e+00,  8.31851791e-02,  1.84352474e+00,\n",
       "       -3.08796638e-01,  2.06354924e+00,  4.22348658e-01,  2.31300756e-01,\n",
       "        1.22108700e+00, -1.04689780e+00,  1.04811541e-01,  9.80080756e-01,\n",
       "        2.91752307e-01,  4.62175057e-01, -3.58244942e-01, -1.90286639e-02,\n",
       "        1.17889515e-01,  9.56412777e-01,  1.22817281e+00,  1.71272024e+00,\n",
       "       -1.14389992e-01,  2.59489583e-01, -6.10697137e-01, -8.59595066e-01,\n",
       "        5.26524019e-01, -8.93208056e-03,  6.83482404e-02,  9.62287548e-01,\n",
       "        8.71614521e-01, -1.59152906e-01, -4.24037032e-01,  8.80040955e-02,\n",
       "        7.48450077e-01,  1.27357413e-01, -1.22826118e-01, -9.84111942e-01,\n",
       "       -3.47296863e-01,  2.20795253e-01,  1.34581690e+00,  9.27121307e-02,\n",
       "        2.01578423e-01, -1.02569206e+00, -1.01552617e-02,  1.61481646e+00,\n",
       "       -9.36985333e-01,  2.71227362e-03,  6.14813241e-01, -1.08286319e+00,\n",
       "       -9.10715849e-01, -7.74587848e-01, -1.66439840e-01, -4.19986660e-01,\n",
       "        3.77751626e-01,  6.31101792e-02,  6.52580225e-02, -6.88421108e-02,\n",
       "        4.34251380e-01,  1.13845267e+00, -8.40906348e-01, -6.31159760e-01,\n",
       "        1.76791930e+00,  5.59674123e-01,  1.08299447e-01,  1.44257418e-01,\n",
       "        1.18932702e-01, -9.05574426e-02,  1.39829116e-01,  8.19485814e-02,\n",
       "       -3.54573937e-01,  1.95128939e+00,  9.19298916e-02,  2.12671074e+00,\n",
       "        1.92817830e-01,  5.86690688e-01,  9.33193268e-01, -2.10716263e-01])"
      ]
     },
     "execution_count": 126,
     "metadata": {},
     "output_type": "execute_result"
    }
   ],
   "source": [
    "y_pred = model.predict(test['X'])\n",
    "y_pred"
   ]
  },
  {
   "cell_type": "code",
   "execution_count": 127,
   "metadata": {},
   "outputs": [
    {
     "data": {
      "text/plain": [
       "3      0.737320\n",
       "8     -0.566798\n",
       "9      2.219073\n",
       "10     0.341446\n",
       "28     1.116080\n",
       "         ...   \n",
       "975    5.692382\n",
       "983   -0.517849\n",
       "994    1.611825\n",
       "995    3.079356\n",
       "996    0.027487\n",
       "Name: Y, Length: 200, dtype: float64"
      ]
     },
     "execution_count": 127,
     "metadata": {},
     "output_type": "execute_result"
    }
   ],
   "source": [
    "test['Y']"
   ]
  },
  {
   "cell_type": "code",
   "execution_count": 128,
   "metadata": {},
   "outputs": [
    {
     "data": {
      "text/plain": [
       "<matplotlib.collections.PathCollection at 0x7fa6d84d8d90>"
      ]
     },
     "execution_count": 128,
     "metadata": {},
     "output_type": "execute_result"
    },
    {
     "data": {
      "image/png": "[encoded data removed]",
      "text/plain": [
       "<Figure size 640x480 with 1 Axes>"
      ]
     },
     "metadata": {},
     "output_type": "display_data"
    }
   ],
   "source": [
    "plt.scatter(test['X'], test['Y'], s=5, c='red')\n",
    "plt.scatter(test['X'], y_pred, s=5, c='blue')"
   ]
  }
 ],
 "metadata": {
  "kernelspec": {
   "display_name": ".venv",
   "language": "python",
   "name": "python3"
  },
  "language_info": {
   "codemirror_mode": {
    "name": "ipython",
    "version": 3
   },
   "file_extension": ".py",
   "mimetype": "text/x-python",
   "name": "python",
   "nbconvert_exporter": "python",
   "pygments_lexer": "ipython3",
   "version": "3.11.5"
  },
  "orig_nbformat": 4
 },
 "nbformat": 4,
 "nbformat_minor": 2
}
