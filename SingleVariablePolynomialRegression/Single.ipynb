{
 "cells": [
  {
   "cell_type": "markdown",
   "metadata": {},
   "source": [
    "# Single Variable Polynomial Regression"
   ]
  },
  {
   "cell_type": "markdown",
   "metadata": {},
   "source": [
    "## Install Dependencies"
   ]
  },
  {
   "cell_type": "code",
   "execution_count": 13,
   "metadata": {},
   "outputs": [],
   "source": [
    "import numpy as np\n",
    "import pandas as pd\n",
    "import matplotlib.pyplot as plt"
   ]
  },
  {
   "cell_type": "markdown",
   "metadata": {},
   "source": [
    "## Import Dataset"
   ]
  },
  {
   "cell_type": "code",
   "execution_count": 14,
   "metadata": {},
   "outputs": [],
   "source": [
    "df = pd.read_csv('../SingleVariablePolynomialRegression/data/Data.csv')"
   ]
  },
  {
   "cell_type": "code",
   "execution_count": 15,
   "metadata": {},
   "outputs": [
    {
     "data": {
      "text/html": [
       "<div>\n",
       "<style scoped>\n",
       "    .dataframe tbody tr th:only-of-type {\n",
       "        vertical-align: middle;\n",
       "    }\n",
       "\n",
       "    .dataframe tbody tr th {\n",
       "        vertical-align: top;\n",
       "    }\n",
       "\n",
       "    .dataframe thead th {\n",
       "        text-align: right;\n",
       "    }\n",
       "</style>\n",
       "<table border=\"1\" class=\"dataframe\">\n",
       "  <thead>\n",
       "    <tr style=\"text-align: right;\">\n",
       "      <th></th>\n",
       "      <th>X</th>\n",
       "      <th>Y</th>\n",
       "    </tr>\n",
       "  </thead>\n",
       "  <tbody>\n",
       "    <tr>\n",
       "      <th>0</th>\n",
       "      <td>0.987988</td>\n",
       "      <td>5.098368</td>\n",
       "    </tr>\n",
       "    <tr>\n",
       "      <th>1</th>\n",
       "      <td>0.719720</td>\n",
       "      <td>2.516654</td>\n",
       "    </tr>\n",
       "    <tr>\n",
       "      <th>2</th>\n",
       "      <td>-0.403403</td>\n",
       "      <td>0.337961</td>\n",
       "    </tr>\n",
       "    <tr>\n",
       "      <th>3</th>\n",
       "      <td>0.107107</td>\n",
       "      <td>0.737320</td>\n",
       "    </tr>\n",
       "    <tr>\n",
       "      <th>4</th>\n",
       "      <td>0.345345</td>\n",
       "      <td>-0.780955</td>\n",
       "    </tr>\n",
       "  </tbody>\n",
       "</table>\n",
       "</div>"
      ],
      "text/plain": [
       "          X         Y\n",
       "0  0.987988  5.098368\n",
       "1  0.719720  2.516654\n",
       "2 -0.403403  0.337961\n",
       "3  0.107107  0.737320\n",
       "4  0.345345 -0.780955"
      ]
     },
     "execution_count": 15,
     "metadata": {},
     "output_type": "execute_result"
    }
   ],
   "source": [
    "df.head()"
   ]
  },
  {
   "cell_type": "markdown",
   "metadata": {},
   "source": [
    "### Note: No NAN Values"
   ]
  },
  {
   "cell_type": "code",
   "execution_count": 16,
   "metadata": {},
   "outputs": [
    {
     "data": {
      "text/plain": [
       "X    0\n",
       "Y    0\n",
       "dtype: int64"
      ]
     },
     "execution_count": 16,
     "metadata": {},
     "output_type": "execute_result"
    }
   ],
   "source": [
    "df.isna().sum()"
   ]
  },
  {
   "cell_type": "markdown",
   "metadata": {},
   "source": [
    "## Normalize the feature X"
   ]
  },
  {
   "cell_type": "code",
   "execution_count": 17,
   "metadata": {},
   "outputs": [],
   "source": [
    "df['X'] = (df['X']-np.mean(df['X']))/np.std(df['X'])"
   ]
  },
  {
   "cell_type": "code",
   "execution_count": 18,
   "metadata": {},
   "outputs": [
    {
     "data": {
      "text/html": [
       "<div>\n",
       "<style scoped>\n",
       "    .dataframe tbody tr th:only-of-type {\n",
       "        vertical-align: middle;\n",
       "    }\n",
       "\n",
       "    .dataframe tbody tr th {\n",
       "        vertical-align: top;\n",
       "    }\n",
       "\n",
       "    .dataframe thead th {\n",
       "        text-align: right;\n",
       "    }\n",
       "</style>\n",
       "<table border=\"1\" class=\"dataframe\">\n",
       "  <thead>\n",
       "    <tr style=\"text-align: right;\">\n",
       "      <th></th>\n",
       "      <th>X</th>\n",
       "      <th>Y</th>\n",
       "    </tr>\n",
       "  </thead>\n",
       "  <tbody>\n",
       "    <tr>\n",
       "      <th>0</th>\n",
       "      <td>1.709535</td>\n",
       "      <td>5.098368</td>\n",
       "    </tr>\n",
       "    <tr>\n",
       "      <th>1</th>\n",
       "      <td>1.245345</td>\n",
       "      <td>2.516654</td>\n",
       "    </tr>\n",
       "    <tr>\n",
       "      <th>2</th>\n",
       "      <td>-0.698017</td>\n",
       "      <td>0.337961</td>\n",
       "    </tr>\n",
       "    <tr>\n",
       "      <th>3</th>\n",
       "      <td>0.185330</td>\n",
       "      <td>0.737320</td>\n",
       "    </tr>\n",
       "    <tr>\n",
       "      <th>4</th>\n",
       "      <td>0.597558</td>\n",
       "      <td>-0.780955</td>\n",
       "    </tr>\n",
       "  </tbody>\n",
       "</table>\n",
       "</div>"
      ],
      "text/plain": [
       "          X         Y\n",
       "0  1.709535  5.098368\n",
       "1  1.245345  2.516654\n",
       "2 -0.698017  0.337961\n",
       "3  0.185330  0.737320\n",
       "4  0.597558 -0.780955"
      ]
     },
     "execution_count": 18,
     "metadata": {},
     "output_type": "execute_result"
    }
   ],
   "source": [
    "df.head()"
   ]
  },
  {
   "cell_type": "markdown",
   "metadata": {},
   "source": [
    "## Generate Random Test and Train Splits"
   ]
  },
  {
   "cell_type": "code",
   "execution_count": 19,
   "metadata": {},
   "outputs": [],
   "source": [
    "seed = 420\n",
    "train_fraction = 0.8\n",
    "train = df.sample(frac=train_fraction, random_state=seed)\n",
    "test = df.drop(train.index)"
   ]
  },
  {
   "cell_type": "code",
   "execution_count": 20,
   "metadata": {},
   "outputs": [
    {
     "data": {
      "text/plain": [
       "<bound method DataFrame.info of             X         Y\n",
       "715 -1.259202  0.035008\n",
       "353  1.591755  2.834778\n",
       "507  0.105655 -1.238693\n",
       "713  0.943968  0.730347\n",
       "553 -0.500563  0.381970\n",
       "..        ...       ...\n",
       "252 -1.435871  0.610148\n",
       "327  0.012124  0.765786\n",
       "115 -0.396640 -0.704895\n",
       "174 -0.025981  2.100271\n",
       "701 -1.629861 -0.873611\n",
       "\n",
       "[800 rows x 2 columns]>"
      ]
     },
     "execution_count": 20,
     "metadata": {},
     "output_type": "execute_result"
    }
   ],
   "source": [
    "train.info"
   ]
  },
  {
   "cell_type": "code",
   "execution_count": 21,
   "metadata": {},
   "outputs": [
    {
     "data": {
      "text/plain": [
       "<bound method DataFrame.info of             X         Y\n",
       "3    0.185330  0.737320\n",
       "8   -0.670304 -0.566798\n",
       "9    0.715337  2.219073\n",
       "10  -0.012124  0.341446\n",
       "28   0.902399  1.116080\n",
       "..        ...       ...\n",
       "975  1.674894  5.692382\n",
       "983  0.348142 -0.517849\n",
       "994  0.912791  1.611825\n",
       "995  1.162207  3.079356\n",
       "996 -1.065212  0.027487\n",
       "\n",
       "[200 rows x 2 columns]>"
      ]
     },
     "execution_count": 21,
     "metadata": {},
     "output_type": "execute_result"
    }
   ],
   "source": [
    "test.info"
   ]
  },
  {
   "cell_type": "markdown",
   "metadata": {},
   "source": [
    "## Polynomial Regression Model"
   ]
  },
  {
   "cell_type": "code",
   "execution_count": 34,
   "metadata": {},
   "outputs": [],
   "source": [
    "class PolynomialRegressionModel:\n",
    "    def __init__(self, degree):\n",
    "        \"\"\"\n",
    "        Polynomial Regression Model for some particular degree.\n",
    "        \"\"\"\n",
    "        self.errors = {}\n",
    "        self.test_errors = {}\n",
    "        self.deg = degree\n",
    "        self.weights = np.random.rand(1, degree+1)\n",
    "\n",
    "    def calculate_loss(self, input, target):\n",
    "        # print('inside self.calculate_loss()')\n",
    "        assert type(input) == float and type(target) == float, \"Types are not matching. Check!\"\n",
    "        result = []\n",
    "        prediction = self.predict([input])\n",
    "        # print('predicted:')\n",
    "        # print(prediction)\n",
    "        # print('expected')\n",
    "        # print(target)\n",
    "        for i in range(self.deg+1):\n",
    "            result.append(\n",
    "                (input**i)*(prediction-target)\n",
    "            )\n",
    "        # print('loss: ')\n",
    "        # print(result)\n",
    "        return np.array(result).reshape(self.weights.shape)\n",
    "\n",
    "    def fit(self, X_train, y_train, X_test, y_test, lr=0.01, epochs=500, batch_size=20):\n",
    "        \"\"\"\n",
    "        Fit the polynomial regression model using Batch Gradient Descent.\n",
    "\n",
    "        Parameters:\n",
    "        X_train: Input Feature variable (only one!)\n",
    "        y_train: Target Variable\n",
    "        X_test: Input Feature variable (only one!) for test\n",
    "        y_test: Target Variable for test\n",
    "        lr: Learning Rate for Gradient Descent\n",
    "        epochs: No of Epochs to train\n",
    "\n",
    "        Returns:\n",
    "        NA\n",
    "        \"\"\"\n",
    "        print('Starting Training.....')\n",
    "        for epoch in range(epochs):\n",
    "            count = 0\n",
    "            loss = np.zeros_like(self.weights)\n",
    "            for train_sample, test_sample in zip(zip(X_train, y_train), zip(X_test, y_test)):\n",
    "                train_input, train_target = train_sample\n",
    "                test_input, test_target = test_sample\n",
    "\n",
    "                if count % batch_size == 0:\n",
    "                    loss /= batch_size\n",
    "                    self.weights *= 0.995\n",
    "                    self.weights -= lr * loss\n",
    "                    loss = np.zeros_like(self.weights)\n",
    "                else:\n",
    "                    loss += self.calculate_loss(train_input, train_target)\n",
    "\n",
    "                count += 1\n",
    "\n",
    "                if epoch == 0:\n",
    "                    self.errors[count] = self.calculate_error(X_train, y_train);\n",
    "                    self.test_errors[count] = self.calculate_error(X_test, y_test);\n",
    "\n",
    "            # if epoch % (epochs / 10) == 0:\n",
    "            #     print(f\"epoch: {epoch}\")\n",
    "            #     print(f\"Train Error: {self.calculate_error(X_train, y_train)}\")\n",
    "            #     print(f\"Test Error: {self.calculate_error(X_test, y_test)}\")\n",
    "        return\n",
    "    \n",
    "\n",
    "    def calculate_error(self, X_test, y_test):\n",
    "        \"\"\"\n",
    "        Find the error of the model on some data.\n",
    "\n",
    "        Parameters:\n",
    "        X_test: The sample Input Feature.\n",
    "        y_test: The sample Target Feature.\n",
    "\n",
    "        Returns:\n",
    "        A float value that is the MSE b/w the predicted outputs and the target outputs.\n",
    "        \"\"\"\n",
    "        predictions = self.predict(X_test)\n",
    "        mse = np.mean(\n",
    "            (predictions-y_test)**2\n",
    "        )\n",
    "        return mse\n",
    "\n",
    "    def predict(self, X_test):\n",
    "        \"\"\"\n",
    "        Make Predictions using the trained model.\n",
    "\n",
    "        Parameters:\n",
    "        X_test: The sample Input Features.\n",
    "\n",
    "        Returns:\n",
    "        A numpy Array with the predicted target variable value for each of the samples having\n",
    "        same dimensions as X_test.\n",
    "        \"\"\"\n",
    "        result = [] \n",
    "        for sample in X_test:\n",
    "            assert type(sample) == float, \"Variable doesn't have the required type!\"\n",
    "            arr = np.array([sample**i for i in range(self.deg+1)]).reshape(1, self.deg+1)\n",
    "            result.append(arr.dot(self.weights.T)[0][0])\n",
    "            \n",
    "        return np.array(result)"
   ]
  },
  {
   "cell_type": "markdown",
   "metadata": {},
   "source": [
    "## Build Models"
   ]
  },
  {
   "cell_type": "code",
   "execution_count": 48,
   "metadata": {},
   "outputs": [
    {
     "name": "stdout",
     "output_type": "stream",
     "text": [
      "Starting Training.....\n",
      "Degree 1:\n",
      "Minimum Train Error: 3.0387116412653654\n",
      "Minimum Test Error: 3.22865515489117\n",
      "-------------------\n",
      "Starting Training.....\n",
      "Degree 2:\n",
      "Minimum Train Error: 1.7049318379561118\n",
      "Minimum Test Error: 1.7856421089696888\n",
      "-------------------\n",
      "Starting Training.....\n",
      "Degree 3:\n",
      "Minimum Train Error: 1.5961506841567603\n",
      "Minimum Test Error: 1.5157169984152485\n",
      "-------------------\n",
      "Starting Training.....\n",
      "Degree 4:\n",
      "Minimum Train Error: 1.813951491623132\n",
      "Minimum Test Error: 2.026601955727504\n",
      "-------------------\n",
      "Starting Training.....\n",
      "Degree 5:\n",
      "Minimum Train Error: 2.300305464439856\n",
      "Minimum Test Error: 2.4025211100270085\n",
      "-------------------\n",
      "Starting Training.....\n",
      "Degree 6:\n",
      "Minimum Train Error: 1.0814803503008414\n",
      "Minimum Test Error: 0.9872833046317888\n",
      "-------------------\n",
      "Starting Training.....\n",
      "Degree 7:\n",
      "Minimum Train Error: 2.1601599557341955\n",
      "Minimum Test Error: 2.0210092659858145\n",
      "-------------------\n",
      "Starting Training.....\n"
     ]
    },
    {
     "name": "stderr",
     "output_type": "stream",
     "text": [
      "/tmp/ipykernel_41886/129019898.py:57: RuntimeWarning: overflow encountered in add\n",
      "  loss += self.calculate_loss(train_input, train_target)\n",
      "/tmp/ipykernel_41886/129019898.py:57: RuntimeWarning: invalid value encountered in add\n",
      "  loss += self.calculate_loss(train_input, train_target)\n",
      "/tmp/ipykernel_41886/129019898.py:54: RuntimeWarning: invalid value encountered in subtract\n",
      "  self.weights -= lr * loss\n"
     ]
    },
    {
     "name": "stdout",
     "output_type": "stream",
     "text": [
      "Degree 8:\n",
      "Minimum Train Error: 146.73525590282588\n",
      "Minimum Test Error: 152.70227499684302\n",
      "-------------------\n",
      "Starting Training.....\n"
     ]
    },
    {
     "name": "stderr",
     "output_type": "stream",
     "text": [
      "/tmp/ipykernel_41886/129019898.py:22: RuntimeWarning: overflow encountered in multiply\n",
      "  (input**i)*(prediction-target)\n"
     ]
    },
    {
     "name": "stdout",
     "output_type": "stream",
     "text": [
      "Degree 9:\n",
      "Minimum Train Error: 890.486153778923\n",
      "Minimum Test Error: 960.1266215907754\n",
      "-------------------\n",
      "Best degree of polynomial: 6\n"
     ]
    }
   ],
   "source": [
    "# Create a folder to store the plots and CSV (if it doesn't exist)\n",
    "import os\n",
    "if not os.path.exists('output'):\n",
    "    os.makedirs('output')\n",
    "\n",
    "degrees = [1,2,3,4,5,6,7,8,9]\n",
    "\n",
    "# Create lists to store minimum train and test errors for each degree\n",
    "all_train_errors = []\n",
    "all_test_errors = []\n",
    "min_train_errors = []\n",
    "min_test_errors = []\n",
    "\n",
    "for deg in degrees:\n",
    "    model = PolynomialRegressionModel(deg)\n",
    "    model.fit(train['X'], train['Y'], test['X'], test['Y'], lr=0.01, epochs=500)\n",
    "    \n",
    "    # Store training and testing errors for this degree\n",
    "    train_errors = [[entry for entry in model.errors.values()]]\n",
    "    test_errors = [[entry for entry in model.test_errors.values()]]\n",
    "    \n",
    "    all_train_errors.append(train_errors)\n",
    "    all_test_errors.append(test_errors)\n",
    "    \n",
    "    # Get the minimum training and testing errors\n",
    "    min_train_error = min([entry for entry in model.errors.values()])\n",
    "    min_test_error = min([entry for entry in model.test_errors.values()])\n",
    "    \n",
    "    min_train_errors.append(min_train_error)\n",
    "    min_test_errors.append(min_test_error)\n",
    "    \n",
    "    print(f\"Degree {deg}:\")\n",
    "    print(f\"Minimum Train Error: {min_train_error}\")\n",
    "    print(f\"Minimum Test Error: {min_test_error}\")\n",
    "    print(\"-------------------\")\n",
    "\n",
    "# Display the best degree\n",
    "best_degree = degrees[np.argmin(min_train_errors)]\n",
    "print(f\"Best degree of polynomial: {best_degree}\")\n"
   ]
  },
  {
   "cell_type": "code",
   "execution_count": 49,
   "metadata": {},
   "outputs": [
    {
     "data": {
      "image/png": "[encoded data removed]",
      "text/plain": [
       "<Figure size 640x480 with 1 Axes>"
      ]
     },
     "metadata": {},
     "output_type": "display_data"
    }
   ],
   "source": [
    "# Plot minimum test error vs. degree and minimum train error vs. degree\n",
    "plt.plot(degrees, min_train_errors, label='Minimum Train Error', marker='o')\n",
    "plt.plot(degrees, min_test_errors, label='Minimum Test Error', marker='o')\n",
    "plt.xlabel('Degree of Polynomial')\n",
    "plt.ylabel('Mean Squared Error')\n",
    "plt.title('Minimum Train and Test Errors vs. Degree of Polynomial')\n",
    "plt.legend()\n",
    "\n",
    "# Save the plot\n",
    "plt.savefig('output/min_errors_vs_degree.png')\n",
    "plt.show()\n",
    "plt.close()"
   ]
  },
  {
   "cell_type": "code",
   "execution_count": null,
   "metadata": {},
   "outputs": [],
   "source": [
    "# Plot training and testing errors vs. epochs for all degrees\n",
    "for i, deg in enumerate(degrees):\n",
    "    train_errors = all_train_errors[i]\n",
    "    test_errors = all_test_errors[i]\n",
    "    epochs = np.arange(1, len(train_errors)+1)\n",
    "    \n",
    "    plt.plot(epochs, train_errors, label=f'Degree {deg} Train', alpha=0.7)\n",
    "    plt.plot(epochs, test_errors, label=f'Degree {deg} Test', alpha=0.7)\n",
    "\n",
    "plt.xlabel('Epochs')\n",
    "plt.ylabel('Mean Squared Error')\n",
    "plt.title('Training and Testing Errors vs. Epochs for Different Polynomial Degrees')\n",
    "plt.legend()\n",
    "plt.savefig('output/all_errors_vs_epochs.png')\n",
    "plt.show()\n",
    "plt.close()"
   ]
  },
  {
   "cell_type": "code",
   "execution_count": 51,
   "metadata": {},
   "outputs": [
    {
     "name": "stdout",
     "output_type": "stream",
     "text": [
      "Starting Training.....\n"
     ]
    },
    {
     "data": {
      "image/png": "[encoded data removed]",
      "text/plain": [
       "<Figure size 640x480 with 1 Axes>"
      ]
     },
     "metadata": {},
     "output_type": "display_data"
    }
   ],
   "source": [
    "# Use the best degree to fit the best polynomial model\n",
    "best_model = PolynomialRegressionModel(best_degree)\n",
    "best_model.fit(train['X'], train['Y'], test['X'], test['Y'], lr=0.01, epochs=500)\n",
    "\n",
    "# Generate a set of points for visualization\n",
    "x_min = train['X'].min()\n",
    "x_max = train['X'].max()\n",
    "x_values = np.linspace(x_min, x_max, 100)\n",
    "x_values = [float(x) for x in x_values]  # Ensure x_values contains float values\n",
    "y_values = best_model.predict(x_values)\n",
    "\n",
    "# Plot the data points\n",
    "plt.scatter(train['X'], train['Y'], s=10, c='red', label='Data Points')\n",
    "\n",
    "# Plot the best polynomial curve\n",
    "plt.plot(x_values, y_values, label=f'Best Polynomial (Degree {best_degree})', c='blue')\n",
    "\n",
    "plt.xlabel('X')\n",
    "plt.ylabel('Y')\n",
    "plt.title('Best Polynomial Fitted Curve')\n",
    "plt.legend()\n",
    "all_train_errors\n",
    "# Save the plot\n",
    "plt.savefig(f'output/best_polynomial_fit_degree_{best_degree}.png')\n",
    "plt.show()\n",
    "plt.close()"
   ]
  }
 ],
 "metadata": {
  "kernelspec": {
   "display_name": "Python 3",
   "language": "python",
   "name": "python3"
  },
  "language_info": {
   "codemirror_mode": {
    "name": "ipython",
    "version": 3
   },
   "file_extension": ".py",
   "mimetype": "text/x-python",
   "name": "python",
   "nbconvert_exporter": "python",
   "pygments_lexer": "ipython3",
   "version": "3.11.5"
  },
  "orig_nbformat": 4
 },
 "nbformat": 4,
 "nbformat_minor": 2
}
