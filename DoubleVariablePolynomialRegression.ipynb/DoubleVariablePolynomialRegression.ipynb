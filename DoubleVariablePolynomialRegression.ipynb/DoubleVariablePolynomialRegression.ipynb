{
 "cells": [
  {
   "cell_type": "markdown",
   "metadata": {},
   "source": [
    "# Double Variable Polynomial Regression"
   ]
  },
  {
   "cell_type": "markdown",
   "metadata": {},
   "source": [
    "## Install and Import Dependencies"
   ]
  },
  {
   "cell_type": "code",
   "execution_count": 1,
   "metadata": {},
   "outputs": [
    {
     "name": "stdout",
     "output_type": "stream",
     "text": [
      "Defaulting to user installation because normal site-packages is not writeable\n",
      "Requirement already satisfied: numpy in /home/mpradyumna/.local/lib/python3.11/site-packages (1.26.1)\n",
      "Requirement already satisfied: pandas in /home/mpradyumna/.local/lib/python3.11/site-packages (2.1.1)\n",
      "Requirement already satisfied: matplotlib in /home/mpradyumna/.local/lib/python3.11/site-packages (3.8.0)\n",
      "Requirement already satisfied: python-dateutil>=2.8.2 in /usr/lib/python3.11/site-packages (from pandas) (2.8.2)\n",
      "Requirement already satisfied: pytz>=2020.1 in /home/mpradyumna/.local/lib/python3.11/site-packages (from pandas) (2023.3.post1)\n",
      "Requirement already satisfied: tzdata>=2022.1 in /home/mpradyumna/.local/lib/python3.11/site-packages (from pandas) (2023.3)\n",
      "Requirement already satisfied: contourpy>=1.0.1 in /home/mpradyumna/.local/lib/python3.11/site-packages (from matplotlib) (1.1.1)\n",
      "Requirement already satisfied: cycler>=0.10 in /home/mpradyumna/.local/lib/python3.11/site-packages (from matplotlib) (0.12.1)\n",
      "Requirement already satisfied: fonttools>=4.22.0 in /home/mpradyumna/.local/lib/python3.11/site-packages (from matplotlib) (4.43.1)\n",
      "Requirement already satisfied: kiwisolver>=1.0.1 in /home/mpradyumna/.local/lib/python3.11/site-packages (from matplotlib) (1.4.5)\n",
      "Requirement already satisfied: packaging>=20.0 in /home/mpradyumna/.local/lib/python3.11/site-packages (from matplotlib) (23.2)\n",
      "Requirement already satisfied: pillow>=6.2.0 in /home/mpradyumna/.local/lib/python3.11/site-packages (from matplotlib) (10.0.1)\n",
      "Requirement already satisfied: pyparsing>=2.3.1 in /home/mpradyumna/.local/lib/python3.11/site-packages (from matplotlib) (3.1.1)\n",
      "Requirement already satisfied: six>=1.5 in /usr/lib/python3.11/site-packages (from python-dateutil>=2.8.2->pandas) (1.16.0)\n",
      "Note: you may need to restart the kernel to use updated packages.\n"
     ]
    }
   ],
   "source": [
    "%pip install numpy pandas matplotlib"
   ]
  },
  {
   "cell_type": "code",
   "execution_count": 2,
   "metadata": {},
   "outputs": [],
   "source": [
    "import matplotlib.pyplot as plt\n",
    "import numpy as np\n",
    "import pandas as pd"
   ]
  },
  {
   "cell_type": "markdown",
   "metadata": {},
   "source": [
    "## Load Data"
   ]
  },
  {
   "cell_type": "code",
   "execution_count": 3,
   "metadata": {},
   "outputs": [],
   "source": [
    "df = pd.read_csv('../DoubleVariablePolynomialRegression.ipynb/data/Fish.csv')"
   ]
  },
  {
   "cell_type": "code",
   "execution_count": 4,
   "metadata": {},
   "outputs": [
    {
     "data": {
      "text/html": [
       "<div>\n",
       "<style scoped>\n",
       "    .dataframe tbody tr th:only-of-type {\n",
       "        vertical-align: middle;\n",
       "    }\n",
       "\n",
       "    .dataframe tbody tr th {\n",
       "        vertical-align: top;\n",
       "    }\n",
       "\n",
       "    .dataframe thead th {\n",
       "        text-align: right;\n",
       "    }\n",
       "</style>\n",
       "<table border=\"1\" class=\"dataframe\">\n",
       "  <thead>\n",
       "    <tr style=\"text-align: right;\">\n",
       "      <th></th>\n",
       "      <th>Height</th>\n",
       "      <th>Width</th>\n",
       "      <th>Weight</th>\n",
       "    </tr>\n",
       "  </thead>\n",
       "  <tbody>\n",
       "    <tr>\n",
       "      <th>0</th>\n",
       "      <td>11.5200</td>\n",
       "      <td>4.0200</td>\n",
       "      <td>242.0</td>\n",
       "    </tr>\n",
       "    <tr>\n",
       "      <th>1</th>\n",
       "      <td>12.4800</td>\n",
       "      <td>4.3056</td>\n",
       "      <td>290.0</td>\n",
       "    </tr>\n",
       "    <tr>\n",
       "      <th>2</th>\n",
       "      <td>12.3778</td>\n",
       "      <td>4.6961</td>\n",
       "      <td>340.0</td>\n",
       "    </tr>\n",
       "    <tr>\n",
       "      <th>3</th>\n",
       "      <td>12.7300</td>\n",
       "      <td>4.4555</td>\n",
       "      <td>363.0</td>\n",
       "    </tr>\n",
       "    <tr>\n",
       "      <th>4</th>\n",
       "      <td>12.4440</td>\n",
       "      <td>5.1340</td>\n",
       "      <td>430.0</td>\n",
       "    </tr>\n",
       "  </tbody>\n",
       "</table>\n",
       "</div>"
      ],
      "text/plain": [
       "    Height   Width  Weight\n",
       "0  11.5200  4.0200   242.0\n",
       "1  12.4800  4.3056   290.0\n",
       "2  12.3778  4.6961   340.0\n",
       "3  12.7300  4.4555   363.0\n",
       "4  12.4440  5.1340   430.0"
      ]
     },
     "execution_count": 4,
     "metadata": {},
     "output_type": "execute_result"
    }
   ],
   "source": [
    "df.head()"
   ]
  },
  {
   "cell_type": "markdown",
   "metadata": {},
   "source": [
    "## Note: No NAN Values"
   ]
  },
  {
   "cell_type": "code",
   "execution_count": 5,
   "metadata": {},
   "outputs": [
    {
     "data": {
      "text/plain": [
       "Height    0\n",
       "Width     0\n",
       "Weight    0\n",
       "dtype: int64"
      ]
     },
     "execution_count": 5,
     "metadata": {},
     "output_type": "execute_result"
    }
   ],
   "source": [
    "df.isna().sum()"
   ]
  },
  {
   "cell_type": "markdown",
   "metadata": {},
   "source": [
    "## Normalize the Features"
   ]
  },
  {
   "cell_type": "code",
   "execution_count": 6,
   "metadata": {},
   "outputs": [
    {
     "data": {
      "text/html": [
       "<div>\n",
       "<style scoped>\n",
       "    .dataframe tbody tr th:only-of-type {\n",
       "        vertical-align: middle;\n",
       "    }\n",
       "\n",
       "    .dataframe tbody tr th {\n",
       "        vertical-align: top;\n",
       "    }\n",
       "\n",
       "    .dataframe thead th {\n",
       "        text-align: right;\n",
       "    }\n",
       "</style>\n",
       "<table border=\"1\" class=\"dataframe\">\n",
       "  <thead>\n",
       "    <tr style=\"text-align: right;\">\n",
       "      <th></th>\n",
       "      <th>Height</th>\n",
       "      <th>Width</th>\n",
       "      <th>Weight</th>\n",
       "    </tr>\n",
       "  </thead>\n",
       "  <tbody>\n",
       "    <tr>\n",
       "      <th>0</th>\n",
       "      <td>0.596579</td>\n",
       "      <td>-0.236529</td>\n",
       "      <td>242.0</td>\n",
       "    </tr>\n",
       "    <tr>\n",
       "      <th>1</th>\n",
       "      <td>0.821261</td>\n",
       "      <td>-0.066579</td>\n",
       "      <td>290.0</td>\n",
       "    </tr>\n",
       "    <tr>\n",
       "      <th>2</th>\n",
       "      <td>0.797341</td>\n",
       "      <td>0.165793</td>\n",
       "      <td>340.0</td>\n",
       "    </tr>\n",
       "    <tr>\n",
       "      <th>3</th>\n",
       "      <td>0.879771</td>\n",
       "      <td>0.022621</td>\n",
       "      <td>363.0</td>\n",
       "    </tr>\n",
       "    <tr>\n",
       "      <th>4</th>\n",
       "      <td>0.812835</td>\n",
       "      <td>0.426371</td>\n",
       "      <td>430.0</td>\n",
       "    </tr>\n",
       "  </tbody>\n",
       "</table>\n",
       "</div>"
      ],
      "text/plain": [
       "     Height     Width  Weight\n",
       "0  0.596579 -0.236529   242.0\n",
       "1  0.821261 -0.066579   290.0\n",
       "2  0.797341  0.165793   340.0\n",
       "3  0.879771  0.022621   363.0\n",
       "4  0.812835  0.426371   430.0"
      ]
     },
     "execution_count": 6,
     "metadata": {},
     "output_type": "execute_result"
    }
   ],
   "source": [
    "df['Height'] = (df['Height']-np.mean(df['Height']))/np.std(df['Height'])\n",
    "df['Width'] = (df['Width']-np.mean(df['Width']))/np.std(df['Width'])\n",
    "df.head()"
   ]
  },
  {
   "cell_type": "markdown",
   "metadata": {},
   "source": [
    "## Generate Random Test and Train Splits"
   ]
  },
  {
   "cell_type": "code",
   "execution_count": 7,
   "metadata": {},
   "outputs": [],
   "source": [
    "seed = 420\n",
    "train_fraction = 0.8\n",
    "train = df.sample(frac=train_fraction, random_state=seed)\n",
    "test = df.drop(train.index)"
   ]
  },
  {
   "cell_type": "markdown",
   "metadata": {},
   "source": [
    "## Polynomial Regression Model"
   ]
  },
  {
   "cell_type": "code",
   "execution_count": 57,
   "metadata": {},
   "outputs": [],
   "source": [
    "class PolynomialRegressionModel:\n",
    "    def __init__(self, degree, q, lmbda):\n",
    "        \"\"\"\n",
    "        Polynomial Regression Model for some particular degree.\n",
    "        \"\"\"\n",
    "        self.train_errors = {}\n",
    "        self.test_errors = {}\n",
    "        self.q = q\n",
    "        self.lmbda = lmbda\n",
    "        self.degree = degree\n",
    "        # Initialize Weights\n",
    "        self.weights = np.random.rand(degree+1, degree+1)\n",
    "\n",
    "    def print(self):\n",
    "        result = []\n",
    "        for i in range(self.degree+1):\n",
    "            for j in range(self.degree+1):\n",
    "                if(i+j<=self.degree):\n",
    "                    result.append(\n",
    "                        f\"i={i}, j={j}, wij={self.weights[i][j]}\"\n",
    "                    )\n",
    "        return result\n",
    "\n",
    "    def calculate_loss(self, X_i, t_i):\n",
    "        # print('inside self.calculate_loss()')\n",
    "        assert type(X_i[0]) == np.float64 and type(t_i) == np.float64 and type(X_i[1]) == np.float64, \"Types are not matching. Check!\"\n",
    "\n",
    "        a = X_i[0]\n",
    "        b = X_i[1]\n",
    "        t = t_i\n",
    "        prediction = self.predict([(a, b)])\n",
    "        # print('predicted:')\n",
    "        # print(prediction)\n",
    "        # print('expected')\n",
    "        # print(t)\n",
    "\n",
    "        grad = np.zeros_like(self.weights)\n",
    "        grad.fill(0.0)\n",
    "        for i in range(self.degree+1):\n",
    "            for j in range(self.degree+1):\n",
    "                if i + j <= self.degree:\n",
    "                    grad[i][j] = (a**i)*(b**j)*(t - prediction)\n",
    "        \n",
    "        grad += (self.lmbda*self.q//2)*(np.abs(self.weights)**(self.q-1))\n",
    "        # print('loss: ')\n",
    "        # print(grad)\n",
    "        return -1*grad\n",
    "\n",
    "    def fit(self, X_train, y_train, X_test, y_test, lr=0.01, epochs=500, batch_size=20):\n",
    "        \"\"\"\n",
    "        Fit the polynomial regression model using Batch Gradient Descent.\n",
    "\n",
    "        Parameters:\n",
    "        X_train: Input Feature variables.\n",
    "        y_train: Target Variable\n",
    "        X_test: Input Feature variables for test data\n",
    "        y_test: Target Variables for test data\n",
    "        lr: Learning Rate for Gradient Descent\n",
    "        epochs: No of Epochs to train\n",
    "\n",
    "        Returns:\n",
    "        NA\n",
    "        \"\"\"\n",
    "        print('Starting Training.....')\n",
    "        X_train = np.array(X_train)\n",
    "        y_train = np.array(y_train)\n",
    "        # print(X_train.head())\n",
    "        for epoch in range(epochs):\n",
    "            count = 0\n",
    "            loss = np.zeros_like(self.weights)\n",
    "            # print(X_train.shape[0])\n",
    "            \n",
    "            for i in range(X_train.shape[0]):\n",
    "                # print('sample')\n",
    "                # print(X_train[i][0])\n",
    "                # print(X_train[i][1])\n",
    "                # print(y_train[i])\n",
    "                if epoch == 0 or (epoch*epochs+i)%(X_train.shape[0]/2):\n",
    "                    self.train_errors[epoch*epochs + i] = self.calculate_error(X_train, y_train)\n",
    "                    self.test_errors[epoch*epochs + i] = self.calculate_error(X_test, y_test)\n",
    "\n",
    "                X_i = (X_train[i][0],X_train[i][1])\n",
    "                t_i =  y_train[i]\n",
    "\n",
    "                if count%batch_size == 0:\n",
    "                    loss /= batch_size\n",
    "                    # print('loss: ')\n",
    "                    # print(loss)\n",
    "                    # print(self.weights)\n",
    "                    # self.weights += (self.lmbda*self.q//2)*(np.abs(self.weights)**(self.q-1))\n",
    "                    self.weights -= lr*loss\n",
    "                    # print(self.weights)\n",
    "                    loss = np.zeros_like(self.weights)\n",
    "                else:\n",
    "                    loss += self.calculate_loss(X_i, t_i)\n",
    "            \n",
    "                count+=1\n",
    "            if epoch%(epochs/10) == 0:\n",
    "                print(f\"epoch: {epoch}\")\n",
    "                print(f\"Error: {self.calculate_error(X_train, y_train)}\")\n",
    "\n",
    "        return\n",
    "\n",
    "    def calculate_error(self, X_test, y_test):\n",
    "        \"\"\"\n",
    "        Find the error of the model on some data.\n",
    "\n",
    "        Parameters:\n",
    "        X_test: The sample Input Feature.\n",
    "        y_test: The sample Target Feature.\n",
    "\n",
    "        Returns:\n",
    "        A float value that is the MSE b/w the predicted outputs and the target outputs.\n",
    "        \"\"\"\n",
    "        X_test = np.array(X_test)\n",
    "        y_test = np.array(y_test)\n",
    "        predictions = self.predict(X_test)\n",
    "        mse = np.mean(\n",
    "            (predictions-y_test)**2\n",
    "        )\n",
    "        return mse\n",
    "\n",
    "    def predict(self, X_test):\n",
    "        \"\"\"\n",
    "        Make Predictions using the trained model.\n",
    "\n",
    "        Parameters:\n",
    "        X_test: The sample Input Features.\n",
    "\n",
    "        Returns:\n",
    "        A numpy Array with the predicted target variable value for each of the samples having\n",
    "        same dimensions as X_test.\n",
    "        \"\"\"\n",
    "        result = [] \n",
    "        for sample in X_test:\n",
    "            assert type(sample[0]) == np.float64 and type(sample[1]) == np.float64, \"Variable doesn't have the required type!\"\n",
    "            degree = 2\n",
    "            a = sample[0]\n",
    "            b = sample[1]\n",
    "            y = 0\n",
    "            for i in range(degree+1):\n",
    "                for j in range(degree+1):\n",
    "                    if i + j <= degree:\n",
    "                        y += self.weights[i][j]*(a**i)*(b**j)\n",
    "            result.append(y)\n",
    "        return np.array(result)"
   ]
  },
  {
   "cell_type": "markdown",
   "metadata": {},
   "source": [
    "## Grid Search"
   ]
  },
  {
   "cell_type": "markdown",
   "metadata": {},
   "source": [
    "## Without Regularization"
   ]
  },
  {
   "cell_type": "code",
   "execution_count": 15,
   "metadata": {},
   "outputs": [],
   "source": [
    "import json"
   ]
  },
  {
   "cell_type": "code",
   "execution_count": null,
   "metadata": {},
   "outputs": [],
   "source": [
    "model = PolynomialRegressionModel(degree=5, q=2, lmbda=0.1)\n",
    "model.fit(train.drop(['Weight'], axis=1), train['Weight'], test.drop(['Weight'], axis=1), test['Weight'], lr=0.001, epochs=200, batch_size=2)"
   ]
  },
  {
   "cell_type": "code",
   "execution_count": 52,
   "metadata": {},
   "outputs": [
    {
     "name": "stdout",
     "output_type": "stream",
     "text": [
      "doing: 2, 0.001 for 500 epochs\n",
      "Starting Training.....\n",
      "epoch: 0\n",
      "Error: 255118.8626926418\n"
     ]
    },
    {
     "name": "stderr",
     "output_type": "stream",
     "text": [
      "/tmp/ipykernel_15680/3202280365.py:32: DeprecationWarning: Conversion of an array with ndim > 0 to a scalar is deprecated, and will error in future. Ensure you extract a single element from your array before performing this operation. (Deprecated NumPy 1.25.)\n",
      "  grad[i][j] = (a**i)*(b**j)*(t - prediction)\n"
     ]
    },
    {
     "name": "stdout",
     "output_type": "stream",
     "text": [
      "epoch: 50\n",
      "Error: 92058.21256441282\n",
      "epoch: 100\n",
      "Error: 58513.496532683304\n",
      "epoch: 150\n",
      "Error: 43510.66539783813\n",
      "epoch: 200\n",
      "Error: 35207.14509006875\n",
      "epoch: 250\n",
      "Error: 30038.096208575214\n",
      "epoch: 300\n",
      "Error: 26567.58959536274\n",
      "epoch: 350\n",
      "Error: 24126.033690334963\n",
      "epoch: 400\n",
      "Error: 22357.13982562554\n",
      "epoch: 450\n",
      "Error: 21049.73325589002\n",
      "doing: 3, 0.001 for 500 epochs\n",
      "Starting Training.....\n",
      "epoch: 0\n",
      "Error: 254399.47427047873\n"
     ]
    },
    {
     "name": "stderr",
     "output_type": "stream",
     "text": [
      "/tmp/ipykernel_15680/3202280365.py:32: DeprecationWarning: Conversion of an array with ndim > 0 to a scalar is deprecated, and will error in future. Ensure you extract a single element from your array before performing this operation. (Deprecated NumPy 1.25.)\n",
      "  grad[i][j] = (a**i)*(b**j)*(t - prediction)\n"
     ]
    },
    {
     "name": "stdout",
     "output_type": "stream",
     "text": [
      "epoch: 50\n",
      "Error: 91766.07591894148\n",
      "epoch: 100\n",
      "Error: 58360.580154301344\n",
      "epoch: 150\n",
      "Error: 43418.86267678028\n",
      "epoch: 200\n",
      "Error: 35147.27248357093\n",
      "epoch: 250\n",
      "Error: 29997.432715834617\n",
      "epoch: 300\n",
      "Error: 26539.642500606114\n",
      "epoch: 350\n",
      "Error: 24106.980457990318\n",
      "epoch: 400\n",
      "Error: 22344.487746708724\n",
      "epoch: 450\n",
      "Error: 21041.753463058038\n",
      "doing: 4, 0.001 for 500 epochs\n",
      "Starting Training.....\n",
      "epoch: 0\n",
      "Error: 253888.9025071599\n"
     ]
    },
    {
     "name": "stderr",
     "output_type": "stream",
     "text": [
      "/tmp/ipykernel_15680/3202280365.py:32: DeprecationWarning: Conversion of an array with ndim > 0 to a scalar is deprecated, and will error in future. Ensure you extract a single element from your array before performing this operation. (Deprecated NumPy 1.25.)\n",
      "  grad[i][j] = (a**i)*(b**j)*(t - prediction)\n"
     ]
    },
    {
     "name": "stdout",
     "output_type": "stream",
     "text": [
      "epoch: 50\n",
      "Error: 91681.99826566862\n",
      "epoch: 100\n",
      "Error: 58338.0320925231\n",
      "epoch: 150\n",
      "Error: 43412.018446794995\n",
      "epoch: 200\n",
      "Error: 35144.03032336456\n",
      "epoch: 250\n",
      "Error: 29994.395296860792\n",
      "epoch: 300\n",
      "Error: 26536.030770916295\n",
      "epoch: 350\n",
      "Error: 24102.76874220085\n",
      "epoch: 400\n",
      "Error: 22339.830159361125\n",
      "epoch: 450\n",
      "Error: 21036.816830880354\n",
      "doing: 5, 0.001 for 500 epochs\n",
      "Starting Training.....\n",
      "epoch: 0\n",
      "Error: 253385.0021989639\n"
     ]
    },
    {
     "name": "stderr",
     "output_type": "stream",
     "text": [
      "/tmp/ipykernel_15680/3202280365.py:32: DeprecationWarning: Conversion of an array with ndim > 0 to a scalar is deprecated, and will error in future. Ensure you extract a single element from your array before performing this operation. (Deprecated NumPy 1.25.)\n",
      "  grad[i][j] = (a**i)*(b**j)*(t - prediction)\n"
     ]
    },
    {
     "name": "stdout",
     "output_type": "stream",
     "text": [
      "epoch: 50\n",
      "Error: 91691.17533351616\n",
      "epoch: 100\n",
      "Error: 58365.77854493964\n",
      "epoch: 150\n",
      "Error: 43436.5485567745\n",
      "epoch: 200\n",
      "Error: 35163.50556915314\n",
      "epoch: 250\n",
      "Error: 30009.306924954537\n",
      "epoch: 300\n",
      "Error: 26547.25404912396\n",
      "epoch: 350\n",
      "Error: 24111.11549658592\n",
      "epoch: 400\n",
      "Error: 22345.9578330464\n",
      "epoch: 450\n",
      "Error: 21041.234625997204\n",
      "doing: 6, 0.001 for 500 epochs\n",
      "Starting Training.....\n",
      "epoch: 0\n",
      "Error: 254139.84540369155\n"
     ]
    },
    {
     "name": "stderr",
     "output_type": "stream",
     "text": [
      "/tmp/ipykernel_15680/3202280365.py:32: DeprecationWarning: Conversion of an array with ndim > 0 to a scalar is deprecated, and will error in future. Ensure you extract a single element from your array before performing this operation. (Deprecated NumPy 1.25.)\n",
      "  grad[i][j] = (a**i)*(b**j)*(t - prediction)\n"
     ]
    },
    {
     "name": "stdout",
     "output_type": "stream",
     "text": [
      "epoch: 50\n",
      "Error: 91818.28776746226\n",
      "epoch: 100\n",
      "Error: 58383.998617557205\n",
      "epoch: 150\n",
      "Error: 43427.95247171854\n",
      "epoch: 200\n",
      "Error: 35149.9300779361\n",
      "epoch: 250\n",
      "Error: 29996.36721708843\n",
      "epoch: 300\n",
      "Error: 26535.94190862271\n",
      "epoch: 350\n",
      "Error: 24101.254799579365\n",
      "epoch: 400\n",
      "Error: 22337.18875028066\n",
      "epoch: 450\n",
      "Error: 21033.254358142887\n",
      "doing: 7, 0.001 for 500 epochs\n",
      "Starting Training.....\n",
      "epoch: 0\n",
      "Error: 253679.79963959783\n"
     ]
    },
    {
     "name": "stderr",
     "output_type": "stream",
     "text": [
      "/tmp/ipykernel_15680/3202280365.py:32: DeprecationWarning: Conversion of an array with ndim > 0 to a scalar is deprecated, and will error in future. Ensure you extract a single element from your array before performing this operation. (Deprecated NumPy 1.25.)\n",
      "  grad[i][j] = (a**i)*(b**j)*(t - prediction)\n"
     ]
    },
    {
     "name": "stdout",
     "output_type": "stream",
     "text": [
      "epoch: 50\n",
      "Error: 91777.4216288684\n",
      "epoch: 100\n",
      "Error: 58399.26200169206\n",
      "epoch: 150\n",
      "Error: 43449.31378147817\n",
      "epoch: 200\n",
      "Error: 35167.23590674096\n",
      "epoch: 250\n",
      "Error: 30008.87833214113\n",
      "epoch: 300\n",
      "Error: 26544.882967395584\n",
      "epoch: 350\n",
      "Error: 24107.88108333737\n",
      "epoch: 400\n",
      "Error: 22342.409696581428\n",
      "epoch: 450\n",
      "Error: 21037.657596478515\n",
      "doing: 8, 0.001 for 500 epochs\n",
      "Starting Training.....\n",
      "epoch: 0\n",
      "Error: 254957.33410616333\n"
     ]
    },
    {
     "name": "stderr",
     "output_type": "stream",
     "text": [
      "/tmp/ipykernel_15680/3202280365.py:32: DeprecationWarning: Conversion of an array with ndim > 0 to a scalar is deprecated, and will error in future. Ensure you extract a single element from your array before performing this operation. (Deprecated NumPy 1.25.)\n",
      "  grad[i][j] = (a**i)*(b**j)*(t - prediction)\n"
     ]
    },
    {
     "name": "stdout",
     "output_type": "stream",
     "text": [
      "epoch: 50\n",
      "Error: 91785.70156564696\n",
      "epoch: 100\n",
      "Error: 58357.32243726237\n",
      "epoch: 150\n",
      "Error: 43413.229375574825\n",
      "epoch: 200\n",
      "Error: 35141.35430849622\n",
      "epoch: 250\n",
      "Error: 29991.600091126416\n",
      "epoch: 300\n",
      "Error: 26533.932659650975\n",
      "epoch: 350\n",
      "Error: 24101.37637088279\n",
      "epoch: 400\n",
      "Error: 22338.978667222204\n",
      "epoch: 450\n",
      "Error: 21036.341104467\n",
      "doing: 9, 0.001 for 500 epochs\n",
      "Starting Training.....\n",
      "epoch: 0\n",
      "Error: 254499.74816082424\n"
     ]
    },
    {
     "name": "stderr",
     "output_type": "stream",
     "text": [
      "/tmp/ipykernel_15680/3202280365.py:32: DeprecationWarning: Conversion of an array with ndim > 0 to a scalar is deprecated, and will error in future. Ensure you extract a single element from your array before performing this operation. (Deprecated NumPy 1.25.)\n",
      "  grad[i][j] = (a**i)*(b**j)*(t - prediction)\n"
     ]
    },
    {
     "name": "stdout",
     "output_type": "stream",
     "text": [
      "epoch: 50\n",
      "Error: 91909.88837277627\n",
      "epoch: 100\n",
      "Error: 58466.82113324567\n",
      "epoch: 150\n",
      "Error: 43500.10234278551\n",
      "epoch: 200\n",
      "Error: 35210.43612801893\n",
      "epoch: 250\n",
      "Error: 30046.62377043319\n",
      "epoch: 300\n",
      "Error: 26577.808750577475\n",
      "epoch: 350\n",
      "Error: 24136.433780836276\n",
      "epoch: 400\n",
      "Error: 22367.083673646437\n",
      "epoch: 450\n",
      "Error: 21058.979465835982\n"
     ]
    }
   ],
   "source": [
    "errors = []\n",
    "for degree in [2, 3, 4, 5, 6, 7, 8, 9]:\n",
    "    for lr in [0.001]:\n",
    "        print(f\"doing: {degree}, {lr} for 500 epochs\")\n",
    "        model = PolynomialRegressionModel(degree=degree, q=0, lmbda=0)\n",
    "        model.fit(train.drop(['Weight'], axis=1), train['Weight'], test.drop(['Weight'], axis=1), test['Weight'], lr=lr, epochs=500, batch_size=20)\n",
    "        errors.append({\n",
    "                    \"degree\": degree,\n",
    "                    \"lr\": lr,\n",
    "                    \"test_errors: \": model.test_errors,\n",
    "                    \"train_errors: \": model.train_errors\n",
    "                })\n",
    "json_obj = json.dumps(errors)\n",
    "with open('double_noreg.json', 'w') as fp:\n",
    "    fp.write(json_obj)"
   ]
  },
  {
   "cell_type": "markdown",
   "metadata": {},
   "source": [
    "# Code to find the best degree"
   ]
  },
  {
   "cell_type": "code",
   "execution_count": 9,
   "metadata": {},
   "outputs": [
    {
     "name": "stdout",
     "output_type": "stream",
     "text": [
      "Best Overall Configuration:\n",
      "Best Degree: 7\n",
      "Best Test Loss: 50574.16299044137\n",
      "Epoch: 249621\n"
     ]
    }
   ],
   "source": [
    "import json\n",
    "\n",
    "with open('double_noreg.json', 'r') as fp:\n",
    "    data = json.load(fp)\n",
    "\n",
    "best_overall_configuration = {\n",
    "    'best_degree'\n",
    "    'best_epoch': None,\n",
    "    'best_test_loss': float('inf')  # Set to positive infinity initially\n",
    "}\n",
    "\n",
    "# Perform grid search\n",
    "for entry in data:\n",
    "    lr = entry['lr']\n",
    "    test_errors = entry['test_errors: ']\n",
    "\n",
    "    for epoch in test_errors:\n",
    "        error = test_errors[epoch]\n",
    "\n",
    "        # Update the best overall configuration\n",
    "        if error < best_overall_configuration['best_test_loss']:\n",
    "            best_overall_configuration['best_test_loss'] = error\n",
    "            best_overall_configuration['best_degree'] = entry['degree']\n",
    "            best_overall_configuration['best_epoch'] = epoch\n",
    "\n",
    "# Display the best overall configuration\n",
    "print(\"Best Overall Configuration:\")\n",
    "print(f\"Best Degree: {best_overall_configuration['best_degree']}\")\n",
    "print(f\"Best Test Loss: {best_overall_configuration['best_test_loss']}\")\n",
    "print(f\"Epoch: {best_overall_configuration['best_epoch']}\")\n"
   ]
  },
  {
   "cell_type": "markdown",
   "metadata": {},
   "source": [
    "## With Regularization"
   ]
  },
  {
   "cell_type": "code",
   "execution_count": 10,
   "metadata": {},
   "outputs": [],
   "source": [
    "from contextlib import contextmanager,redirect_stderr,redirect_stdout\n",
    "import json\n",
    "from os import devnull\n",
    "\n",
    "@contextmanager\n",
    "def suppress_stdout_stderr():\n",
    "    \"\"\"A context manager that redirects stdout and stderr to devnull\"\"\"\n",
    "    with open(devnull, 'w') as fnull:\n",
    "        with redirect_stderr(fnull) as err, redirect_stdout(fnull) as out:\n",
    "            yield (err, out)"
   ]
  },
  {
   "cell_type": "code",
   "execution_count": 11,
   "metadata": {},
   "outputs": [],
   "source": [
    "import time\n",
    "errors = []\n",
    "# Note this should be chosen from analysis of previous grid search without regularization\n",
    "best_fit_degree = 7\n",
    "cnt = 1\n",
    "start = time.time()\n",
    "for degree in [best_fit_degree]:  \n",
    "    for lr in [0.001]:\n",
    "        for q in [0.5, 1, 2, 4]:\n",
    "            for batch_size in [20, 1]:\n",
    "                for lmbda in [0.0, 0.1, 0.2, 0.3, 0.4, 0.5, 0.6, 0.7, 0.8, 0.9, 1.0]:\n",
    "                    with open('logs.txt', 'a') as f:\n",
    "                        f.write(f\"{(float(cnt)*100.0)//(72)}%, {time.time()-start}, {degree}, {lr}, {q}, {batch_size}, {lmbda}\\n\")\n",
    "                    # print(f\"doing: {degree}, {lr}, {q}, {batch_size} for 500 epochs\")\n",
    "                    # Getting rid of the logs\n",
    "                    with suppress_stdout_stderr():\n",
    "                        model = PolynomialRegressionModel(degree=degree, q=q, lmbda=lmbda)\n",
    "                        model.fit(train.drop(['Weight'], axis=1), train['Weight'], test.drop(['Weight'], axis=1), test['Weight'], lr=lr, epochs=50, batch_size=batch_size)              \n",
    "                    # sys.stdout = save_stdout\n",
    "                    # sys.stderr = save_stderr\n",
    "                    cnt += 1\n",
    "                    errors.append({\n",
    "                        \"degree\": degree,\n",
    "                        \"lr\": lr,\n",
    "                        \"q\": q, \n",
    "                        \"lmbda\": lmbda,\n",
    "                        \"batch_size\": batch_size,\n",
    "                        \"test_errors: \": model.test_errors,\n",
    "                        \"train_errors: \": model.train_errors\n",
    "                    })\n",
    "                    # print(errors)\n",
    "\n",
    "with open('double_withreg.json', 'w') as fp:\n",
    "    json.dump(errors, fp)"
   ]
  },
  {
   "cell_type": "markdown",
   "metadata": {},
   "source": [
    "# Find the best hyperparameters"
   ]
  },
  {
   "cell_type": "code",
   "execution_count": 16,
   "metadata": {},
   "outputs": [
    {
     "name": "stdout",
     "output_type": "stream",
     "text": [
      "Best models for each value of q:\n",
      "q=0.5: Degree=7, Learning Rate=0.001, Lambda=0.5, Batch Size=20, Epoch=2571, Test Loss=139793.0962370393\n",
      "q=1: Degree=7, Learning Rate=0.001, Lambda=0.0, Batch Size=20, Epoch=2571, Test Loss=139781.55365061367\n",
      "q=2: Degree=7, Learning Rate=0.001, Lambda=1.0, Batch Size=20, Epoch=2571, Test Loss=125537.749596721\n",
      "q=4: Degree=7, Learning Rate=0.001, Lambda=0.3, Batch Size=20, Epoch=2571, Test Loss=140085.22385513445\n",
      "\n",
      "Best model for batch_size 1:\n",
      "Degree=7, Learning Rate=0.001, Lambda=0.4, Batch Size=1, Epoch=0, Test Loss=363088.41025412834, q=4\n",
      "\n",
      "Best model for batch_size 20:\n",
      "Degree=7, Learning Rate=0.001, Lambda=1.0, Batch Size=20, Epoch=2571, Test Loss=125537.749596721, q=2\n",
      "\n",
      "Best 4 models overall:\n",
      "Rank 1: Degree=7, Learning Rate=0.001, Lambda=1.0, Batch Size=20, Epoch=2571, Test Loss=125537.749596721, q=2\n",
      "Rank 2: Degree=7, Learning Rate=0.001, Lambda=0.5, Batch Size=20, Epoch=2571, Test Loss=139862.48767464896, q=2\n",
      "Rank 3: Degree=7, Learning Rate=0.001, Lambda=0.1, Batch Size=20, Epoch=2571, Test Loss=139883.98162699374, q=2\n",
      "Rank 4: Degree=7, Learning Rate=0.001, Lambda=0.2, Batch Size=20, Epoch=2571, Test Loss=139924.09367158657, q=2\n"
     ]
    }
   ],
   "source": [
    "import json\n",
    "\n",
    "with open('double_withreg.json', 'r') as fp:\n",
    "    data = json.load(fp)\n",
    "\n",
    "# Dictionary to store the best models for each value of q\n",
    "best_models_by_q = {0.5: None, 1: None, 2: None, 4: None}\n",
    "\n",
    "# Variables to store the best models for batch_size 1 and 20\n",
    "best_model_batch_size_1 = None\n",
    "best_model_batch_size_20 = None\n",
    "\n",
    "# Variables to store the best 4 models overall\n",
    "best_models_overall = [None] * 4\n",
    "best_test_losses = [float('inf')] * 4\n",
    "\n",
    "# Perform grid search\n",
    "for entry in data:\n",
    "    degree = entry['degree']\n",
    "    lr = entry['lr']\n",
    "    lmbda = entry['lmbda']\n",
    "    q = entry['q']\n",
    "    batch_size = entry['batch_size']\n",
    "    test_errors = entry['test_errors: ']\n",
    "    best_epoch = min(test_errors, key=test_errors.get)  # Corrected line\n",
    "\n",
    "    # Find the best models for each value of q\n",
    "    if q in best_models_by_q:\n",
    "        if best_models_by_q[q] is None or test_errors[best_epoch] < best_models_by_q[q]['best_test_loss']:\n",
    "            best_models_by_q[q] = {\n",
    "                'best_degree': degree,\n",
    "                'best_lr': lr,\n",
    "                'best_epoch': best_epoch,  # Use the correct epoch here\n",
    "                'best_test_loss': test_errors[best_epoch],\n",
    "                'best_lmbda': lmbda,\n",
    "                'best_batch_size': batch_size\n",
    "            }\n",
    "\n",
    "    # Find the best model for batch_size 1 and 20\n",
    "    if batch_size == 1:\n",
    "        if best_model_batch_size_1 is None or test_errors[best_epoch] < best_model_batch_size_1['best_test_loss']:\n",
    "            best_model_batch_size_1 = {\n",
    "                'best_degree': degree,\n",
    "                'best_lr': lr,\n",
    "                'best_epoch': best_epoch,  # Use the correct epoch here\n",
    "                'best_test_loss': test_errors[best_epoch],\n",
    "                'best_lmbda': lmbda,\n",
    "                'best_batch_size': batch_size,\n",
    "                'q': q  # Include the value of q\n",
    "            }\n",
    "    elif batch_size == 20:\n",
    "        if best_model_batch_size_20 is None or test_errors[best_epoch] < best_model_batch_size_20['best_test_loss']:\n",
    "            best_model_batch_size_20 = {\n",
    "                'best_degree': degree,\n",
    "                'best_lr': lr,\n",
    "                'best_epoch': best_epoch,  # Use the correct epoch here\n",
    "                'best_test_loss': test_errors[best_epoch],\n",
    "                'best_lmbda': lmbda,\n",
    "                'best_batch_size': batch_size,\n",
    "                'q': q  # Include the value of q\n",
    "            }\n",
    "\n",
    "    # Update the best 4 models overall\n",
    "    for i, (best_model, best_test_loss) in enumerate(zip(best_models_overall, best_test_losses)):\n",
    "        if best_model is None or test_errors[best_epoch] < best_test_loss:\n",
    "            best_models_overall[i] = {\n",
    "                'best_degree': degree,\n",
    "                'best_lr': lr,\n",
    "                'best_epoch': best_epoch,  # Use the correct epoch here\n",
    "                'best_test_loss': test_errors[best_epoch],\n",
    "                'best_lmbda': lmbda,\n",
    "                'best_batch_size': batch_size,\n",
    "                'q': q  # Include the value of q\n",
    "            }\n",
    "            best_test_losses[i] = test_errors[best_epoch]\n",
    "            break  # Exit the loop after updating the first empty position\n",
    "\n",
    "# Display results\n",
    "print(\"Best models for each value of q:\")\n",
    "for q, best_model in best_models_by_q.items():\n",
    "    print(f\"q={q}: Degree={best_model['best_degree']}, Learning Rate={best_model['best_lr']}, Lambda={best_model['best_lmbda']}, Batch Size={best_model['best_batch_size']}, Epoch={best_model['best_epoch']}, Test Loss={best_model['best_test_loss']}\")\n",
    "\n",
    "print(\"\\nBest model for batch_size 1:\")\n",
    "print(f\"Degree={best_model_batch_size_1['best_degree']}, Learning Rate={best_model_batch_size_1['best_lr']}, Lambda={best_model_batch_size_1['best_lmbda']}, Batch Size={best_model_batch_size_1['best_batch_size']}, Epoch={best_model_batch_size_1['best_epoch']}, Test Loss={best_model_batch_size_1['best_test_loss']}, q={best_model_batch_size_1['q']}\")\n",
    "\n",
    "print(\"\\nBest model for batch_size 20:\")\n",
    "print(f\"Degree={best_model_batch_size_20['best_degree']}, Learning Rate={best_model_batch_size_20['best_lr']}, Lambda={best_model_batch_size_20['best_lmbda']}, Batch Size={best_model_batch_size_20['best_batch_size']}, Epoch={best_model_batch_size_20['best_epoch']}, Test Loss={best_model_batch_size_20['best_test_loss']}, q={best_model_batch_size_20['q']}\")\n",
    "\n",
    "print(\"\\nBest 4 models overall:\")\n",
    "for i, best_model in enumerate(best_models_overall):\n",
    "    print(f\"Rank {i + 1}: Degree={best_model['best_degree']}, Learning Rate={best_model['best_lr']}, Lambda={best_model['best_lmbda']}, Batch Size={best_model['best_batch_size']}, Epoch={best_model['best_epoch']}, Test Loss={best_model['best_test_loss']}, q={best_model['q']}\")\n"
   ]
  },
  {
   "cell_type": "markdown",
   "metadata": {},
   "source": [
    "## Plots"
   ]
  },
  {
   "cell_type": "markdown",
   "metadata": {},
   "source": [
    "## Plot for 9 degrees and 4 best regularized models"
   ]
  },
  {
   "cell_type": "code",
   "execution_count": 15,
   "metadata": {},
   "outputs": [],
   "source": [
    "import numpy as np\n",
    "import matplotlib.pyplot as plt\n",
    "from mpl_toolkits.mplot3d import Axes3D\n",
    "\n",
    "# Function to create and save surface plot\n",
    "def create_surface_plot(model, X, Y, Z, title, save_path):\n",
    "    fig = plt.figure(figsize=(10, 8))\n",
    "    ax = fig.add_subplot(111, projection='3d')\n",
    "    ax.plot_surface(X, Y, Z, cmap='viridis')\n",
    "\n",
    "    # Scatter plot for training and testing data\n",
    "    ax.scatter(train.to_numpy()[:, 0], train.to_numpy()[:, 1], train['Weight'].to_numpy(), color='blue', marker='o')\n",
    "    ax.scatter(test.to_numpy()[:, 0], test.to_numpy()[:, 1], test['Weight'].to_numpy(), color='red', marker='o')\n",
    "\n",
    "    ax.set_xlabel('Height')\n",
    "    ax.set_ylabel('Width')\n",
    "    ax.set_zlabel('Predicted Weight')\n",
    "\n",
    "    plt.title(title)\n",
    "    plt.savefig(save_path)\n",
    "    plt.close()\n"
   ]
  },
  {
   "cell_type": "code",
   "execution_count": 24,
   "metadata": {},
   "outputs": [
    {
     "name": "stdout",
     "output_type": "stream",
     "text": [
      "2\n",
      "Starting Training.....\n",
      "epoch: 0\n",
      "Error: 255237.56334614524\n"
     ]
    },
    {
     "name": "stderr",
     "output_type": "stream",
     "text": [
      "/tmp/ipykernel_21601/3202280365.py:32: DeprecationWarning: Conversion of an array with ndim > 0 to a scalar is deprecated, and will error in future. Ensure you extract a single element from your array before performing this operation. (Deprecated NumPy 1.25.)\n",
      "  grad[i][j] = (a**i)*(b**j)*(t - prediction)\n"
     ]
    },
    {
     "name": "stdout",
     "output_type": "stream",
     "text": [
      "epoch: 20\n",
      "Error: 147449.55484399028\n",
      "epoch: 40\n",
      "Error: 104516.02211193755\n",
      "epoch: 60\n",
      "Error: 82175.49581695697\n",
      "epoch: 80\n",
      "Error: 68135.58086861139\n",
      "epoch: 100\n",
      "Error: 58355.82734683499\n",
      "epoch: 120\n",
      "Error: 51156.023398160316\n",
      "epoch: 140\n",
      "Error: 45666.26970650353\n",
      "epoch: 160\n",
      "Error: 41367.60050403641\n",
      "epoch: 180\n",
      "Error: 37926.27238762491\n",
      "3\n",
      "Starting Training.....\n",
      "epoch: 0\n",
      "Error: 254425.2289556951\n"
     ]
    },
    {
     "name": "stderr",
     "output_type": "stream",
     "text": [
      "/tmp/ipykernel_21601/3202280365.py:32: DeprecationWarning: Conversion of an array with ndim > 0 to a scalar is deprecated, and will error in future. Ensure you extract a single element from your array before performing this operation. (Deprecated NumPy 1.25.)\n",
      "  grad[i][j] = (a**i)*(b**j)*(t - prediction)\n"
     ]
    },
    {
     "name": "stdout",
     "output_type": "stream",
     "text": [
      "epoch: 20\n",
      "Error: 147196.4335146643\n",
      "epoch: 40\n",
      "Error: 104460.55089109502\n",
      "epoch: 60\n",
      "Error: 82202.74569467678\n",
      "epoch: 80\n",
      "Error: 68200.6532942373\n",
      "epoch: 100\n",
      "Error: 58437.51053190426\n",
      "epoch: 120\n",
      "Error: 51243.09307607084\n",
      "epoch: 140\n",
      "Error: 45752.5638881353\n",
      "epoch: 160\n",
      "Error: 41449.80624750349\n",
      "epoch: 180\n",
      "Error: 38002.74842067212\n",
      "4\n",
      "Starting Training.....\n",
      "epoch: 0\n",
      "Error: 254601.75726832126\n"
     ]
    },
    {
     "name": "stderr",
     "output_type": "stream",
     "text": [
      "/tmp/ipykernel_21601/3202280365.py:32: DeprecationWarning: Conversion of an array with ndim > 0 to a scalar is deprecated, and will error in future. Ensure you extract a single element from your array before performing this operation. (Deprecated NumPy 1.25.)\n",
      "  grad[i][j] = (a**i)*(b**j)*(t - prediction)\n"
     ]
    },
    {
     "name": "stdout",
     "output_type": "stream",
     "text": [
      "epoch: 20\n",
      "Error: 147246.11962717382\n",
      "epoch: 40\n",
      "Error: 104449.06627947415\n",
      "epoch: 60\n",
      "Error: 82160.10723265613\n",
      "epoch: 80\n",
      "Error: 68142.83575260674\n",
      "epoch: 100\n",
      "Error: 58373.63784336918\n",
      "epoch: 120\n",
      "Error: 51178.4534425751\n",
      "epoch: 140\n",
      "Error: 45690.15668985485\n",
      "epoch: 160\n",
      "Error: 41391.23654347987\n",
      "epoch: 180\n",
      "Error: 37948.772694513566\n",
      "5\n",
      "Starting Training.....\n",
      "epoch: 0\n",
      "Error: 254764.34095110963\n"
     ]
    },
    {
     "name": "stderr",
     "output_type": "stream",
     "text": [
      "/tmp/ipykernel_21601/3202280365.py:32: DeprecationWarning: Conversion of an array with ndim > 0 to a scalar is deprecated, and will error in future. Ensure you extract a single element from your array before performing this operation. (Deprecated NumPy 1.25.)\n",
      "  grad[i][j] = (a**i)*(b**j)*(t - prediction)\n"
     ]
    },
    {
     "name": "stdout",
     "output_type": "stream",
     "text": [
      "epoch: 20\n",
      "Error: 147168.7420096372\n",
      "epoch: 40\n",
      "Error: 104353.32119909217\n",
      "epoch: 60\n",
      "Error: 82085.64809699768\n",
      "epoch: 80\n",
      "Error: 68090.40371893717\n",
      "epoch: 100\n",
      "Error: 58337.644961770246\n",
      "epoch: 120\n",
      "Error: 51153.74757271391\n",
      "epoch: 140\n",
      "Error: 45672.97206040873\n",
      "epoch: 160\n",
      "Error: 41378.9846193091\n",
      "epoch: 180\n",
      "Error: 37939.70614010996\n",
      "6\n",
      "Starting Training.....\n",
      "epoch: 0\n",
      "Error: 253826.1833691892\n"
     ]
    },
    {
     "name": "stderr",
     "output_type": "stream",
     "text": [
      "/tmp/ipykernel_21601/3202280365.py:32: DeprecationWarning: Conversion of an array with ndim > 0 to a scalar is deprecated, and will error in future. Ensure you extract a single element from your array before performing this operation. (Deprecated NumPy 1.25.)\n",
      "  grad[i][j] = (a**i)*(b**j)*(t - prediction)\n"
     ]
    },
    {
     "name": "stdout",
     "output_type": "stream",
     "text": [
      "epoch: 20\n",
      "Error: 147046.6093333854\n",
      "epoch: 40\n",
      "Error: 104404.3100109471\n",
      "epoch: 60\n",
      "Error: 82162.34707309428\n",
      "epoch: 80\n",
      "Error: 68161.80005996356\n",
      "epoch: 100\n",
      "Error: 58399.24388334595\n",
      "epoch: 120\n",
      "Error: 51206.51454737671\n",
      "epoch: 140\n",
      "Error: 45718.57999320557\n",
      "epoch: 160\n",
      "Error: 41418.867981656\n",
      "epoch: 180\n",
      "Error: 37974.96371592298\n",
      "7\n",
      "Starting Training.....\n",
      "epoch: 0\n",
      "Error: 255266.79887823408\n"
     ]
    },
    {
     "name": "stderr",
     "output_type": "stream",
     "text": [
      "/tmp/ipykernel_21601/3202280365.py:32: DeprecationWarning: Conversion of an array with ndim > 0 to a scalar is deprecated, and will error in future. Ensure you extract a single element from your array before performing this operation. (Deprecated NumPy 1.25.)\n",
      "  grad[i][j] = (a**i)*(b**j)*(t - prediction)\n"
     ]
    },
    {
     "name": "stdout",
     "output_type": "stream",
     "text": [
      "epoch: 20\n",
      "Error: 147651.4854938671\n",
      "epoch: 40\n",
      "Error: 104729.64894436124\n",
      "epoch: 60\n",
      "Error: 82368.80075188621\n",
      "epoch: 80\n",
      "Error: 68305.42166421875\n",
      "epoch: 100\n",
      "Error: 58504.72805778453\n",
      "epoch: 120\n",
      "Error: 51287.04610026703\n",
      "epoch: 140\n",
      "Error: 45782.04839802353\n",
      "epoch: 160\n",
      "Error: 41470.27633266183\n",
      "epoch: 180\n",
      "Error: 38017.586915137035\n",
      "8\n",
      "Starting Training.....\n",
      "epoch: 0\n",
      "Error: 254817.21688651896\n"
     ]
    },
    {
     "name": "stderr",
     "output_type": "stream",
     "text": [
      "/tmp/ipykernel_21601/3202280365.py:32: DeprecationWarning: Conversion of an array with ndim > 0 to a scalar is deprecated, and will error in future. Ensure you extract a single element from your array before performing this operation. (Deprecated NumPy 1.25.)\n",
      "  grad[i][j] = (a**i)*(b**j)*(t - prediction)\n"
     ]
    },
    {
     "name": "stdout",
     "output_type": "stream",
     "text": [
      "epoch: 20\n",
      "Error: 147335.67905366374\n",
      "epoch: 40\n",
      "Error: 104531.05025923709\n",
      "epoch: 60\n",
      "Error: 82250.26425414834\n",
      "epoch: 80\n",
      "Error: 68237.43042603858\n",
      "epoch: 100\n",
      "Error: 58467.437444654184\n",
      "epoch: 120\n",
      "Error: 51267.83874083185\n",
      "epoch: 140\n",
      "Error: 45773.10806386402\n",
      "epoch: 160\n",
      "Error: 41466.849637384694\n",
      "epoch: 180\n",
      "Error: 38016.83939935694\n",
      "9\n",
      "Starting Training.....\n",
      "epoch: 0\n",
      "Error: 254182.16283091035\n"
     ]
    },
    {
     "name": "stderr",
     "output_type": "stream",
     "text": [
      "/tmp/ipykernel_21601/3202280365.py:32: DeprecationWarning: Conversion of an array with ndim > 0 to a scalar is deprecated, and will error in future. Ensure you extract a single element from your array before performing this operation. (Deprecated NumPy 1.25.)\n",
      "  grad[i][j] = (a**i)*(b**j)*(t - prediction)\n"
     ]
    },
    {
     "name": "stdout",
     "output_type": "stream",
     "text": [
      "epoch: 20\n",
      "Error: 147248.96517449417\n",
      "epoch: 40\n",
      "Error: 104528.62770442826\n",
      "epoch: 60\n",
      "Error: 82241.60747753865\n",
      "epoch: 80\n",
      "Error: 68213.3600644427\n",
      "epoch: 100\n",
      "Error: 58433.284139402116\n",
      "epoch: 120\n",
      "Error: 51229.317961122164\n",
      "epoch: 140\n",
      "Error: 45734.11076237523\n",
      "epoch: 160\n",
      "Error: 41429.652783329075\n",
      "epoch: 180\n",
      "Error: 37982.6221161172\n",
      "Starting Training.....\n",
      "epoch: 0\n",
      "Error: 190018.23191754316\n"
     ]
    },
    {
     "name": "stderr",
     "output_type": "stream",
     "text": [
      "/tmp/ipykernel_21601/3202280365.py:32: DeprecationWarning: Conversion of an array with ndim > 0 to a scalar is deprecated, and will error in future. Ensure you extract a single element from your array before performing this operation. (Deprecated NumPy 1.25.)\n",
      "  grad[i][j] = (a**i)*(b**j)*(t - prediction)\n"
     ]
    },
    {
     "name": "stdout",
     "output_type": "stream",
     "text": [
      "epoch: 50\n",
      "Error: 306470.3792405295\n",
      "epoch: 100\n",
      "Error: 6622277.376602867\n",
      "epoch: 150\n",
      "Error: 72554664.76418932\n",
      "epoch: 200\n",
      "Error: 650083762.1661656\n",
      "epoch: 250\n",
      "Error: 5649449982.401103\n",
      "epoch: 300\n",
      "Error: 49703316467.175285\n",
      "epoch: 350\n",
      "Error: 445683336236.1636\n",
      "epoch: 400\n",
      "Error: 4059945689604.3467\n",
      "epoch: 450\n",
      "Error: 37350167264242.414\n",
      "Starting Training.....\n",
      "epoch: 0\n",
      "Error: 191068.07270567407\n"
     ]
    },
    {
     "name": "stderr",
     "output_type": "stream",
     "text": [
      "/tmp/ipykernel_21601/3202280365.py:32: DeprecationWarning: Conversion of an array with ndim > 0 to a scalar is deprecated, and will error in future. Ensure you extract a single element from your array before performing this operation. (Deprecated NumPy 1.25.)\n",
      "  grad[i][j] = (a**i)*(b**j)*(t - prediction)\n"
     ]
    },
    {
     "name": "stdout",
     "output_type": "stream",
     "text": [
      "epoch: 50\n",
      "Error: 19872.417435140196\n",
      "epoch: 100\n",
      "Error: 16889.85379953804\n",
      "epoch: 150\n",
      "Error: 16393.582393361146\n",
      "epoch: 200\n",
      "Error: 16165.292049915115\n",
      "epoch: 250\n",
      "Error: 16004.20427704389\n",
      "epoch: 300\n",
      "Error: 15874.7498213333\n",
      "epoch: 350\n",
      "Error: 15765.074187276174\n",
      "epoch: 400\n",
      "Error: 15669.335425034778\n",
      "epoch: 450\n",
      "Error: 15584.010880710139\n",
      "Starting Training.....\n",
      "epoch: 0\n",
      "Error: 191063.62949891845\n"
     ]
    },
    {
     "name": "stderr",
     "output_type": "stream",
     "text": [
      "/tmp/ipykernel_21601/3202280365.py:32: DeprecationWarning: Conversion of an array with ndim > 0 to a scalar is deprecated, and will error in future. Ensure you extract a single element from your array before performing this operation. (Deprecated NumPy 1.25.)\n",
      "  grad[i][j] = (a**i)*(b**j)*(t - prediction)\n"
     ]
    },
    {
     "name": "stdout",
     "output_type": "stream",
     "text": [
      "epoch: 50\n",
      "Error: 19860.041006503932\n",
      "epoch: 100\n",
      "Error: 16881.200874061306\n",
      "epoch: 150\n",
      "Error: 16386.2909109455\n",
      "epoch: 200\n",
      "Error: 16158.876428003668\n",
      "epoch: 250\n",
      "Error: 15998.431355365223\n",
      "epoch: 300\n",
      "Error: 15869.47238936845\n",
      "epoch: 350\n",
      "Error: 15760.192337409128\n",
      "epoch: 400\n",
      "Error: 15664.779181290305\n",
      "epoch: 450\n",
      "Error: 15579.730078259843\n",
      "Starting Training.....\n",
      "epoch: 0\n",
      "Error: 191257.78351012952\n"
     ]
    },
    {
     "name": "stderr",
     "output_type": "stream",
     "text": [
      "/tmp/ipykernel_21601/3202280365.py:32: DeprecationWarning: Conversion of an array with ndim > 0 to a scalar is deprecated, and will error in future. Ensure you extract a single element from your array before performing this operation. (Deprecated NumPy 1.25.)\n",
      "  grad[i][j] = (a**i)*(b**j)*(t - prediction)\n"
     ]
    },
    {
     "name": "stdout",
     "output_type": "stream",
     "text": [
      "epoch: 50\n",
      "Error: 19873.959389383304\n",
      "epoch: 100\n",
      "Error: 16889.05980250182\n",
      "epoch: 150\n",
      "Error: 16393.681847304768\n",
      "epoch: 200\n",
      "Error: 16166.189052747433\n",
      "epoch: 250\n",
      "Error: 16005.636120680767\n",
      "epoch: 300\n",
      "Error: 15876.520552077027\n",
      "epoch: 350\n",
      "Error: 15767.049378684753\n",
      "epoch: 400\n",
      "Error: 15671.42424725847\n",
      "epoch: 450\n",
      "Error: 15586.152190932393\n"
     ]
    }
   ],
   "source": [
    "# Loop through degrees and create surface plots\n",
    "for deg in [2, 3, 4, 5, 6, 7, 8, 9]:\n",
    "    # model = PolynomialRegressionModel(degree=degree, q=0, lmbda=0)\n",
    "    # model.fit(train.drop(['Weight'], axis=1), train['Weight'], test.drop(['Weight'], axis=1), test['Weight'], lr=0.01, epochs=500, batch_size=20)\n",
    "    print(deg)\n",
    "    model = PolynomialRegressionModel(degree=deg, q=0.0, lmbda=0.0)\n",
    "    model.fit(train.drop(['Weight'], axis=1), train['Weight'], test.drop(['Weight'], axis=1), test['Weight'], lr=0.001, epochs=200, batch_size=20)\n",
    "\n",
    "    # Generate sample data for the surface plot\n",
    "    a_values = np.linspace(min(train.to_numpy()[:, 0]), max(train.to_numpy()[:, 0]), 100)\n",
    "    b_values = np.linspace(min(train.to_numpy()[:, 1]), max(train.to_numpy()[:, 1]), 100)\n",
    "    a_mesh, b_mesh = np.meshgrid(a_values, b_values)\n",
    "\n",
    "    prediction_points = np.c_[a_mesh.ravel(), b_mesh.ravel()]\n",
    "    predictions = model.predict(prediction_points)\n",
    "    predictions_surface = predictions.reshape(a_mesh.shape)\n",
    "\n",
    "    # Create and save the surface plot\n",
    "    title = f'Regression Model - Degree {deg}'\n",
    "    save_path = f'surface_plot_degree_{deg}.png'\n",
    "    create_surface_plot(model, a_mesh, b_mesh, predictions_surface, title, save_path)\n",
    "\n",
    "# Now, repeat the process for the best 4 regularized models overall\n",
    "best_models = [\n",
    "    {'degree': 7, 'q': 2, 'lmbda': 1.0},\n",
    "    {'degree': 7, 'q': 2, 'lmbda': 0.5},\n",
    "    {'degree': 7, 'q': 2, 'lmbda': 0.1},\n",
    "    {'degree': 7, 'q': 2, 'lmbda': 0.2}\n",
    "]\n",
    "\n",
    "for best_model in best_models:\n",
    "    degree = best_model['degree']\n",
    "    q = best_model['q']\n",
    "    lmbda = best_model['lmbda']\n",
    "\n",
    "    model = PolynomialRegressionModel(degree=degree, q=q, lmbda=lmbda)\n",
    "    model.fit(np.array(train.drop(['Weight'], axis=1)), np.array(train['Weight']), np.array(test.drop(['Weight'], axis=1)), np.array(test['Weight']), lr=0.01, epochs=500, batch_size=20)\n",
    "\n",
    "    # Generate sample data for the surface plot\n",
    "    a_values = np.linspace(min(train.to_numpy()[:, 0]), max(train.to_numpy()[:, 0]), 100)\n",
    "    b_values = np.linspace(min(test.to_numpy()[:, 1]), max(train.to_numpy()[:, 1]), 100)\n",
    "    a_mesh, b_mesh = np.meshgrid(a_values, b_values)\n",
    "\n",
    "    prediction_points = np.c_[a_mesh.ravel(), b_mesh.ravel()]\n",
    "    predictions = model.predict(prediction_points)\n",
    "    predictions_surface = predictions.reshape(a_mesh.shape)\n",
    "\n",
    "    # Create and save the surface plot\n",
    "    title = f'Regularized Model - Degree {degree}, q={q}, Lambda={lmbda}'\n",
    "    save_path = f'surface_plot_regularized_degree_{degree}_q_{q}_lambda_{lmbda}.png'\n",
    "    create_surface_plot(model, a_mesh, b_mesh, predictions_surface, title, save_path)"
   ]
  },
  {
   "cell_type": "markdown",
   "metadata": {},
   "source": [
    "## Comparing Regularized with Unregularized"
   ]
  },
  {
   "cell_type": "code",
   "execution_count": 58,
   "metadata": {},
   "outputs": [
    {
     "name": "stdout",
     "output_type": "stream",
     "text": [
      "Starting Training.....\n",
      "epoch: 0\n",
      "Error: 254152.7074122441\n"
     ]
    },
    {
     "name": "stderr",
     "output_type": "stream",
     "text": [
      "/tmp/ipykernel_21601/3250447016.py:42: DeprecationWarning: Conversion of an array with ndim > 0 to a scalar is deprecated, and will error in future. Ensure you extract a single element from your array before performing this operation. (Deprecated NumPy 1.25.)\n",
      "  grad[i][j] = (a**i)*(b**j)*(t - prediction)\n"
     ]
    },
    {
     "name": "stdout",
     "output_type": "stream",
     "text": [
      "epoch: 5\n",
      "Error: 215216.1604078565\n",
      "epoch: 10\n",
      "Error: 184952.11956610426\n",
      "epoch: 15\n",
      "Error: 161162.4605572484\n",
      "epoch: 20\n",
      "Error: 142224.17291383396\n",
      "epoch: 25\n",
      "Error: 126938.62865131172\n",
      "epoch: 30\n",
      "Error: 114420.26157637885\n",
      "epoch: 35\n",
      "Error: 104014.37455197069\n",
      "epoch: 40\n",
      "Error: 95236.47145069145\n",
      "epoch: 45\n",
      "Error: 87727.49227128424\n",
      "=========logs:=========\n",
      "[['i=0, j=0, wij=77.12027931444128', 'i=0, j=1, wij=82.82301336510272', 'i=0, j=2, wij=73.14036779086146', 'i=0, j=3, wij=200.12541719767194', 'i=0, j=4, wij=134.01975278532282', 'i=0, j=5, wij=576.3367876829235', 'i=0, j=6, wij=274.89642255418863', 'i=0, j=7, wij=1796.5971408389696', 'i=1, j=0, wij=66.31492834913925', 'i=1, j=1, wij=39.30697139642253', 'i=1, j=2, wij=122.851818036001', 'i=1, j=3, wij=25.329155242574032', 'i=1, j=4, wij=334.48768954053764', 'i=1, j=5, wij=-40.37465366230124', 'i=1, j=6, wij=1038.9895585630582', 'i=2, j=0, wij=66.00984204530863', 'i=2, j=1, wij=116.2513484160791', 'i=2, j=2, wij=21.11725217451333', 'i=2, j=3, wij=265.06182724375685', 'i=2, j=4, wij=-82.06915664605155', 'i=2, j=5, wij=768.151953192096', 'i=3, j=0, wij=164.96851387277616', 'i=3, j=1, wij=70.82507463091564', 'i=3, j=2, wij=275.7175502707001', 'i=3, j=3, wij=-29.350831026907386', 'i=3, j=4, wij=695.2109782081994', 'i=4, j=0, wij=191.42105962007952', 'i=4, j=1, wij=359.00003835324685', 'i=4, j=2, wij=110.2607583683178', 'i=4, j=3, wij=750.5149148276358', 'i=5, j=0, wij=563.1750784851902', 'i=5, j=1, wij=361.0276185852913', 'i=5, j=2, wij=951.4681569212373', 'i=6, j=0, wij=825.3040472584897', 'i=6, j=1, wij=1386.4315330101037', 'i=7, j=0, wij=2252.0905581481275']]\n",
      "Starting Training.....\n",
      "epoch: 0\n",
      "Error: 254465.3433742102\n"
     ]
    },
    {
     "name": "stderr",
     "output_type": "stream",
     "text": [
      "/tmp/ipykernel_21601/3250447016.py:42: DeprecationWarning: Conversion of an array with ndim > 0 to a scalar is deprecated, and will error in future. Ensure you extract a single element from your array before performing this operation. (Deprecated NumPy 1.25.)\n",
      "  grad[i][j] = (a**i)*(b**j)*(t - prediction)\n"
     ]
    },
    {
     "name": "stdout",
     "output_type": "stream",
     "text": [
      "epoch: 5\n",
      "Error: 216157.8169976911\n",
      "epoch: 10\n",
      "Error: 187079.23103180277\n",
      "epoch: 15\n",
      "Error: 164659.31719989976\n",
      "epoch: 20\n",
      "Error: 147080.29423670535\n",
      "epoch: 25\n",
      "Error: 133052.60237259782\n",
      "epoch: 30\n",
      "Error: 121657.92008839487\n",
      "epoch: 35\n",
      "Error: 112239.22570977377\n",
      "epoch: 40\n",
      "Error: 104323.7599571377\n",
      "epoch: 45\n",
      "Error: 97569.00346597868\n",
      "=========logs:=========\n",
      "[['i=0, j=0, wij=77.12027931444128', 'i=0, j=1, wij=82.82301336510272', 'i=0, j=2, wij=73.14036779086146', 'i=0, j=3, wij=200.12541719767194', 'i=0, j=4, wij=134.01975278532282', 'i=0, j=5, wij=576.3367876829235', 'i=0, j=6, wij=274.89642255418863', 'i=0, j=7, wij=1796.5971408389696', 'i=1, j=0, wij=66.31492834913925', 'i=1, j=1, wij=39.30697139642253', 'i=1, j=2, wij=122.851818036001', 'i=1, j=3, wij=25.329155242574032', 'i=1, j=4, wij=334.48768954053764', 'i=1, j=5, wij=-40.37465366230124', 'i=1, j=6, wij=1038.9895585630582', 'i=2, j=0, wij=66.00984204530863', 'i=2, j=1, wij=116.2513484160791', 'i=2, j=2, wij=21.11725217451333', 'i=2, j=3, wij=265.06182724375685', 'i=2, j=4, wij=-82.06915664605155', 'i=2, j=5, wij=768.151953192096', 'i=3, j=0, wij=164.96851387277616', 'i=3, j=1, wij=70.82507463091564', 'i=3, j=2, wij=275.7175502707001', 'i=3, j=3, wij=-29.350831026907386', 'i=3, j=4, wij=695.2109782081994', 'i=4, j=0, wij=191.42105962007952', 'i=4, j=1, wij=359.00003835324685', 'i=4, j=2, wij=110.2607583683178', 'i=4, j=3, wij=750.5149148276358', 'i=5, j=0, wij=563.1750784851902', 'i=5, j=1, wij=361.0276185852913', 'i=5, j=2, wij=951.4681569212373', 'i=6, j=0, wij=825.3040472584897', 'i=6, j=1, wij=1386.4315330101037', 'i=7, j=0, wij=2252.0905581481275'], ['i=0, j=0, wij=68.597251045112', 'i=0, j=1, wij=71.90567736897877', 'i=0, j=2, wij=65.89451267319866', 'i=0, j=3, wij=174.0024110510564', 'i=0, j=4, wij=122.04699434971161', 'i=0, j=5, wij=498.84721705890047', 'i=0, j=6, wij=256.8378448009869', 'i=0, j=7, wij=1549.7637458269735', 'i=1, j=0, wij=58.116922407346486', 'i=1, j=1, wij=35.25896596543768', 'i=1, j=2, wij=106.55030684460445', 'i=1, j=3, wij=27.012761041389872', 'i=1, j=4, wij=288.98847902817454', 'i=1, j=5, wij=-22.73352936868629', 'i=1, j=6, wij=890.7152776612897', 'i=2, j=0, wij=59.641783017837305', 'i=2, j=1, wij=102.18655206450555', 'i=2, j=2, wij=23.49350813733408', 'i=2, j=3, wij=228.97981929141315', 'i=2, j=4, wij=-65.77279401471682', 'i=2, j=5, wij=658.1208276299975', 'i=3, j=0, wij=145.27401413678692', 'i=3, j=1, wij=67.75127759554718', 'i=3, j=2, wij=240.48407679767556', 'i=3, j=3, wij=-12.203620042263259', 'i=3, j=4, wij=598.5452630440988', 'i=4, j=0, wij=175.87556116592975', 'i=4, j=1, wij=317.83926948327354', 'i=4, j=2, wij=112.33017177593243', 'i=4, j=3, wij=654.3051643362259', 'i=5, j=0, wij=501.19004294230893', 'i=5, j=1, wij=337.38217034372025', 'i=5, j=2, wij=840.9483684856064', 'i=6, j=0, wij=754.5050648453966', 'i=6, j=1, wij=1237.480033211393', 'i=7, j=0, wij=2021.0943143230772']]\n",
      "Starting Training.....\n",
      "epoch: 0\n",
      "Error: 253989.7000553282\n"
     ]
    },
    {
     "name": "stderr",
     "output_type": "stream",
     "text": [
      "/tmp/ipykernel_21601/3250447016.py:42: DeprecationWarning: Conversion of an array with ndim > 0 to a scalar is deprecated, and will error in future. Ensure you extract a single element from your array before performing this operation. (Deprecated NumPy 1.25.)\n",
      "  grad[i][j] = (a**i)*(b**j)*(t - prediction)\n"
     ]
    },
    {
     "name": "stdout",
     "output_type": "stream",
     "text": [
      "epoch: 5\n",
      "Error: 215839.974371822\n",
      "epoch: 10\n",
      "Error: 186874.22154624216\n",
      "epoch: 15\n",
      "Error: 164535.29890727808\n",
      "epoch: 20\n",
      "Error: 147014.64875190705\n",
      "epoch: 25\n",
      "Error: 133029.2022769767\n",
      "epoch: 30\n",
      "Error: 121665.21415585522\n",
      "epoch: 35\n",
      "Error: 112268.89619293992\n",
      "epoch: 40\n",
      "Error: 104369.78014563821\n",
      "epoch: 45\n",
      "Error: 97626.97542158254\n",
      "=========logs:=========\n",
      "[['i=0, j=0, wij=77.12027931444128', 'i=0, j=1, wij=82.82301336510272', 'i=0, j=2, wij=73.14036779086146', 'i=0, j=3, wij=200.12541719767194', 'i=0, j=4, wij=134.01975278532282', 'i=0, j=5, wij=576.3367876829235', 'i=0, j=6, wij=274.89642255418863', 'i=0, j=7, wij=1796.5971408389696', 'i=1, j=0, wij=66.31492834913925', 'i=1, j=1, wij=39.30697139642253', 'i=1, j=2, wij=122.851818036001', 'i=1, j=3, wij=25.329155242574032', 'i=1, j=4, wij=334.48768954053764', 'i=1, j=5, wij=-40.37465366230124', 'i=1, j=6, wij=1038.9895585630582', 'i=2, j=0, wij=66.00984204530863', 'i=2, j=1, wij=116.2513484160791', 'i=2, j=2, wij=21.11725217451333', 'i=2, j=3, wij=265.06182724375685', 'i=2, j=4, wij=-82.06915664605155', 'i=2, j=5, wij=768.151953192096', 'i=3, j=0, wij=164.96851387277616', 'i=3, j=1, wij=70.82507463091564', 'i=3, j=2, wij=275.7175502707001', 'i=3, j=3, wij=-29.350831026907386', 'i=3, j=4, wij=695.2109782081994', 'i=4, j=0, wij=191.42105962007952', 'i=4, j=1, wij=359.00003835324685', 'i=4, j=2, wij=110.2607583683178', 'i=4, j=3, wij=750.5149148276358', 'i=5, j=0, wij=563.1750784851902', 'i=5, j=1, wij=361.0276185852913', 'i=5, j=2, wij=951.4681569212373', 'i=6, j=0, wij=825.3040472584897', 'i=6, j=1, wij=1386.4315330101037', 'i=7, j=0, wij=2252.0905581481275'], ['i=0, j=0, wij=68.597251045112', 'i=0, j=1, wij=71.90567736897877', 'i=0, j=2, wij=65.89451267319866', 'i=0, j=3, wij=174.0024110510564', 'i=0, j=4, wij=122.04699434971161', 'i=0, j=5, wij=498.84721705890047', 'i=0, j=6, wij=256.8378448009869', 'i=0, j=7, wij=1549.7637458269735', 'i=1, j=0, wij=58.116922407346486', 'i=1, j=1, wij=35.25896596543768', 'i=1, j=2, wij=106.55030684460445', 'i=1, j=3, wij=27.012761041389872', 'i=1, j=4, wij=288.98847902817454', 'i=1, j=5, wij=-22.73352936868629', 'i=1, j=6, wij=890.7152776612897', 'i=2, j=0, wij=59.641783017837305', 'i=2, j=1, wij=102.18655206450555', 'i=2, j=2, wij=23.49350813733408', 'i=2, j=3, wij=228.97981929141315', 'i=2, j=4, wij=-65.77279401471682', 'i=2, j=5, wij=658.1208276299975', 'i=3, j=0, wij=145.27401413678692', 'i=3, j=1, wij=67.75127759554718', 'i=3, j=2, wij=240.48407679767556', 'i=3, j=3, wij=-12.203620042263259', 'i=3, j=4, wij=598.5452630440988', 'i=4, j=0, wij=175.87556116592975', 'i=4, j=1, wij=317.83926948327354', 'i=4, j=2, wij=112.33017177593243', 'i=4, j=3, wij=654.3051643362259', 'i=5, j=0, wij=501.19004294230893', 'i=5, j=1, wij=337.38217034372025', 'i=5, j=2, wij=840.9483684856064', 'i=6, j=0, wij=754.5050648453966', 'i=6, j=1, wij=1237.480033211393', 'i=7, j=0, wij=2021.0943143230772'], ['i=0, j=0, wij=68.33501576535895', 'i=0, j=1, wij=71.99679735101994', 'i=0, j=2, wij=65.54000099814746', 'i=0, j=3, wij=174.81286246602153', 'i=0, j=4, wij=121.2154592238456', 'i=0, j=5, wij=499.1555829812235', 'i=0, j=6, wij=256.5580287455636', 'i=0, j=7, wij=1551.9174987215654', 'i=1, j=0, wij=58.27126843451762', 'i=1, j=1, wij=35.99301628513287', 'i=1, j=2, wij=107.18171227580068', 'i=1, j=3, wij=26.530573929440386', 'i=1, j=4, wij=288.4761565474728', 'i=1, j=5, wij=-23.908007210092194', 'i=1, j=6, wij=890.9821157734215', 'i=2, j=0, wij=59.59093634964034', 'i=2, j=1, wij=101.93554129118552', 'i=2, j=2, wij=22.551807390620542', 'i=2, j=3, wij=228.92048186076167', 'i=2, j=4, wij=-67.13154051257217', 'i=2, j=5, wij=658.9090225141384', 'i=3, j=0, wij=145.01074429703087', 'i=3, j=1, wij=67.07883899302665', 'i=3, j=2, wij=240.06149839597444', 'i=3, j=3, wij=-13.974579029771302', 'i=3, j=4, wij=599.2248962291227', 'i=4, j=0, wij=174.58709637242256', 'i=4, j=1, wij=317.0504582996091', 'i=4, j=2, wij=110.59886429415621', 'i=4, j=3, wij=652.8217389376233', 'i=5, j=0, wij=500.02683331537577', 'i=5, j=1, wij=335.43790520963137', 'i=5, j=2, wij=838.4886356904651', 'i=6, j=0, wij=750.2869368655277', 'i=6, j=1, wij=1232.9944547788334', 'i=7, j=0, wij=2013.5199091117481']]\n",
      "Starting Training.....\n",
      "epoch: 0\n",
      "Error: 254312.42969163397\n"
     ]
    },
    {
     "name": "stderr",
     "output_type": "stream",
     "text": [
      "/tmp/ipykernel_21601/3250447016.py:42: DeprecationWarning: Conversion of an array with ndim > 0 to a scalar is deprecated, and will error in future. Ensure you extract a single element from your array before performing this operation. (Deprecated NumPy 1.25.)\n",
      "  grad[i][j] = (a**i)*(b**j)*(t - prediction)\n"
     ]
    },
    {
     "name": "stdout",
     "output_type": "stream",
     "text": [
      "epoch: 5\n",
      "Error: 216002.8759698433\n",
      "epoch: 10\n",
      "Error: 186926.01390828195\n",
      "epoch: 15\n",
      "Error: 164510.1457962363\n",
      "epoch: 20\n",
      "Error: 146936.52450375838\n",
      "epoch: 25\n",
      "Error: 132914.94445174767\n",
      "epoch: 30\n",
      "Error: 121526.65856926977\n",
      "epoch: 35\n",
      "Error: 112114.37057132872\n",
      "epoch: 40\n",
      "Error: 104205.14943461242\n",
      "epoch: 45\n",
      "Error: 97456.37363946243\n",
      "=========logs:=========\n",
      "[['i=0, j=0, wij=77.12027931444128', 'i=0, j=1, wij=82.82301336510272', 'i=0, j=2, wij=73.14036779086146', 'i=0, j=3, wij=200.12541719767194', 'i=0, j=4, wij=134.01975278532282', 'i=0, j=5, wij=576.3367876829235', 'i=0, j=6, wij=274.89642255418863', 'i=0, j=7, wij=1796.5971408389696', 'i=1, j=0, wij=66.31492834913925', 'i=1, j=1, wij=39.30697139642253', 'i=1, j=2, wij=122.851818036001', 'i=1, j=3, wij=25.329155242574032', 'i=1, j=4, wij=334.48768954053764', 'i=1, j=5, wij=-40.37465366230124', 'i=1, j=6, wij=1038.9895585630582', 'i=2, j=0, wij=66.00984204530863', 'i=2, j=1, wij=116.2513484160791', 'i=2, j=2, wij=21.11725217451333', 'i=2, j=3, wij=265.06182724375685', 'i=2, j=4, wij=-82.06915664605155', 'i=2, j=5, wij=768.151953192096', 'i=3, j=0, wij=164.96851387277616', 'i=3, j=1, wij=70.82507463091564', 'i=3, j=2, wij=275.7175502707001', 'i=3, j=3, wij=-29.350831026907386', 'i=3, j=4, wij=695.2109782081994', 'i=4, j=0, wij=191.42105962007952', 'i=4, j=1, wij=359.00003835324685', 'i=4, j=2, wij=110.2607583683178', 'i=4, j=3, wij=750.5149148276358', 'i=5, j=0, wij=563.1750784851902', 'i=5, j=1, wij=361.0276185852913', 'i=5, j=2, wij=951.4681569212373', 'i=6, j=0, wij=825.3040472584897', 'i=6, j=1, wij=1386.4315330101037', 'i=7, j=0, wij=2252.0905581481275'], ['i=0, j=0, wij=68.597251045112', 'i=0, j=1, wij=71.90567736897877', 'i=0, j=2, wij=65.89451267319866', 'i=0, j=3, wij=174.0024110510564', 'i=0, j=4, wij=122.04699434971161', 'i=0, j=5, wij=498.84721705890047', 'i=0, j=6, wij=256.8378448009869', 'i=0, j=7, wij=1549.7637458269735', 'i=1, j=0, wij=58.116922407346486', 'i=1, j=1, wij=35.25896596543768', 'i=1, j=2, wij=106.55030684460445', 'i=1, j=3, wij=27.012761041389872', 'i=1, j=4, wij=288.98847902817454', 'i=1, j=5, wij=-22.73352936868629', 'i=1, j=6, wij=890.7152776612897', 'i=2, j=0, wij=59.641783017837305', 'i=2, j=1, wij=102.18655206450555', 'i=2, j=2, wij=23.49350813733408', 'i=2, j=3, wij=228.97981929141315', 'i=2, j=4, wij=-65.77279401471682', 'i=2, j=5, wij=658.1208276299975', 'i=3, j=0, wij=145.27401413678692', 'i=3, j=1, wij=67.75127759554718', 'i=3, j=2, wij=240.48407679767556', 'i=3, j=3, wij=-12.203620042263259', 'i=3, j=4, wij=598.5452630440988', 'i=4, j=0, wij=175.87556116592975', 'i=4, j=1, wij=317.83926948327354', 'i=4, j=2, wij=112.33017177593243', 'i=4, j=3, wij=654.3051643362259', 'i=5, j=0, wij=501.19004294230893', 'i=5, j=1, wij=337.38217034372025', 'i=5, j=2, wij=840.9483684856064', 'i=6, j=0, wij=754.5050648453966', 'i=6, j=1, wij=1237.480033211393', 'i=7, j=0, wij=2021.0943143230772'], ['i=0, j=0, wij=68.33501576535895', 'i=0, j=1, wij=71.99679735101994', 'i=0, j=2, wij=65.54000099814746', 'i=0, j=3, wij=174.81286246602153', 'i=0, j=4, wij=121.2154592238456', 'i=0, j=5, wij=499.1555829812235', 'i=0, j=6, wij=256.5580287455636', 'i=0, j=7, wij=1551.9174987215654', 'i=1, j=0, wij=58.27126843451762', 'i=1, j=1, wij=35.99301628513287', 'i=1, j=2, wij=107.18171227580068', 'i=1, j=3, wij=26.530573929440386', 'i=1, j=4, wij=288.4761565474728', 'i=1, j=5, wij=-23.908007210092194', 'i=1, j=6, wij=890.9821157734215', 'i=2, j=0, wij=59.59093634964034', 'i=2, j=1, wij=101.93554129118552', 'i=2, j=2, wij=22.551807390620542', 'i=2, j=3, wij=228.92048186076167', 'i=2, j=4, wij=-67.13154051257217', 'i=2, j=5, wij=658.9090225141384', 'i=3, j=0, wij=145.01074429703087', 'i=3, j=1, wij=67.07883899302665', 'i=3, j=2, wij=240.06149839597444', 'i=3, j=3, wij=-13.974579029771302', 'i=3, j=4, wij=599.2248962291227', 'i=4, j=0, wij=174.58709637242256', 'i=4, j=1, wij=317.0504582996091', 'i=4, j=2, wij=110.59886429415621', 'i=4, j=3, wij=652.8217389376233', 'i=5, j=0, wij=500.02683331537577', 'i=5, j=1, wij=335.43790520963137', 'i=5, j=2, wij=838.4886356904651', 'i=6, j=0, wij=750.2869368655277', 'i=6, j=1, wij=1232.9944547788334', 'i=7, j=0, wij=2013.5199091117481'], ['i=0, j=0, wij=68.933960116129', 'i=0, j=1, wij=71.992713804501', 'i=0, j=2, wij=65.7090751220046', 'i=0, j=3, wij=174.71980606041353', 'i=0, j=4, wij=122.39302994262201', 'i=0, j=5, wij=498.1191876060744', 'i=0, j=6, wij=258.4921548611095', 'i=0, j=7, wij=1548.8883277227571', 'i=1, j=0, wij=58.11214719448005', 'i=1, j=1, wij=35.25870438722041', 'i=1, j=2, wij=106.80709809183678', 'i=1, j=3, wij=27.11899939946136', 'i=1, j=4, wij=288.253614151165', 'i=1, j=5, wij=-22.503444214185603', 'i=1, j=6, wij=888.5934170706139', 'i=2, j=0, wij=59.642852681020244', 'i=2, j=1, wij=101.99588020431338', 'i=2, j=2, wij=23.221308713635064', 'i=2, j=3, wij=228.84004971704792', 'i=2, j=4, wij=-64.99655734743592', 'i=2, j=5, wij=657.0228454448682', 'i=3, j=0, wij=145.0228084238521', 'i=3, j=1, wij=67.94103830270389', 'i=3, j=2, wij=240.87647757591114', 'i=3, j=3, wij=-12.161824209689174', 'i=3, j=4, wij=598.1795582023466', 'i=4, j=0, wij=175.69549488920111', 'i=4, j=1, wij=317.159272304255', 'i=4, j=2, wij=112.1821454107659', 'i=4, j=3, wij=652.646149679579', 'i=5, j=0, wij=500.766424910815', 'i=5, j=1, wij=338.3232966306104', 'i=5, j=2, wij=839.3851698886576', 'i=6, j=0, wij=754.137489763782', 'i=6, j=1, wij=1236.5891219217654', 'i=7, j=0, wij=2019.5557410931096']]\n",
      "Starting Training.....\n",
      "epoch: 0\n",
      "Error: 255299.32292267415\n"
     ]
    },
    {
     "name": "stderr",
     "output_type": "stream",
     "text": [
      "/tmp/ipykernel_21601/3250447016.py:42: DeprecationWarning: Conversion of an array with ndim > 0 to a scalar is deprecated, and will error in future. Ensure you extract a single element from your array before performing this operation. (Deprecated NumPy 1.25.)\n",
      "  grad[i][j] = (a**i)*(b**j)*(t - prediction)\n"
     ]
    },
    {
     "name": "stdout",
     "output_type": "stream",
     "text": [
      "epoch: 5\n",
      "Error: 216878.88315720196\n",
      "epoch: 10\n",
      "Error: 187711.50747163352\n",
      "epoch: 15\n",
      "Error: 165220.52145220368\n",
      "epoch: 20\n",
      "Error: 147583.58244461278\n",
      "epoch: 25\n",
      "Error: 133507.8673276213\n",
      "epoch: 30\n",
      "Error: 122072.70626192083\n",
      "epoch: 35\n",
      "Error: 112619.37577630836\n",
      "epoch: 40\n",
      "Error: 104673.87291275909\n",
      "epoch: 45\n",
      "Error: 97892.76040224325\n",
      "=========logs:=========\n",
      "[['i=0, j=0, wij=77.12027931444128', 'i=0, j=1, wij=82.82301336510272', 'i=0, j=2, wij=73.14036779086146', 'i=0, j=3, wij=200.12541719767194', 'i=0, j=4, wij=134.01975278532282', 'i=0, j=5, wij=576.3367876829235', 'i=0, j=6, wij=274.89642255418863', 'i=0, j=7, wij=1796.5971408389696', 'i=1, j=0, wij=66.31492834913925', 'i=1, j=1, wij=39.30697139642253', 'i=1, j=2, wij=122.851818036001', 'i=1, j=3, wij=25.329155242574032', 'i=1, j=4, wij=334.48768954053764', 'i=1, j=5, wij=-40.37465366230124', 'i=1, j=6, wij=1038.9895585630582', 'i=2, j=0, wij=66.00984204530863', 'i=2, j=1, wij=116.2513484160791', 'i=2, j=2, wij=21.11725217451333', 'i=2, j=3, wij=265.06182724375685', 'i=2, j=4, wij=-82.06915664605155', 'i=2, j=5, wij=768.151953192096', 'i=3, j=0, wij=164.96851387277616', 'i=3, j=1, wij=70.82507463091564', 'i=3, j=2, wij=275.7175502707001', 'i=3, j=3, wij=-29.350831026907386', 'i=3, j=4, wij=695.2109782081994', 'i=4, j=0, wij=191.42105962007952', 'i=4, j=1, wij=359.00003835324685', 'i=4, j=2, wij=110.2607583683178', 'i=4, j=3, wij=750.5149148276358', 'i=5, j=0, wij=563.1750784851902', 'i=5, j=1, wij=361.0276185852913', 'i=5, j=2, wij=951.4681569212373', 'i=6, j=0, wij=825.3040472584897', 'i=6, j=1, wij=1386.4315330101037', 'i=7, j=0, wij=2252.0905581481275'], ['i=0, j=0, wij=68.597251045112', 'i=0, j=1, wij=71.90567736897877', 'i=0, j=2, wij=65.89451267319866', 'i=0, j=3, wij=174.0024110510564', 'i=0, j=4, wij=122.04699434971161', 'i=0, j=5, wij=498.84721705890047', 'i=0, j=6, wij=256.8378448009869', 'i=0, j=7, wij=1549.7637458269735', 'i=1, j=0, wij=58.116922407346486', 'i=1, j=1, wij=35.25896596543768', 'i=1, j=2, wij=106.55030684460445', 'i=1, j=3, wij=27.012761041389872', 'i=1, j=4, wij=288.98847902817454', 'i=1, j=5, wij=-22.73352936868629', 'i=1, j=6, wij=890.7152776612897', 'i=2, j=0, wij=59.641783017837305', 'i=2, j=1, wij=102.18655206450555', 'i=2, j=2, wij=23.49350813733408', 'i=2, j=3, wij=228.97981929141315', 'i=2, j=4, wij=-65.77279401471682', 'i=2, j=5, wij=658.1208276299975', 'i=3, j=0, wij=145.27401413678692', 'i=3, j=1, wij=67.75127759554718', 'i=3, j=2, wij=240.48407679767556', 'i=3, j=3, wij=-12.203620042263259', 'i=3, j=4, wij=598.5452630440988', 'i=4, j=0, wij=175.87556116592975', 'i=4, j=1, wij=317.83926948327354', 'i=4, j=2, wij=112.33017177593243', 'i=4, j=3, wij=654.3051643362259', 'i=5, j=0, wij=501.19004294230893', 'i=5, j=1, wij=337.38217034372025', 'i=5, j=2, wij=840.9483684856064', 'i=6, j=0, wij=754.5050648453966', 'i=6, j=1, wij=1237.480033211393', 'i=7, j=0, wij=2021.0943143230772'], ['i=0, j=0, wij=68.33501576535895', 'i=0, j=1, wij=71.99679735101994', 'i=0, j=2, wij=65.54000099814746', 'i=0, j=3, wij=174.81286246602153', 'i=0, j=4, wij=121.2154592238456', 'i=0, j=5, wij=499.1555829812235', 'i=0, j=6, wij=256.5580287455636', 'i=0, j=7, wij=1551.9174987215654', 'i=1, j=0, wij=58.27126843451762', 'i=1, j=1, wij=35.99301628513287', 'i=1, j=2, wij=107.18171227580068', 'i=1, j=3, wij=26.530573929440386', 'i=1, j=4, wij=288.4761565474728', 'i=1, j=5, wij=-23.908007210092194', 'i=1, j=6, wij=890.9821157734215', 'i=2, j=0, wij=59.59093634964034', 'i=2, j=1, wij=101.93554129118552', 'i=2, j=2, wij=22.551807390620542', 'i=2, j=3, wij=228.92048186076167', 'i=2, j=4, wij=-67.13154051257217', 'i=2, j=5, wij=658.9090225141384', 'i=3, j=0, wij=145.01074429703087', 'i=3, j=1, wij=67.07883899302665', 'i=3, j=2, wij=240.06149839597444', 'i=3, j=3, wij=-13.974579029771302', 'i=3, j=4, wij=599.2248962291227', 'i=4, j=0, wij=174.58709637242256', 'i=4, j=1, wij=317.0504582996091', 'i=4, j=2, wij=110.59886429415621', 'i=4, j=3, wij=652.8217389376233', 'i=5, j=0, wij=500.02683331537577', 'i=5, j=1, wij=335.43790520963137', 'i=5, j=2, wij=838.4886356904651', 'i=6, j=0, wij=750.2869368655277', 'i=6, j=1, wij=1232.9944547788334', 'i=7, j=0, wij=2013.5199091117481'], ['i=0, j=0, wij=68.933960116129', 'i=0, j=1, wij=71.992713804501', 'i=0, j=2, wij=65.7090751220046', 'i=0, j=3, wij=174.71980606041353', 'i=0, j=4, wij=122.39302994262201', 'i=0, j=5, wij=498.1191876060744', 'i=0, j=6, wij=258.4921548611095', 'i=0, j=7, wij=1548.8883277227571', 'i=1, j=0, wij=58.11214719448005', 'i=1, j=1, wij=35.25870438722041', 'i=1, j=2, wij=106.80709809183678', 'i=1, j=3, wij=27.11899939946136', 'i=1, j=4, wij=288.253614151165', 'i=1, j=5, wij=-22.503444214185603', 'i=1, j=6, wij=888.5934170706139', 'i=2, j=0, wij=59.642852681020244', 'i=2, j=1, wij=101.99588020431338', 'i=2, j=2, wij=23.221308713635064', 'i=2, j=3, wij=228.84004971704792', 'i=2, j=4, wij=-64.99655734743592', 'i=2, j=5, wij=657.0228454448682', 'i=3, j=0, wij=145.0228084238521', 'i=3, j=1, wij=67.94103830270389', 'i=3, j=2, wij=240.87647757591114', 'i=3, j=3, wij=-12.161824209689174', 'i=3, j=4, wij=598.1795582023466', 'i=4, j=0, wij=175.69549488920111', 'i=4, j=1, wij=317.159272304255', 'i=4, j=2, wij=112.1821454107659', 'i=4, j=3, wij=652.646149679579', 'i=5, j=0, wij=500.766424910815', 'i=5, j=1, wij=338.3232966306104', 'i=5, j=2, wij=839.3851698886576', 'i=6, j=0, wij=754.137489763782', 'i=6, j=1, wij=1236.5891219217654', 'i=7, j=0, wij=2019.5557410931096'], ['i=0, j=0, wij=68.19419932285868', 'i=0, j=1, wij=71.83537355072407', 'i=0, j=2, wij=65.54458358449959', 'i=0, j=3, wij=174.7351269805982', 'i=0, j=4, wij=122.39132715583857', 'i=0, j=5, wij=499.8096908423431', 'i=0, j=6, wij=257.5966107602993', 'i=0, j=7, wij=1554.1718558344608', 'i=1, j=0, wij=57.63126687725827', 'i=1, j=1, wij=35.373591024246736', 'i=1, j=2, wij=107.46541101570641', 'i=1, j=3, wij=26.909835117221007', 'i=1, j=4, wij=289.097822005028', 'i=1, j=5, wij=-23.27759780293717', 'i=1, j=6, wij=892.3369525856868', 'i=2, j=0, wij=60.04461823474144', 'i=2, j=1, wij=102.77324405863047', 'i=2, j=2, wij=22.770932944888596', 'i=2, j=3, wij=229.84801263890884', 'i=2, j=4, wij=-66.30492559233512', 'i=2, j=5, wij=659.9510011433688', 'i=3, j=0, wij=145.29366592852273', 'i=3, j=1, wij=68.18839421171458', 'i=3, j=2, wij=241.6240538216268', 'i=3, j=3, wij=-12.679996841424574', 'i=3, j=4, wij=599.7868089132038', 'i=4, j=0, wij=175.41959326734434', 'i=4, j=1, wij=317.4598399326244', 'i=4, j=2, wij=112.18514134816802', 'i=4, j=3, wij=655.0187107586148', 'i=5, j=0, wij=501.67012707408367', 'i=5, j=1, wij=337.9813185137653', 'i=5, j=2, wij=841.7901350517932', 'i=6, j=0, wij=754.161293250301', 'i=6, j=1, wij=1238.6151773734832', 'i=7, j=0, wij=2022.9563444474595']]\n"
     ]
    },
    {
     "data": {
      "image/png": "[encoded data removed]",
      "text/plain": [
       "<Figure size 1500x1000 with 6 Axes>"
      ]
     },
     "metadata": {},
     "output_type": "display_data"
    }
   ],
   "source": [
    "import matplotlib.pyplot as plt\n",
    "\n",
    "# Define the models with their configurations\n",
    "models = [\n",
    "    {'degree': 7, 'lr': 0.001, 'lmbda': 1.0, 'batch_size': 20, 'epoch': 2571, 'q': 2, 'color':'red'},\n",
    "    {'degree': 7, 'lr': 0.001, 'lmbda': 0.5, 'batch_size': 20, 'epoch': 2571, 'q': 2, 'color':'blue'},\n",
    "    {'degree': 7, 'lr': 0.001, 'lmbda': 0.1, 'batch_size': 20, 'epoch': 2571, 'q': 2, 'color':'green'},\n",
    "    {'degree': 7, 'lr': 0.001, 'lmbda': 0.2, 'batch_size': 20, 'epoch': 2571, 'q': 2, 'color':'orange'},\n",
    "    {'degree': 7, 'lr': 0.001, 'lmbda': 0.0, 'batch_size': 20, 'epoch': 2571, 'q': 0, 'color':'black'},\n",
    "]\n",
    "\n",
    "# Function to draw subplots for each model within the same figure\n",
    "def draw_subplots(models):\n",
    "    logs = []\n",
    "    # Define the number of rows and columns for subplots\n",
    "    num_rows = 3  # Adjust as needed\n",
    "    num_cols = 2  # Adjust as needed\n",
    "\n",
    "    # Create a new figure with subplots\n",
    "    fig, axes = plt.subplots(num_rows, num_cols, figsize=(15, 10))\n",
    "\n",
    "    # Flatten the axes array to simplify indexing\n",
    "    axes = axes.flatten()\n",
    "\n",
    "    for i, model in enumerate(models):\n",
    "        degree = model['degree']\n",
    "        lr = model['lr']\n",
    "        lmbda = model['lmbda']\n",
    "        batch_size = model['batch_size']\n",
    "        epoch = model['epoch']\n",
    "        q = model['q']\n",
    "\n",
    "        # Your code for loading the model goes here\n",
    "        model_instance = PolynomialRegressionModel(degree=degree, q=q, lmbda=lmbda)\n",
    "        model_instance.fit(train.drop(['Weight'], axis=1), train['Weight'], test.drop(['Weight'], axis=1), test['Weight'], lr=lr, epochs=500, batch_size=batch_size)\n",
    "        logs.append(model_instance.print())\n",
    "        # Plotting\n",
    "        epochs = list(model_instance.train_errors.keys())\n",
    "        train_errors = list(model_instance.train_errors.values())\n",
    "        test_errors = list(model_instance.test_errors.values())\n",
    "\n",
    "        # Plot training errors\n",
    "        axes[i].scatter(epochs[::1500], train_errors[::1500], label=f'Training Loss - {degree}, q={q}, Lambda={lmbda}', marker='o', s=50, color=model['color'])\n",
    "\n",
    "        # Plot testing errors\n",
    "        axes[i].scatter(epochs[::1500], test_errors[::1500], label=f'Testing Loss - {degree}, q={q}, Lambda={lmbda}', marker='x', s=50, color=model['color'])\n",
    "\n",
    "        # Find the minimum error point and annotate it\n",
    "        min_train_error_epoch = epochs[train_errors.index(min(train_errors))]\n",
    "        min_test_error_epoch = epochs[test_errors.index(min(test_errors))]\n",
    "\n",
    "        min_train_error_value = min(train_errors)\n",
    "        min_test_error_value = min(test_errors)\n",
    "\n",
    "        axes[i].annotate(f'Min Train Error: {min_train_error_value:.2f}', xy=(min_train_error_epoch, min_train_error_value), xytext=(min_train_error_epoch, min_train_error_value + 10),\n",
    "                         arrowprops=dict(facecolor='black', shrink=0.05),)\n",
    "\n",
    "        axes[i].annotate(f'Min Test Error: {min_test_error_value:.2f}', xy=(min_test_error_epoch, min_test_error_value), xytext=(min_test_error_epoch, min_test_error_value + 10),\n",
    "                         arrowprops=dict(facecolor='black', shrink=0.05),)\n",
    "\n",
    "        # Add labels and legend\n",
    "        axes[i].set_title(f'Model - {degree}, q={q}, Lambda={lmbda}')\n",
    "        axes[i].set_xlabel('Samples')\n",
    "        axes[i].set_ylabel('Error')\n",
    "        axes[i].grid(True)\n",
    "        axes[i].legend()\n",
    "\n",
    "        print(\"=========logs:=========\")\n",
    "        print(logs)\n",
    "\n",
    "    # Adjust layout for better appearance\n",
    "    plt.tight_layout()\n",
    "    plt.savefig('all_subplots.png')\n",
    "    plt.show()\n",
    "\n",
    "# Draw subplots for each model within the same figure\n",
    "draw_subplots(models)\n"
   ]
  },
  {
   "cell_type": "code",
   "execution_count": 25,
   "metadata": {},
   "outputs": [
    {
     "data": {
      "image/png": "[encoded data removed]",
      "text/plain": [
       "<Figure size 640x480 with 1 Axes>"
      ]
     },
     "metadata": {},
     "output_type": "display_data"
    }
   ],
   "source": [
    "model.test_errors\n",
    "epochs = list(model.train_errors.keys())\n",
    "errors = list(model.train_errors.values())\n",
    "\n",
    "plt.plot(epochs, errors, marker='o')\n",
    "epochs = list(model.test_errors.keys())\n",
    "errors = list(model.test_errors.values())\n",
    "plt.plot(epochs, errors, marker='x')\n",
    "plt.title('Error vs Samples')\n",
    "plt.xlabel('Samples')\n",
    "plt.ylabel('Error')\n",
    "plt.grid(True)\n",
    "plt.show()"
   ]
  },
  {
   "cell_type": "code",
   "execution_count": 25,
   "metadata": {},
   "outputs": [
    {
     "ename": "IndexError",
     "evalue": "index 2 is out of bounds for axis 0 with size 2",
     "output_type": "error",
     "traceback": [
      "\u001b[0;31m---------------------------------------------------------------------------\u001b[0m",
      "\u001b[0;31mIndexError\u001b[0m                                Traceback (most recent call last)",
      "\u001b[1;32m/home/mpradyumna/Desktop/RegressionFromScratch/DoubleVariablePolynomialRegression.ipynb/DoubleVariablePolynomialRegression.ipynb Cell 34\u001b[0m line \u001b[0;36m9\n\u001b[1;32m      <a href='vscode-notebook-cell:/home/mpradyumna/Desktop/RegressionFromScratch/DoubleVariablePolynomialRegression.ipynb/DoubleVariablePolynomialRegression.ipynb#X45sZmlsZQ%3D%3D?line=5'>6</a>\u001b[0m a_mesh, b_mesh \u001b[39m=\u001b[39m np\u001b[39m.\u001b[39mmeshgrid(a_values, b_values)\n\u001b[1;32m      <a href='vscode-notebook-cell:/home/mpradyumna/Desktop/RegressionFromScratch/DoubleVariablePolynomialRegression.ipynb/DoubleVariablePolynomialRegression.ipynb#X45sZmlsZQ%3D%3D?line=7'>8</a>\u001b[0m prediction_points \u001b[39m=\u001b[39m np\u001b[39m.\u001b[39mc_[a_mesh\u001b[39m.\u001b[39mravel(), b_mesh\u001b[39m.\u001b[39mravel()]\n\u001b[0;32m----> <a href='vscode-notebook-cell:/home/mpradyumna/Desktop/RegressionFromScratch/DoubleVariablePolynomialRegression.ipynb/DoubleVariablePolynomialRegression.ipynb#X45sZmlsZQ%3D%3D?line=8'>9</a>\u001b[0m predictions \u001b[39m=\u001b[39m model\u001b[39m.\u001b[39;49mpredict(prediction_points)\n\u001b[1;32m     <a href='vscode-notebook-cell:/home/mpradyumna/Desktop/RegressionFromScratch/DoubleVariablePolynomialRegression.ipynb/DoubleVariablePolynomialRegression.ipynb#X45sZmlsZQ%3D%3D?line=9'>10</a>\u001b[0m predictions_surface \u001b[39m=\u001b[39m predictions\u001b[39m.\u001b[39mreshape(a_mesh\u001b[39m.\u001b[39mshape)\n\u001b[1;32m     <a href='vscode-notebook-cell:/home/mpradyumna/Desktop/RegressionFromScratch/DoubleVariablePolynomialRegression.ipynb/DoubleVariablePolynomialRegression.ipynb#X45sZmlsZQ%3D%3D?line=11'>12</a>\u001b[0m fig \u001b[39m=\u001b[39m plt\u001b[39m.\u001b[39mfigure(figsize\u001b[39m=\u001b[39m(\u001b[39m10\u001b[39m, \u001b[39m8\u001b[39m))\n",
      "\u001b[1;32m/home/mpradyumna/Desktop/RegressionFromScratch/DoubleVariablePolynomialRegression.ipynb/DoubleVariablePolynomialRegression.ipynb Cell 34\u001b[0m line \u001b[0;36m1\n\u001b[1;32m    <a href='vscode-notebook-cell:/home/mpradyumna/Desktop/RegressionFromScratch/DoubleVariablePolynomialRegression.ipynb/DoubleVariablePolynomialRegression.ipynb#X45sZmlsZQ%3D%3D?line=131'>132</a>\u001b[0m         \u001b[39mfor\u001b[39;00m j \u001b[39min\u001b[39;00m \u001b[39mrange\u001b[39m(degree\u001b[39m+\u001b[39m\u001b[39m1\u001b[39m):\n\u001b[1;32m    <a href='vscode-notebook-cell:/home/mpradyumna/Desktop/RegressionFromScratch/DoubleVariablePolynomialRegression.ipynb/DoubleVariablePolynomialRegression.ipynb#X45sZmlsZQ%3D%3D?line=132'>133</a>\u001b[0m             \u001b[39mif\u001b[39;00m i \u001b[39m+\u001b[39m j \u001b[39m<\u001b[39m\u001b[39m=\u001b[39m degree:\n\u001b[0;32m--> <a href='vscode-notebook-cell:/home/mpradyumna/Desktop/RegressionFromScratch/DoubleVariablePolynomialRegression.ipynb/DoubleVariablePolynomialRegression.ipynb#X45sZmlsZQ%3D%3D?line=133'>134</a>\u001b[0m                 y \u001b[39m+\u001b[39m\u001b[39m=\u001b[39m \u001b[39mself\u001b[39;49m\u001b[39m.\u001b[39;49mweights[i][j]\u001b[39m*\u001b[39m(a\u001b[39m*\u001b[39m\u001b[39m*\u001b[39mi)\u001b[39m*\u001b[39m(b\u001b[39m*\u001b[39m\u001b[39m*\u001b[39mj)\n\u001b[1;32m    <a href='vscode-notebook-cell:/home/mpradyumna/Desktop/RegressionFromScratch/DoubleVariablePolynomialRegression.ipynb/DoubleVariablePolynomialRegression.ipynb#X45sZmlsZQ%3D%3D?line=134'>135</a>\u001b[0m     result\u001b[39m.\u001b[39mappend(y)\n\u001b[1;32m    <a href='vscode-notebook-cell:/home/mpradyumna/Desktop/RegressionFromScratch/DoubleVariablePolynomialRegression.ipynb/DoubleVariablePolynomialRegression.ipynb#X45sZmlsZQ%3D%3D?line=135'>136</a>\u001b[0m \u001b[39mreturn\u001b[39;00m np\u001b[39m.\u001b[39marray(result)\n",
      "\u001b[0;31mIndexError\u001b[0m: index 2 is out of bounds for axis 0 with size 2"
     ]
    }
   ],
   "source": [
    "import matplotlib.pyplot as plt\n",
    "from mpl_toolkits.mplot3d import Axes3D\n",
    "\n",
    "a_values = np.linspace(min(train.to_numpy()[:, 0]), max(train.to_numpy()[:, 0]), 100)\n",
    "b_values = np.linspace(min(test.to_numpy()[:, 1]), max(train.to_numpy()[:, 1]), 100)\n",
    "a_mesh, b_mesh = np.meshgrid(a_values, b_values)\n",
    "\n",
    "prediction_points = np.c_[a_mesh.ravel(), b_mesh.ravel()]\n",
    "predictions = model.predict(prediction_points)\n",
    "predictions_surface = predictions.reshape(a_mesh.shape)\n",
    "\n",
    "fig = plt.figure(figsize=(10, 8))\n",
    "ax = fig.add_subplot(111, projection='3d')\n",
    "\n",
    "ax.plot_surface(a_mesh, b_mesh, predictions_surface, cmap='viridis')\n",
    "\n",
    "# ax.scatter((train+test .to_numpy()[:, 0], train.to_numpy()[:, 1], train['Weight'].to_numpy(), color='blue', marker='o')\n",
    "\n",
    "ax.set_xlabel('Height')\n",
    "ax.set_ylabel('Width')\n",
    "ax.set_zlabel('Predicted Weight')\n",
    "\n",
    "plt.title('3D Surface Plot of Polynomial Regression Model Predictions')\n",
    "plt.show()"
   ]
  },
  {
   "cell_type": "markdown",
   "metadata": {},
   "source": [
    "## R2 value"
   ]
  },
  {
   "cell_type": "code",
   "execution_count": 26,
   "metadata": {},
   "outputs": [
    {
     "ename": "IndexError",
     "evalue": "index 2 is out of bounds for axis 0 with size 2",
     "output_type": "error",
     "traceback": [
      "\u001b[0;31m---------------------------------------------------------------------------\u001b[0m",
      "\u001b[0;31mIndexError\u001b[0m                                Traceback (most recent call last)",
      "\u001b[1;32m/home/mpradyumna/Desktop/RegressionFromScratch/DoubleVariablePolynomialRegression.ipynb/DoubleVariablePolynomialRegression.ipynb Cell 36\u001b[0m line \u001b[0;36m1\n\u001b[1;32m      <a href='vscode-notebook-cell:/home/mpradyumna/Desktop/RegressionFromScratch/DoubleVariablePolynomialRegression.ipynb/DoubleVariablePolynomialRegression.ipynb#X50sZmlsZQ%3D%3D?line=6'>7</a>\u001b[0m     r2_score \u001b[39m=\u001b[39m \u001b[39m1\u001b[39m \u001b[39m-\u001b[39m (sse \u001b[39m/\u001b[39m tse)\n\u001b[1;32m      <a href='vscode-notebook-cell:/home/mpradyumna/Desktop/RegressionFromScratch/DoubleVariablePolynomialRegression.ipynb/DoubleVariablePolynomialRegression.ipynb#X50sZmlsZQ%3D%3D?line=7'>8</a>\u001b[0m     \u001b[39mreturn\u001b[39;00m r2_score, sse, tse\n\u001b[0;32m---> <a href='vscode-notebook-cell:/home/mpradyumna/Desktop/RegressionFromScratch/DoubleVariablePolynomialRegression.ipynb/DoubleVariablePolynomialRegression.ipynb#X50sZmlsZQ%3D%3D?line=9'>10</a>\u001b[0m y_pred \u001b[39m=\u001b[39m model\u001b[39m.\u001b[39;49mpredict(np\u001b[39m.\u001b[39;49marray(test\u001b[39m.\u001b[39;49mdrop([\u001b[39m'\u001b[39;49m\u001b[39mWeight\u001b[39;49m\u001b[39m'\u001b[39;49m], axis\u001b[39m=\u001b[39;49m\u001b[39m1\u001b[39;49m)))\n\u001b[1;32m     <a href='vscode-notebook-cell:/home/mpradyumna/Desktop/RegressionFromScratch/DoubleVariablePolynomialRegression.ipynb/DoubleVariablePolynomialRegression.ipynb#X50sZmlsZQ%3D%3D?line=10'>11</a>\u001b[0m y_actual \u001b[39m=\u001b[39m test[\u001b[39m'\u001b[39m\u001b[39mWeight\u001b[39m\u001b[39m'\u001b[39m]\n\u001b[1;32m     <a href='vscode-notebook-cell:/home/mpradyumna/Desktop/RegressionFromScratch/DoubleVariablePolynomialRegression.ipynb/DoubleVariablePolynomialRegression.ipynb#X50sZmlsZQ%3D%3D?line=11'>12</a>\u001b[0m compute_r2(y_actual, y_pred)[\u001b[39m0\u001b[39m]\n",
      "\u001b[1;32m/home/mpradyumna/Desktop/RegressionFromScratch/DoubleVariablePolynomialRegression.ipynb/DoubleVariablePolynomialRegression.ipynb Cell 36\u001b[0m line \u001b[0;36m1\n\u001b[1;32m    <a href='vscode-notebook-cell:/home/mpradyumna/Desktop/RegressionFromScratch/DoubleVariablePolynomialRegression.ipynb/DoubleVariablePolynomialRegression.ipynb#X50sZmlsZQ%3D%3D?line=131'>132</a>\u001b[0m         \u001b[39mfor\u001b[39;00m j \u001b[39min\u001b[39;00m \u001b[39mrange\u001b[39m(degree\u001b[39m+\u001b[39m\u001b[39m1\u001b[39m):\n\u001b[1;32m    <a href='vscode-notebook-cell:/home/mpradyumna/Desktop/RegressionFromScratch/DoubleVariablePolynomialRegression.ipynb/DoubleVariablePolynomialRegression.ipynb#X50sZmlsZQ%3D%3D?line=132'>133</a>\u001b[0m             \u001b[39mif\u001b[39;00m i \u001b[39m+\u001b[39m j \u001b[39m<\u001b[39m\u001b[39m=\u001b[39m degree:\n\u001b[0;32m--> <a href='vscode-notebook-cell:/home/mpradyumna/Desktop/RegressionFromScratch/DoubleVariablePolynomialRegression.ipynb/DoubleVariablePolynomialRegression.ipynb#X50sZmlsZQ%3D%3D?line=133'>134</a>\u001b[0m                 y \u001b[39m+\u001b[39m\u001b[39m=\u001b[39m \u001b[39mself\u001b[39;49m\u001b[39m.\u001b[39;49mweights[i][j]\u001b[39m*\u001b[39m(a\u001b[39m*\u001b[39m\u001b[39m*\u001b[39mi)\u001b[39m*\u001b[39m(b\u001b[39m*\u001b[39m\u001b[39m*\u001b[39mj)\n\u001b[1;32m    <a href='vscode-notebook-cell:/home/mpradyumna/Desktop/RegressionFromScratch/DoubleVariablePolynomialRegression.ipynb/DoubleVariablePolynomialRegression.ipynb#X50sZmlsZQ%3D%3D?line=134'>135</a>\u001b[0m     result\u001b[39m.\u001b[39mappend(y)\n\u001b[1;32m    <a href='vscode-notebook-cell:/home/mpradyumna/Desktop/RegressionFromScratch/DoubleVariablePolynomialRegression.ipynb/DoubleVariablePolynomialRegression.ipynb#X50sZmlsZQ%3D%3D?line=135'>136</a>\u001b[0m \u001b[39mreturn\u001b[39;00m np\u001b[39m.\u001b[39marray(result)\n",
      "\u001b[0;31mIndexError\u001b[0m: index 2 is out of bounds for axis 0 with size 2"
     ]
    }
   ],
   "source": [
    "from __future__ import division \n",
    "import numpy as np\n",
    "\n",
    "def compute_r2(y_true, y_predicted):\n",
    "    sse = sum((y_true - y_predicted)**2)\n",
    "    tse = (len(y_true) - 1) * np.var(y_true, ddof=1)\n",
    "    r2_score = 1 - (sse / tse)\n",
    "    return r2_score, sse, tse\n",
    "\n",
    "y_pred = model.predict(np.array(test.drop(['Weight'], axis=1)))\n",
    "y_actual = test['Weight']\n",
    "compute_r2(y_actual, y_pred)[0]"
   ]
  },
  {
   "cell_type": "code",
   "execution_count": 27,
   "metadata": {},
   "outputs": [
    {
     "ename": "NameError",
     "evalue": "name 'y_actual' is not defined",
     "output_type": "error",
     "traceback": [
      "\u001b[0;31m---------------------------------------------------------------------------\u001b[0m",
      "\u001b[0;31mNameError\u001b[0m                                 Traceback (most recent call last)",
      "\u001b[1;32m/home/mpradyumna/Desktop/RegressionFromScratch/DoubleVariablePolynomialRegression.ipynb/DoubleVariablePolynomialRegression.ipynb Cell 37\u001b[0m line \u001b[0;36m2\n\u001b[1;32m      <a href='vscode-notebook-cell:/home/mpradyumna/Desktop/RegressionFromScratch/DoubleVariablePolynomialRegression.ipynb/DoubleVariablePolynomialRegression.ipynb#X51sZmlsZQ%3D%3D?line=0'>1</a>\u001b[0m \u001b[39m# Plotting the 45-degree line\u001b[39;00m\n\u001b[0;32m----> <a href='vscode-notebook-cell:/home/mpradyumna/Desktop/RegressionFromScratch/DoubleVariablePolynomialRegression.ipynb/DoubleVariablePolynomialRegression.ipynb#X51sZmlsZQ%3D%3D?line=1'>2</a>\u001b[0m plt\u001b[39m.\u001b[39mplot([\u001b[39mmin\u001b[39m(y_actual), \u001b[39mmax\u001b[39m(y_actual)], [\u001b[39mmin\u001b[39m(y_actual), \u001b[39mmax\u001b[39m(y_actual)], linestyle\u001b[39m=\u001b[39m\u001b[39m'\u001b[39m\u001b[39m--\u001b[39m\u001b[39m'\u001b[39m, color\u001b[39m=\u001b[39m\u001b[39m'\u001b[39m\u001b[39mgray\u001b[39m\u001b[39m'\u001b[39m, label\u001b[39m=\u001b[39m\u001b[39m'\u001b[39m\u001b[39m45-degree line\u001b[39m\u001b[39m'\u001b[39m)\n\u001b[1;32m      <a href='vscode-notebook-cell:/home/mpradyumna/Desktop/RegressionFromScratch/DoubleVariablePolynomialRegression.ipynb/DoubleVariablePolynomialRegression.ipynb#X51sZmlsZQ%3D%3D?line=3'>4</a>\u001b[0m \u001b[39m# Scatter plot for y_pred and y_actual\u001b[39;00m\n\u001b[1;32m      <a href='vscode-notebook-cell:/home/mpradyumna/Desktop/RegressionFromScratch/DoubleVariablePolynomialRegression.ipynb/DoubleVariablePolynomialRegression.ipynb#X51sZmlsZQ%3D%3D?line=4'>5</a>\u001b[0m plt\u001b[39m.\u001b[39mscatter(y_actual, y_pred, color\u001b[39m=\u001b[39m\u001b[39m'\u001b[39m\u001b[39mblue\u001b[39m\u001b[39m'\u001b[39m, label\u001b[39m=\u001b[39m\u001b[39m'\u001b[39m\u001b[39mScatter plot\u001b[39m\u001b[39m'\u001b[39m)\n",
      "\u001b[0;31mNameError\u001b[0m: name 'y_actual' is not defined"
     ]
    }
   ],
   "source": [
    "# Plotting the 45-degree line\n",
    "plt.plot([min(y_actual), max(y_actual)], [min(y_actual), max(y_actual)], linestyle='--', color='gray', label='45-degree line')\n",
    "\n",
    "# Scatter plot for y_pred and y_actual\n",
    "plt.scatter(y_actual, y_pred, color='blue', label='Scatter plot')\n",
    "\n",
    "# Adding labels and title\n",
    "plt.xlabel('y_actual')\n",
    "plt.ylabel('y_pred')\n",
    "plt.title('Scatter plot of y_pred vs y_actual')\n",
    "\n",
    "# Adding a legend\n",
    "plt.legend()\n",
    "\n",
    "# Display the plot\n",
    "plt.show()"
   ]
  }
 ],
 "metadata": {
  "kernelspec": {
   "display_name": ".venv",
   "language": "python",
   "name": "python3"
  },
  "language_info": {
   "codemirror_mode": {
    "name": "ipython",
    "version": 3
   },
   "file_extension": ".py",
   "mimetype": "text/x-python",
   "name": "python",
   "nbconvert_exporter": "python",
   "pygments_lexer": "ipython3",
   "version": "3.11.5"
  },
  "orig_nbformat": 4
 },
 "nbformat": 4,
 "nbformat_minor": 2
}
