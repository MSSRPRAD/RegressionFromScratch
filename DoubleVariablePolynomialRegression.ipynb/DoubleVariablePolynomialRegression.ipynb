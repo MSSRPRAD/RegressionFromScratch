{
 "cells": [
  {
   "cell_type": "markdown",
   "metadata": {},
   "source": [
    "# Double Variable Polynomial Regression"
   ]
  },
  {
   "cell_type": "markdown",
   "metadata": {},
   "source": [
    "## Install and Import Dependencies"
   ]
  },
  {
   "cell_type": "code",
   "execution_count": 7,
   "metadata": {},
   "outputs": [
    {
     "name": "stdout",
     "output_type": "stream",
     "text": [
      "Requirement already satisfied: numpy in /home/mpradyumna/Desktop/RegressionFromScratch/.venv/lib64/python3.11/site-packages (1.26.0)\n",
      "Requirement already satisfied: pandas in /home/mpradyumna/Desktop/RegressionFromScratch/.venv/lib64/python3.11/site-packages (2.1.1)\n",
      "Requirement already satisfied: matplotlib in /home/mpradyumna/Desktop/RegressionFromScratch/.venv/lib64/python3.11/site-packages (3.8.0)\n",
      "Requirement already satisfied: python-dateutil>=2.8.2 in /home/mpradyumna/Desktop/RegressionFromScratch/.venv/lib64/python3.11/site-packages (from pandas) (2.8.2)\n",
      "Requirement already satisfied: pytz>=2020.1 in /home/mpradyumna/Desktop/RegressionFromScratch/.venv/lib64/python3.11/site-packages (from pandas) (2023.3.post1)\n",
      "Requirement already satisfied: tzdata>=2022.1 in /home/mpradyumna/Desktop/RegressionFromScratch/.venv/lib64/python3.11/site-packages (from pandas) (2023.3)\n",
      "Requirement already satisfied: contourpy>=1.0.1 in /home/mpradyumna/Desktop/RegressionFromScratch/.venv/lib64/python3.11/site-packages (from matplotlib) (1.1.1)\n",
      "Requirement already satisfied: cycler>=0.10 in /home/mpradyumna/Desktop/RegressionFromScratch/.venv/lib64/python3.11/site-packages (from matplotlib) (0.12.1)\n",
      "Requirement already satisfied: fonttools>=4.22.0 in /home/mpradyumna/Desktop/RegressionFromScratch/.venv/lib64/python3.11/site-packages (from matplotlib) (4.43.1)\n",
      "Requirement already satisfied: kiwisolver>=1.0.1 in /home/mpradyumna/Desktop/RegressionFromScratch/.venv/lib64/python3.11/site-packages (from matplotlib) (1.4.5)\n",
      "Requirement already satisfied: packaging>=20.0 in /home/mpradyumna/Desktop/RegressionFromScratch/.venv/lib64/python3.11/site-packages (from matplotlib) (23.2)\n",
      "Requirement already satisfied: pillow>=6.2.0 in /home/mpradyumna/Desktop/RegressionFromScratch/.venv/lib64/python3.11/site-packages (from matplotlib) (10.0.1)\n",
      "Requirement already satisfied: pyparsing>=2.3.1 in /home/mpradyumna/Desktop/RegressionFromScratch/.venv/lib64/python3.11/site-packages (from matplotlib) (3.1.1)\n",
      "Requirement already satisfied: six>=1.5 in /home/mpradyumna/Desktop/RegressionFromScratch/.venv/lib64/python3.11/site-packages (from python-dateutil>=2.8.2->pandas) (1.16.0)\n",
      "Note: you may need to restart the kernel to use updated packages.\n"
     ]
    }
   ],
   "source": [
    "%pip install numpy pandas matplotlib"
   ]
  },
  {
   "cell_type": "code",
   "execution_count": 8,
   "metadata": {},
   "outputs": [],
   "source": [
    "import matplotlib.pyplot as plt\n",
    "import numpy as np\n",
    "import pandas as pd"
   ]
  },
  {
   "cell_type": "markdown",
   "metadata": {},
   "source": [
    "## Load Data"
   ]
  },
  {
   "cell_type": "code",
   "execution_count": 9,
   "metadata": {},
   "outputs": [],
   "source": [
    "df = pd.read_csv('../DoubleVariablePolynomialRegression.ipynb/data/Fish.csv')"
   ]
  },
  {
   "cell_type": "code",
   "execution_count": 10,
   "metadata": {},
   "outputs": [
    {
     "data": {
      "text/html": [
       "<div>\n",
       "<style scoped>\n",
       "    .dataframe tbody tr th:only-of-type {\n",
       "        vertical-align: middle;\n",
       "    }\n",
       "\n",
       "    .dataframe tbody tr th {\n",
       "        vertical-align: top;\n",
       "    }\n",
       "\n",
       "    .dataframe thead th {\n",
       "        text-align: right;\n",
       "    }\n",
       "</style>\n",
       "<table border=\"1\" class=\"dataframe\">\n",
       "  <thead>\n",
       "    <tr style=\"text-align: right;\">\n",
       "      <th></th>\n",
       "      <th>Height</th>\n",
       "      <th>Width</th>\n",
       "      <th>Weight</th>\n",
       "    </tr>\n",
       "  </thead>\n",
       "  <tbody>\n",
       "    <tr>\n",
       "      <th>0</th>\n",
       "      <td>11.5200</td>\n",
       "      <td>4.0200</td>\n",
       "      <td>242.0</td>\n",
       "    </tr>\n",
       "    <tr>\n",
       "      <th>1</th>\n",
       "      <td>12.4800</td>\n",
       "      <td>4.3056</td>\n",
       "      <td>290.0</td>\n",
       "    </tr>\n",
       "    <tr>\n",
       "      <th>2</th>\n",
       "      <td>12.3778</td>\n",
       "      <td>4.6961</td>\n",
       "      <td>340.0</td>\n",
       "    </tr>\n",
       "    <tr>\n",
       "      <th>3</th>\n",
       "      <td>12.7300</td>\n",
       "      <td>4.4555</td>\n",
       "      <td>363.0</td>\n",
       "    </tr>\n",
       "    <tr>\n",
       "      <th>4</th>\n",
       "      <td>12.4440</td>\n",
       "      <td>5.1340</td>\n",
       "      <td>430.0</td>\n",
       "    </tr>\n",
       "  </tbody>\n",
       "</table>\n",
       "</div>"
      ],
      "text/plain": [
       "    Height   Width  Weight\n",
       "0  11.5200  4.0200   242.0\n",
       "1  12.4800  4.3056   290.0\n",
       "2  12.3778  4.6961   340.0\n",
       "3  12.7300  4.4555   363.0\n",
       "4  12.4440  5.1340   430.0"
      ]
     },
     "execution_count": 10,
     "metadata": {},
     "output_type": "execute_result"
    }
   ],
   "source": [
    "df.head()"
   ]
  },
  {
   "cell_type": "markdown",
   "metadata": {},
   "source": [
    "## Note: No NAN Values"
   ]
  },
  {
   "cell_type": "code",
   "execution_count": 11,
   "metadata": {},
   "outputs": [
    {
     "data": {
      "text/plain": [
       "Height    0\n",
       "Width     0\n",
       "Weight    0\n",
       "dtype: int64"
      ]
     },
     "execution_count": 11,
     "metadata": {},
     "output_type": "execute_result"
    }
   ],
   "source": [
    "df.isna().sum()"
   ]
  },
  {
   "cell_type": "markdown",
   "metadata": {},
   "source": [
    "## Normalize the Features"
   ]
  },
  {
   "cell_type": "code",
   "execution_count": 12,
   "metadata": {},
   "outputs": [
    {
     "data": {
      "text/html": [
       "<div>\n",
       "<style scoped>\n",
       "    .dataframe tbody tr th:only-of-type {\n",
       "        vertical-align: middle;\n",
       "    }\n",
       "\n",
       "    .dataframe tbody tr th {\n",
       "        vertical-align: top;\n",
       "    }\n",
       "\n",
       "    .dataframe thead th {\n",
       "        text-align: right;\n",
       "    }\n",
       "</style>\n",
       "<table border=\"1\" class=\"dataframe\">\n",
       "  <thead>\n",
       "    <tr style=\"text-align: right;\">\n",
       "      <th></th>\n",
       "      <th>Height</th>\n",
       "      <th>Width</th>\n",
       "      <th>Weight</th>\n",
       "    </tr>\n",
       "  </thead>\n",
       "  <tbody>\n",
       "    <tr>\n",
       "      <th>0</th>\n",
       "      <td>0.596579</td>\n",
       "      <td>-0.236529</td>\n",
       "      <td>242.0</td>\n",
       "    </tr>\n",
       "    <tr>\n",
       "      <th>1</th>\n",
       "      <td>0.821261</td>\n",
       "      <td>-0.066579</td>\n",
       "      <td>290.0</td>\n",
       "    </tr>\n",
       "    <tr>\n",
       "      <th>2</th>\n",
       "      <td>0.797341</td>\n",
       "      <td>0.165793</td>\n",
       "      <td>340.0</td>\n",
       "    </tr>\n",
       "    <tr>\n",
       "      <th>3</th>\n",
       "      <td>0.879771</td>\n",
       "      <td>0.022621</td>\n",
       "      <td>363.0</td>\n",
       "    </tr>\n",
       "    <tr>\n",
       "      <th>4</th>\n",
       "      <td>0.812835</td>\n",
       "      <td>0.426371</td>\n",
       "      <td>430.0</td>\n",
       "    </tr>\n",
       "  </tbody>\n",
       "</table>\n",
       "</div>"
      ],
      "text/plain": [
       "     Height     Width  Weight\n",
       "0  0.596579 -0.236529   242.0\n",
       "1  0.821261 -0.066579   290.0\n",
       "2  0.797341  0.165793   340.0\n",
       "3  0.879771  0.022621   363.0\n",
       "4  0.812835  0.426371   430.0"
      ]
     },
     "execution_count": 12,
     "metadata": {},
     "output_type": "execute_result"
    }
   ],
   "source": [
    "df['Height'] = (df['Height']-np.mean(df['Height']))/np.std(df['Height'])\n",
    "df['Width'] = (df['Width']-np.mean(df['Width']))/np.std(df['Width'])\n",
    "df.head()"
   ]
  },
  {
   "cell_type": "markdown",
   "metadata": {},
   "source": [
    "## Generate Random Test and Train Splits"
   ]
  },
  {
   "cell_type": "code",
   "execution_count": 13,
   "metadata": {},
   "outputs": [],
   "source": [
    "seed = 420\n",
    "train_fraction = 0.8\n",
    "train = df.sample(frac=train_fraction, random_state=seed)\n",
    "test = df.drop(train.index)"
   ]
  },
  {
   "cell_type": "markdown",
   "metadata": {},
   "source": [
    "## Polynomial Regression Model"
   ]
  },
  {
   "cell_type": "code",
   "execution_count": 19,
   "metadata": {},
   "outputs": [],
   "source": [
    "class PolynomialRegressionModel:\n",
    "    def __init__(self, degree, q, lmbda):\n",
    "        \"\"\"\n",
    "        Polynomial Regression Model for some particular degree.\n",
    "        \"\"\"\n",
    "        self.train_errors = {}\n",
    "        self.test_errors = {}\n",
    "        self.q = q\n",
    "        self.lmbda = lmbda\n",
    "        self.degree = degree\n",
    "        # Initialize Weights\n",
    "        self.weights = np.random.rand(degree+1, degree+1)\n",
    "\n",
    "    def calculate_loss(self, X_i, t_i):\n",
    "        # print('inside self.calculate_loss()')\n",
    "        assert type(X_i[0]) == np.float64 and type(t_i) == np.float64 and type(X_i[1]) == np.float64, \"Types are not matching. Check!\"\n",
    "\n",
    "        a = X_i[0]\n",
    "        b = X_i[1]\n",
    "        t = t_i\n",
    "        prediction = self.predict([(a, b)])\n",
    "        # print('predicted:')\n",
    "        # print(prediction)\n",
    "        # print('expected')\n",
    "        # print(t)\n",
    "\n",
    "        grad = np.zeros_like(self.weights)\n",
    "        grad.fill(0.0)\n",
    "        for i in range(self.degree+1):\n",
    "            for j in range(self.degree+1):\n",
    "                if i + j <= self.degree:\n",
    "                    grad[i][j] = (a**i)*(b**j)*(t - prediction)\n",
    "        \n",
    "        grad += (self.lmbda*self.q//2)*(np.abs(self.weights)**(self.q-1))\n",
    "        # print('loss: ')\n",
    "        # print(grad)\n",
    "        return -1*grad\n",
    "\n",
    "    def fit(self, X_train, y_train, X_test, y_test, lr=0.01, epochs=500, batch_size=20):\n",
    "        \"\"\"\n",
    "        Fit the polynomial regression model using Batch Gradient Descent.\n",
    "\n",
    "        Parameters:\n",
    "        X_train: Input Feature variables.\n",
    "        y_train: Target Variable\n",
    "        X_test: Input Feature variables for test data\n",
    "        y_test: Target Variables for test data\n",
    "        lr: Learning Rate for Gradient Descent\n",
    "        epochs: No of Epochs to train\n",
    "\n",
    "        Returns:\n",
    "        NA\n",
    "        \"\"\"\n",
    "        print('Starting Training.....')\n",
    "        X_train = np.array(X_train)\n",
    "        y_train = np.array(y_train)\n",
    "        # print(X_train.head())\n",
    "        for epoch in range(epochs):\n",
    "            count = 0\n",
    "            loss = np.zeros_like(self.weights)\n",
    "            # print(X_train.shape[0])\n",
    "            \n",
    "            for i in range(X_train.shape[0]):\n",
    "                # print('sample')\n",
    "                # print(X_train[i][0])\n",
    "                # print(X_train[i][1])\n",
    "                # print(y_train[i])\n",
    "                if epoch == 0 or (epoch*epochs+i)%(X_train.shape[0]/2):\n",
    "                    self.train_errors[epoch*epochs + i] = self.calculate_error(X_train, y_train)\n",
    "                    self.test_errors[epoch*epochs + i] = self.calculate_error(X_test, y_test)\n",
    "\n",
    "                X_i = (X_train[i][0],X_train[i][1])\n",
    "                t_i =  y_train[i]\n",
    "\n",
    "                if count%batch_size == 0:\n",
    "                    loss /= batch_size\n",
    "                    # print('loss: ')\n",
    "                    # print(loss)\n",
    "                    # print(self.weights)\n",
    "                    # self.weights += (self.lmbda*self.q//2)*(np.abs(self.weights)**(self.q-1))\n",
    "                    self.weights -= lr*loss\n",
    "                    # print(self.weights)\n",
    "                    loss = np.zeros_like(self.weights)\n",
    "                else:\n",
    "                    loss += self.calculate_loss(X_i, t_i)\n",
    "            \n",
    "                count+=1\n",
    "            if epoch%(epochs/10) == 0:\n",
    "                print(f\"epoch: {epoch}\")\n",
    "                print(f\"Error: {self.calculate_error(X_train, y_train)}\")\n",
    "\n",
    "        return\n",
    "\n",
    "    def calculate_error(self, X_test, y_test):\n",
    "        \"\"\"\n",
    "        Find the error of the model on some data.\n",
    "\n",
    "        Parameters:\n",
    "        X_test: The sample Input Feature.\n",
    "        y_test: The sample Target Feature.\n",
    "\n",
    "        Returns:\n",
    "        A float value that is the MSE b/w the predicted outputs and the target outputs.\n",
    "        \"\"\"\n",
    "        X_test = np.array(X_test)\n",
    "        y_test = np.array(y_test)\n",
    "        predictions = self.predict(X_test)\n",
    "        mse = np.mean(\n",
    "            (predictions-y_test)**2\n",
    "        )\n",
    "        return mse\n",
    "\n",
    "    def predict(self, X_test):\n",
    "        \"\"\"\n",
    "        Make Predictions using the trained model.\n",
    "\n",
    "        Parameters:\n",
    "        X_test: The sample Input Features.\n",
    "\n",
    "        Returns:\n",
    "        A numpy Array with the predicted target variable value for each of the samples having\n",
    "        same dimensions as X_test.\n",
    "        \"\"\"\n",
    "        result = [] \n",
    "        for sample in X_test:\n",
    "            assert type(sample[0]) == np.float64 and type(sample[1]) == np.float64, \"Variable doesn't have the required type!\"\n",
    "            degree = 2\n",
    "            a = sample[0]\n",
    "            b = sample[1]\n",
    "            y = 0\n",
    "            for i in range(degree+1):\n",
    "                for j in range(degree+1):\n",
    "                    if i + j <= degree:\n",
    "                        y += self.weights[i][j]*(a**i)*(b**j)\n",
    "            result.append(y)\n",
    "        return np.array(result)"
   ]
  },
  {
   "cell_type": "markdown",
   "metadata": {},
   "source": [
    "## Grid Search"
   ]
  },
  {
   "cell_type": "markdown",
   "metadata": {},
   "source": [
    "## Without Regularization"
   ]
  },
  {
   "cell_type": "code",
   "execution_count": 15,
   "metadata": {},
   "outputs": [],
   "source": [
    "import json"
   ]
  },
  {
   "cell_type": "code",
   "execution_count": null,
   "metadata": {},
   "outputs": [],
   "source": [
    "model = PolynomialRegressionModel(degree=5, q=2, lmbda=0.1)\n",
    "model.fit(train.drop(['Weight'], axis=1), train['Weight'], test.drop(['Weight'], axis=1), test['Weight'], lr=0.001, epochs=200, batch_size=2)"
   ]
  },
  {
   "cell_type": "code",
   "execution_count": 25,
   "metadata": {},
   "outputs": [
    {
     "name": "stdout",
     "output_type": "stream",
     "text": [
      "doing: 1, 0.001 for 200 epochs\n",
      "Starting Training.....\n",
      "epoch: 0\n",
      "Error: 254987.36622977004\n"
     ]
    },
    {
     "name": "stderr",
     "output_type": "stream",
     "text": [
      "/tmp/ipykernel_16297/3202280365.py:32: DeprecationWarning: Conversion of an array with ndim > 0 to a scalar is deprecated, and will error in future. Ensure you extract a single element from your array before performing this operation. (Deprecated NumPy 1.25.)\n",
      "  grad[i][j] = (a**i)*(b**j)*(t - prediction)\n"
     ]
    },
    {
     "name": "stdout",
     "output_type": "stream",
     "text": [
      "epoch: 20\n",
      "Error: 147597.30626165238\n",
      "epoch: 40\n",
      "Error: 104737.4547311336\n",
      "epoch: 60\n",
      "Error: 82393.90741900583\n",
      "epoch: 80\n",
      "Error: 68334.14127751158\n",
      "epoch: 100\n",
      "Error: 58532.328299594476\n",
      "epoch: 120\n",
      "Error: 51311.81528935179\n",
      "epoch: 140\n",
      "Error: 45803.480695999446\n",
      "epoch: 160\n",
      "Error: 41488.404926595074\n",
      "epoch: 180\n",
      "Error: 38032.689458350964\n",
      "doing: 2, 0.001 for 200 epochs\n",
      "Starting Training.....\n",
      "epoch: 0\n",
      "Error: 253867.72355085713\n"
     ]
    },
    {
     "name": "stderr",
     "output_type": "stream",
     "text": [
      "/tmp/ipykernel_16297/3202280365.py:32: DeprecationWarning: Conversion of an array with ndim > 0 to a scalar is deprecated, and will error in future. Ensure you extract a single element from your array before performing this operation. (Deprecated NumPy 1.25.)\n",
      "  grad[i][j] = (a**i)*(b**j)*(t - prediction)\n"
     ]
    },
    {
     "name": "stdout",
     "output_type": "stream",
     "text": [
      "epoch: 20\n",
      "Error: 147100.47530235464\n",
      "epoch: 40\n",
      "Error: 104467.02838873432\n",
      "epoch: 60\n",
      "Error: 82227.95993280229\n",
      "epoch: 80\n",
      "Error: 68226.03107912627\n",
      "epoch: 100\n",
      "Error: 58459.60722924353\n",
      "epoch: 120\n",
      "Error: 51261.785881895026\n",
      "epoch: 140\n",
      "Error: 45768.32393028431\n",
      "epoch: 160\n",
      "Error: 41463.11101369707\n",
      "epoch: 180\n",
      "Error: 38013.98514703995\n",
      "doing: 3, 0.001 for 200 epochs\n",
      "Starting Training.....\n",
      "epoch: 0\n",
      "Error: 253948.426464409\n"
     ]
    },
    {
     "name": "stderr",
     "output_type": "stream",
     "text": [
      "/tmp/ipykernel_16297/3202280365.py:32: DeprecationWarning: Conversion of an array with ndim > 0 to a scalar is deprecated, and will error in future. Ensure you extract a single element from your array before performing this operation. (Deprecated NumPy 1.25.)\n",
      "  grad[i][j] = (a**i)*(b**j)*(t - prediction)\n"
     ]
    },
    {
     "name": "stdout",
     "output_type": "stream",
     "text": [
      "epoch: 20\n",
      "Error: 147067.12082876515\n",
      "epoch: 40\n",
      "Error: 104404.58999939008\n",
      "epoch: 60\n",
      "Error: 82159.20134957075\n",
      "epoch: 80\n",
      "Error: 68157.92594164744\n",
      "epoch: 100\n",
      "Error: 58394.71358138548\n",
      "epoch: 120\n",
      "Error: 51201.17722276352\n",
      "epoch: 140\n",
      "Error: 45712.438913687365\n",
      "epoch: 160\n",
      "Error: 41412.057964645064\n",
      "epoch: 180\n",
      "Error: 37967.682739025295\n",
      "doing: 4, 0.001 for 200 epochs\n",
      "Starting Training.....\n",
      "epoch: 0\n",
      "Error: 255052.89799243366\n"
     ]
    },
    {
     "name": "stderr",
     "output_type": "stream",
     "text": [
      "/tmp/ipykernel_16297/3202280365.py:32: DeprecationWarning: Conversion of an array with ndim > 0 to a scalar is deprecated, and will error in future. Ensure you extract a single element from your array before performing this operation. (Deprecated NumPy 1.25.)\n",
      "  grad[i][j] = (a**i)*(b**j)*(t - prediction)\n"
     ]
    },
    {
     "name": "stdout",
     "output_type": "stream",
     "text": [
      "epoch: 20\n",
      "Error: 147364.06666066215\n",
      "epoch: 40\n",
      "Error: 104478.88156834603\n",
      "epoch: 60\n",
      "Error: 82164.564275544\n",
      "epoch: 80\n",
      "Error: 68139.31509969271\n",
      "epoch: 100\n",
      "Error: 58367.584345250245\n",
      "epoch: 120\n",
      "Error: 51171.82856133196\n",
      "epoch: 140\n",
      "Error: 45683.73063924747\n",
      "epoch: 160\n",
      "Error: 41385.296532452005\n",
      "epoch: 180\n",
      "Error: 37943.386050533154\n",
      "doing: 5, 0.001 for 200 epochs\n",
      "Starting Training.....\n",
      "epoch: 0\n",
      "Error: 254630.25761440117\n"
     ]
    },
    {
     "name": "stderr",
     "output_type": "stream",
     "text": [
      "/tmp/ipykernel_16297/3202280365.py:32: DeprecationWarning: Conversion of an array with ndim > 0 to a scalar is deprecated, and will error in future. Ensure you extract a single element from your array before performing this operation. (Deprecated NumPy 1.25.)\n",
      "  grad[i][j] = (a**i)*(b**j)*(t - prediction)\n"
     ]
    },
    {
     "name": "stdout",
     "output_type": "stream",
     "text": [
      "epoch: 20\n",
      "Error: 147247.52074871372\n",
      "epoch: 40\n",
      "Error: 104478.98987297734\n",
      "epoch: 60\n",
      "Error: 82216.59552630868\n",
      "epoch: 80\n",
      "Error: 68215.74165100402\n",
      "epoch: 100\n",
      "Error: 58454.47197380075\n",
      "epoch: 120\n",
      "Error: 51261.46071762852\n",
      "epoch: 140\n",
      "Error: 45771.740289210014\n",
      "epoch: 160\n",
      "Error: 41469.277998911166\n",
      "epoch: 180\n",
      "Error: 38022.11769339522\n",
      "doing: 6, 0.001 for 200 epochs\n",
      "Starting Training.....\n",
      "epoch: 0\n",
      "Error: 254049.24364569611\n"
     ]
    },
    {
     "name": "stderr",
     "output_type": "stream",
     "text": [
      "/tmp/ipykernel_16297/3202280365.py:32: DeprecationWarning: Conversion of an array with ndim > 0 to a scalar is deprecated, and will error in future. Ensure you extract a single element from your array before performing this operation. (Deprecated NumPy 1.25.)\n",
      "  grad[i][j] = (a**i)*(b**j)*(t - prediction)\n"
     ]
    },
    {
     "name": "stdout",
     "output_type": "stream",
     "text": [
      "epoch: 20\n",
      "Error: 147271.4833298508\n",
      "epoch: 40\n",
      "Error: 104600.22201326446\n",
      "epoch: 60\n",
      "Error: 82328.50106302697\n",
      "epoch: 80\n",
      "Error: 68302.75885174556\n",
      "epoch: 100\n",
      "Error: 58519.62479289286\n",
      "epoch: 120\n",
      "Error: 51310.09394210343\n",
      "epoch: 140\n",
      "Error: 45808.32532146553\n",
      "epoch: 160\n",
      "Error: 41497.11151467394\n",
      "epoch: 180\n",
      "Error: 38043.558308100124\n",
      "doing: 7, 0.001 for 200 epochs\n",
      "Starting Training.....\n",
      "epoch: 0\n",
      "Error: 255008.33345103698\n"
     ]
    },
    {
     "name": "stderr",
     "output_type": "stream",
     "text": [
      "/tmp/ipykernel_16297/3202280365.py:32: DeprecationWarning: Conversion of an array with ndim > 0 to a scalar is deprecated, and will error in future. Ensure you extract a single element from your array before performing this operation. (Deprecated NumPy 1.25.)\n",
      "  grad[i][j] = (a**i)*(b**j)*(t - prediction)\n"
     ]
    },
    {
     "name": "stdout",
     "output_type": "stream",
     "text": [
      "epoch: 20\n",
      "Error: 147398.02462525017\n",
      "epoch: 40\n",
      "Error: 104545.5447219729\n",
      "epoch: 60\n",
      "Error: 82245.09558809182\n",
      "epoch: 80\n",
      "Error: 68224.39836332388\n",
      "epoch: 100\n",
      "Error: 58452.150116114164\n",
      "epoch: 120\n",
      "Error: 51253.07276813971\n",
      "epoch: 140\n",
      "Error: 45760.174140634066\n",
      "epoch: 160\n",
      "Error: 41456.26023771446\n",
      "epoch: 180\n",
      "Error: 38008.67382260426\n",
      "doing: 8, 0.001 for 200 epochs\n",
      "Starting Training.....\n",
      "epoch: 0\n",
      "Error: 254920.17854160425\n"
     ]
    },
    {
     "name": "stderr",
     "output_type": "stream",
     "text": [
      "/tmp/ipykernel_16297/3202280365.py:32: DeprecationWarning: Conversion of an array with ndim > 0 to a scalar is deprecated, and will error in future. Ensure you extract a single element from your array before performing this operation. (Deprecated NumPy 1.25.)\n",
      "  grad[i][j] = (a**i)*(b**j)*(t - prediction)\n"
     ]
    },
    {
     "name": "stdout",
     "output_type": "stream",
     "text": [
      "epoch: 20\n",
      "Error: 147282.34569801047\n",
      "epoch: 40\n",
      "Error: 104451.713980096\n",
      "epoch: 60\n",
      "Error: 82174.76956598107\n",
      "epoch: 80\n",
      "Error: 68171.61252862206\n",
      "epoch: 100\n",
      "Error: 58411.47356373712\n",
      "epoch: 120\n",
      "Error: 51220.676343878564\n",
      "epoch: 140\n",
      "Error: 45733.53570851859\n",
      "epoch: 160\n",
      "Error: 41433.74924533378\n",
      "epoch: 180\n",
      "Error: 37989.23541453939\n",
      "doing: 9, 0.001 for 200 epochs\n",
      "Starting Training.....\n",
      "epoch: 0\n",
      "Error: 255059.60362045496\n"
     ]
    },
    {
     "name": "stderr",
     "output_type": "stream",
     "text": [
      "/tmp/ipykernel_16297/3202280365.py:32: DeprecationWarning: Conversion of an array with ndim > 0 to a scalar is deprecated, and will error in future. Ensure you extract a single element from your array before performing this operation. (Deprecated NumPy 1.25.)\n",
      "  grad[i][j] = (a**i)*(b**j)*(t - prediction)\n"
     ]
    },
    {
     "name": "stdout",
     "output_type": "stream",
     "text": [
      "epoch: 20\n",
      "Error: 147306.23559916392\n",
      "epoch: 40\n",
      "Error: 104434.13312749239\n",
      "epoch: 60\n",
      "Error: 82140.79332361354\n",
      "epoch: 80\n",
      "Error: 68131.54248883497\n",
      "epoch: 100\n",
      "Error: 58370.20182199576\n",
      "epoch: 120\n",
      "Error: 51180.663364019696\n",
      "epoch: 140\n",
      "Error: 45695.980642125985\n",
      "epoch: 160\n",
      "Error: 41399.152584318144\n",
      "epoch: 180\n",
      "Error: 37957.70685379684\n"
     ]
    }
   ],
   "source": [
    "errors = []\n",
    "for degree in [1, 2, 3, 4, 5, 6, 7, 8, 9]:\n",
    "    for lr in [0.1, 0.001, 0.0001]:\n",
    "        print(f\"doing: {degree}, {lr} for 200 epochs\")\n",
    "        model = PolynomialRegressionModel(degree=5, q=0, lmbda=0)\n",
    "        model.fit(train.drop(['Weight'], axis=1), train['Weight'], test.drop(['Weight'], axis=1), test['Weight'], lr=lr, epochs=200, batch_size=20)\n",
    "        errors.append({\n",
    "                    \"degree\": degree,\n",
    "                    \"lr\": lr,\n",
    "                    \"test_errors: \": model.test_errors,\n",
    "                    \"train_errors: \": model.train_errors\n",
    "                })\n",
    "json_obj = json.dumps(errors)\n",
    "with open('double_noreg.json', 'w') as fp:\n",
    "    fp.write(json_obj)"
   ]
  },
  {
   "cell_type": "code",
   "execution_count": 35,
   "metadata": {},
   "outputs": [
    {
     "name": "stdout",
     "output_type": "stream",
     "text": [
      "Best Degree: 4\n",
      "Best Learning Rate: 0.001\n",
      "Best Test Loss: 68681.13519550429\n"
     ]
    }
   ],
   "source": [
    "with open('double_noreg.json', 'r') as fp:\n",
    "    data = json.load(fp)\n",
    "\n",
    "best_degree = None\n",
    "best_lr = None\n",
    "best_epoch = None\n",
    "best_test_loss = float('inf')  # Set to positive infinity initially\n",
    "\n",
    "\n",
    "# Perform grid search\n",
    "for entry in data:\n",
    "    degree = entry['degree']\n",
    "    lr = entry['lr']\n",
    "    test_errors = entry['test_errors: ']\n",
    "    for epoch in test_errors:\n",
    "        error = test_errors[epoch]\n",
    "        if error < best_test_loss:\n",
    "            best_test_loss = error\n",
    "            best_lr = lr\n",
    "            best_degree = degree\n",
    "            best_epoch = epoch\n",
    "\n",
    "# Display the best configuration and test loss\n",
    "print(f\"Best Degree: {best_degree}\")\n",
    "print(f\"Best Learning Rate: {best_lr}\")\n",
    "print(f\"Best Test Loss: {best_test_loss}\")\n",
    "print(f\"Epoch: {best_epoch}\")"
   ]
  },
  {
   "cell_type": "markdown",
   "metadata": {},
   "source": [
    "## With Regularization"
   ]
  },
  {
   "cell_type": "code",
   "execution_count": null,
   "metadata": {},
   "outputs": [],
   "source": [
    "errors = []\n",
    "# Note this should be chosen from analysis of previous grid search without regularization\n",
    "best_fit_degree = 2\n",
    "for degree in [best_fit_degree]:  \n",
    "    for lr in [0.01, 0.001, 0.0001]:\n",
    "        for q in [0.5, 1, 2, 4]:\n",
    "            for batch_size in [20, 1]:\n",
    "                for lmbda in [0.0, 0.1, 0.2, 0.3, 0.4, 0.5, 0.6, 0.7, 0.8, 0.9, 1.0]:\n",
    "                    print(f\"doing: {degree}, {lr}, {q}, {batch_size} for 500 epochs\")\n",
    "                    model = PolynomialRegressionModel(degree=degree, q=q, lmbda=lmbda)\n",
    "                    model.fit(train.drop(['Weight'], axis=1), train['Weight'], test.drop(['Weight'], axis=1), test['Weight'], lr=lr, epochs=500, batch_size=batch_size)\n",
    "                    errors.append({\n",
    "                        \"degree\": degree,\n",
    "                        \"lr\": lr,\n",
    "                        \"q\": q, \n",
    "                        \"lmbda\": lmbda,\n",
    "                        \"batch_size\": batch_size,\n",
    "                        \"test_errors: \": model.test_errors,\n",
    "                        \"train_errors: \": model.train_errors\n",
    "                    })\n",
    "                    print(errors)\n",
    "json_obj = json.dumps(errors)\n",
    "with open('double_withreg.json', 'w') as fp:\n",
    "    json.dump(json_obj, fp)"
   ]
  },
  {
   "cell_type": "markdown",
   "metadata": {},
   "source": [
    "## Plots"
   ]
  },
  {
   "cell_type": "code",
   "execution_count": 36,
   "metadata": {},
   "outputs": [
    {
     "name": "stdout",
     "output_type": "stream",
     "text": [
      "Starting Training.....\n",
      "epoch: 0\n",
      "Error: 219966.28384434822\n"
     ]
    },
    {
     "name": "stderr",
     "output_type": "stream",
     "text": [
      "/tmp/ipykernel_16297/3202280365.py:32: DeprecationWarning: Conversion of an array with ndim > 0 to a scalar is deprecated, and will error in future. Ensure you extract a single element from your array before performing this operation. (Deprecated NumPy 1.25.)\n",
      "  grad[i][j] = (a**i)*(b**j)*(t - prediction)\n"
     ]
    },
    {
     "name": "stdout",
     "output_type": "stream",
     "text": [
      "epoch: 20\n",
      "Error: 65008.30184788361\n",
      "epoch: 40\n",
      "Error: 42915.53887939515\n",
      "epoch: 60\n",
      "Error: 32891.54530683681\n",
      "epoch: 80\n",
      "Error: 27465.28735733693\n",
      "Unexpected exception formatting exception. Falling back to standard exception\n"
     ]
    },
    {
     "name": "stderr",
     "output_type": "stream",
     "text": [
      "Traceback (most recent call last):\n",
      "  File \"/home/mpradyumna/Desktop/RegressionFromScratch/.venv/lib64/python3.11/site-packages/IPython/core/interactiveshell.py\", line 3526, in run_code\n",
      "    exec(code_obj, self.user_global_ns, self.user_ns)\n",
      "  File \"/tmp/ipykernel_16297/1728085082.py\", line 2, in <module>\n",
      "    model.fit(train.drop(['Weight'], axis=1), train['Weight'], test.drop(['Weight'], axis=1), test['Weight'], lr=0.001, epochs=200, batch_size=2)\n",
      "  File \"/tmp/ipykernel_16297/3202280365.py\", line 70, in fit\n",
      "    self.test_errors[epoch*epochs + i] = self.calculate_error(X_test, y_test)\n",
      "                                         ^^^^^^^^^^^^^^^^^^^^^^^^^^^^^^^^^^^^\n",
      "  File \"/tmp/ipykernel_16297/3202280365.py\", line 107, in calculate_error\n",
      "    predictions = self.predict(X_test)\n",
      "                  ^^^^^^^^^^^^^^^^^^^^\n",
      "  File \"/tmp/ipykernel_16297/3202280365.py\", line -1, in predict\n",
      "KeyboardInterrupt\n",
      "\n",
      "During handling of the above exception, another exception occurred:\n",
      "\n",
      "Traceback (most recent call last):\n",
      "  File \"/home/mpradyumna/Desktop/RegressionFromScratch/.venv/lib64/python3.11/site-packages/IPython/core/interactiveshell.py\", line 2120, in showtraceback\n",
      "    stb = self.InteractiveTB.structured_traceback(\n",
      "          ^^^^^^^^^^^^^^^^^^^^^^^^^^^^^^^^^^^^^^^^\n",
      "  File \"/home/mpradyumna/Desktop/RegressionFromScratch/.venv/lib64/python3.11/site-packages/IPython/core/ultratb.py\", line 1435, in structured_traceback\n",
      "    return FormattedTB.structured_traceback(\n",
      "           ^^^^^^^^^^^^^^^^^^^^^^^^^^^^^^^^^\n",
      "  File \"/home/mpradyumna/Desktop/RegressionFromScratch/.venv/lib64/python3.11/site-packages/IPython/core/ultratb.py\", line 1326, in structured_traceback\n",
      "    return VerboseTB.structured_traceback(\n",
      "           ^^^^^^^^^^^^^^^^^^^^^^^^^^^^^^^\n",
      "  File \"/home/mpradyumna/Desktop/RegressionFromScratch/.venv/lib64/python3.11/site-packages/IPython/core/ultratb.py\", line 1173, in structured_traceback\n",
      "    formatted_exception = self.format_exception_as_a_whole(etype, evalue, etb, number_of_lines_of_context,\n",
      "                          ^^^^^^^^^^^^^^^^^^^^^^^^^^^^^^^^^^^^^^^^^^^^^^^^^^^^^^^^^^^^^^^^^^^^^^^^^^^^^^^^\n",
      "  File \"/home/mpradyumna/Desktop/RegressionFromScratch/.venv/lib64/python3.11/site-packages/IPython/core/ultratb.py\", line 1088, in format_exception_as_a_whole\n",
      "    frames.append(self.format_record(record))\n",
      "                  ^^^^^^^^^^^^^^^^^^^^^^^^^^\n",
      "  File \"/home/mpradyumna/Desktop/RegressionFromScratch/.venv/lib64/python3.11/site-packages/IPython/core/ultratb.py\", line 970, in format_record\n",
      "    frame_info.lines, Colors, self.has_colors, lvals\n",
      "    ^^^^^^^^^^^^^^^^\n",
      "  File \"/home/mpradyumna/Desktop/RegressionFromScratch/.venv/lib64/python3.11/site-packages/IPython/core/ultratb.py\", line 792, in lines\n",
      "    return self._sd.lines\n",
      "           ^^^^^^^^^^^^^^\n",
      "  File \"/home/mpradyumna/Desktop/RegressionFromScratch/.venv/lib64/python3.11/site-packages/stack_data/utils.py\", line 145, in cached_property_wrapper\n",
      "    value = obj.__dict__[self.func.__name__] = self.func(obj)\n",
      "                                               ^^^^^^^^^^^^^^\n",
      "  File \"/home/mpradyumna/Desktop/RegressionFromScratch/.venv/lib64/python3.11/site-packages/stack_data/core.py\", line 734, in lines\n",
      "    pieces = self.included_pieces\n",
      "             ^^^^^^^^^^^^^^^^^^^^\n",
      "  File \"/home/mpradyumna/Desktop/RegressionFromScratch/.venv/lib64/python3.11/site-packages/stack_data/utils.py\", line 145, in cached_property_wrapper\n",
      "    value = obj.__dict__[self.func.__name__] = self.func(obj)\n",
      "                                               ^^^^^^^^^^^^^^\n",
      "  File \"/home/mpradyumna/Desktop/RegressionFromScratch/.venv/lib64/python3.11/site-packages/stack_data/core.py\", line 681, in included_pieces\n",
      "    pos = scope_pieces.index(self.executing_piece)\n",
      "                             ^^^^^^^^^^^^^^^^^^^^\n",
      "  File \"/home/mpradyumna/Desktop/RegressionFromScratch/.venv/lib64/python3.11/site-packages/stack_data/utils.py\", line 145, in cached_property_wrapper\n",
      "    value = obj.__dict__[self.func.__name__] = self.func(obj)\n",
      "                                               ^^^^^^^^^^^^^^\n",
      "  File \"/home/mpradyumna/Desktop/RegressionFromScratch/.venv/lib64/python3.11/site-packages/stack_data/core.py\", line 660, in executing_piece\n",
      "    return only(\n",
      "           ^^^^^\n",
      "  File \"/home/mpradyumna/Desktop/RegressionFromScratch/.venv/lib64/python3.11/site-packages/executing/executing.py\", line 116, in only\n",
      "    raise NotOneValueFound('Expected one value, found 0')\n",
      "executing.executing.NotOneValueFound: Expected one value, found 0\n"
     ]
    }
   ],
   "source": [
    "model = PolynomialRegressionModel(degree=4, q=0, lmbda=0)\n",
    "model.fit(train.drop(['Weight'], axis=1), train['Weight'], test.drop(['Weight'], axis=1), test['Weight'], lr=0.001, epochs=200, batch_size=2)"
   ]
  },
  {
   "cell_type": "code",
   "execution_count": null,
   "metadata": {},
   "outputs": [],
   "source": [
    "model.test_errors\n",
    "epochs = list(model.train_errors.keys())\n",
    "errors = list(model.train_errors.values())\n",
    "\n",
    "plt.plot(epochs, errors, marker='o')\n",
    "epochs = list(model.test_errors.keys())\n",
    "errors = list(model.test_errors.values())\n",
    "plt.plot(epochs, errors, marker='x')\n",
    "plt.title('Error vs Samples')\n",
    "plt.xlabel('Samples')\n",
    "plt.ylabel('Error')\n",
    "plt.grid(True)\n",
    "plt.show()"
   ]
  },
  {
   "cell_type": "code",
   "execution_count": null,
   "metadata": {},
   "outputs": [],
   "source": [
    "import matplotlib.pyplot as plt\n",
    "from mpl_toolkits.mplot3d import Axes3D"
   ]
  },
  {
   "cell_type": "code",
   "execution_count": null,
   "metadata": {},
   "outputs": [],
   "source": [
    "a_values = np.linspace(min(train.to_numpy()[:, 0]), max(train.to_numpy()[:, 0]), 100)\n",
    "b_values = np.linspace(min(test.to_numpy()[:, 1]), max(train.to_numpy()[:, 1]), 100)\n",
    "a_mesh, b_mesh = np.meshgrid(a_values, b_values)\n",
    "\n",
    "prediction_points = np.c_[a_mesh.ravel(), b_mesh.ravel()]\n",
    "predictions = model.predict(prediction_points)\n",
    "predictions_surface = predictions.reshape(a_mesh.shape)\n",
    "\n",
    "fig = plt.figure(figsize=(10, 8))\n",
    "ax = fig.add_subplot(111, projection='3d')\n",
    "\n",
    "ax.plot_surface(a_mesh, b_mesh, predictions_surface, cmap='viridis')\n",
    "\n",
    "# ax.scatter((train+test .to_numpy()[:, 0], train.to_numpy()[:, 1], train['Weight'].to_numpy(), color='blue', marker='o')\n",
    "\n",
    "ax.set_xlabel('Height')\n",
    "ax.set_ylabel('Width')\n",
    "ax.set_zlabel('Predicted Weight')\n",
    "\n",
    "plt.title('3D Surface Plot of Polynomial Regression Model Predictions')\n",
    "plt.show()"
   ]
  },
  {
   "cell_type": "markdown",
   "metadata": {},
   "source": [
    "## R2 value"
   ]
  },
  {
   "cell_type": "code",
   "execution_count": null,
   "metadata": {},
   "outputs": [],
   "source": [
    "from __future__ import division \n",
    "import numpy as np\n",
    "\n",
    "def compute_r2(y_true, y_predicted):\n",
    "    sse = sum((y_true - y_predicted)**2)\n",
    "    tse = (len(y_true) - 1) * np.var(y_true, ddof=1)\n",
    "    r2_score = 1 - (sse / tse)\n",
    "    return r2_score, sse, tse\n",
    "\n",
    "y_pred = model.predict(np.array(test.drop(['Weight'], axis=1)))\n",
    "y_actual = test['Weight']\n",
    "compute_r2(y_actual, y_pred)[0]"
   ]
  },
  {
   "cell_type": "code",
   "execution_count": null,
   "metadata": {},
   "outputs": [],
   "source": [
    "# Plotting the 45-degree line\n",
    "plt.plot([min(y_actual), max(y_actual)], [min(y_actual), max(y_actual)], linestyle='--', color='gray', label='45-degree line')\n",
    "\n",
    "# Scatter plot for y_pred and y_actual\n",
    "plt.scatter(y_actual, y_pred, color='blue', label='Scatter plot')\n",
    "\n",
    "# Adding labels and title\n",
    "plt.xlabel('y_actual')\n",
    "plt.ylabel('y_pred')\n",
    "plt.title('Scatter plot of y_pred vs y_actual')\n",
    "\n",
    "# Adding a legend\n",
    "plt.legend()\n",
    "\n",
    "# Display the plot\n",
    "plt.show()"
   ]
  }
 ],
 "metadata": {
  "kernelspec": {
   "display_name": ".venv",
   "language": "python",
   "name": "python3"
  },
  "language_info": {
   "codemirror_mode": {
    "name": "ipython",
    "version": 3
   },
   "file_extension": ".py",
   "mimetype": "text/x-python",
   "name": "python",
   "nbconvert_exporter": "python",
   "pygments_lexer": "ipython3",
   "version": "3.11.5"
  },
  "orig_nbformat": 4
 },
 "nbformat": 4,
 "nbformat_minor": 2
}
