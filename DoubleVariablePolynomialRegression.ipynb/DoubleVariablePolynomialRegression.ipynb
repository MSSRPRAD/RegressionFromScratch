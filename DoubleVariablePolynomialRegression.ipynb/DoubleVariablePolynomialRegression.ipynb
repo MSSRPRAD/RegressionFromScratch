{
 "cells": [
  {
   "cell_type": "markdown",
   "metadata": {},
   "source": [
    "# Double Variable Polynomial Regression"
   ]
  },
  {
   "cell_type": "markdown",
   "metadata": {},
   "source": [
    "## Install and Import Dependencies"
   ]
  },
  {
   "cell_type": "code",
   "execution_count": 2,
   "metadata": {},
   "outputs": [
    {
     "name": "stdout",
     "output_type": "stream",
     "text": [
      "Requirement already satisfied: numpy in /home/mpradyumna/RegressionFromScratch/.venv/lib64/python3.11/site-packages (1.26.0)\n",
      "Requirement already satisfied: pandas in /home/mpradyumna/RegressionFromScratch/.venv/lib64/python3.11/site-packages (2.1.1)\n",
      "Requirement already satisfied: matplotlib in /home/mpradyumna/RegressionFromScratch/.venv/lib64/python3.11/site-packages (3.8.0)\n",
      "Requirement already satisfied: python-dateutil>=2.8.2 in /home/mpradyumna/RegressionFromScratch/.venv/lib64/python3.11/site-packages (from pandas) (2.8.2)\n",
      "Requirement already satisfied: pytz>=2020.1 in /home/mpradyumna/RegressionFromScratch/.venv/lib64/python3.11/site-packages (from pandas) (2023.3.post1)\n",
      "Requirement already satisfied: tzdata>=2022.1 in /home/mpradyumna/RegressionFromScratch/.venv/lib64/python3.11/site-packages (from pandas) (2023.3)\n",
      "Requirement already satisfied: contourpy>=1.0.1 in /home/mpradyumna/RegressionFromScratch/.venv/lib64/python3.11/site-packages (from matplotlib) (1.1.1)\n",
      "Requirement already satisfied: cycler>=0.10 in /home/mpradyumna/RegressionFromScratch/.venv/lib64/python3.11/site-packages (from matplotlib) (0.12.0)\n",
      "Requirement already satisfied: fonttools>=4.22.0 in /home/mpradyumna/RegressionFromScratch/.venv/lib64/python3.11/site-packages (from matplotlib) (4.43.0)\n",
      "Requirement already satisfied: kiwisolver>=1.0.1 in /home/mpradyumna/RegressionFromScratch/.venv/lib64/python3.11/site-packages (from matplotlib) (1.4.5)\n",
      "Requirement already satisfied: packaging>=20.0 in /home/mpradyumna/RegressionFromScratch/.venv/lib64/python3.11/site-packages (from matplotlib) (23.2)\n",
      "Requirement already satisfied: pillow>=6.2.0 in /home/mpradyumna/RegressionFromScratch/.venv/lib64/python3.11/site-packages (from matplotlib) (10.0.1)\n",
      "Requirement already satisfied: pyparsing>=2.3.1 in /home/mpradyumna/RegressionFromScratch/.venv/lib64/python3.11/site-packages (from matplotlib) (3.1.1)\n",
      "Requirement already satisfied: six>=1.5 in /home/mpradyumna/RegressionFromScratch/.venv/lib64/python3.11/site-packages (from python-dateutil>=2.8.2->pandas) (1.16.0)\n",
      "Note: you may need to restart the kernel to use updated packages.\n"
     ]
    }
   ],
   "source": [
    "%pip install numpy pandas matplotlib"
   ]
  },
  {
   "cell_type": "code",
   "execution_count": 3,
   "metadata": {},
   "outputs": [],
   "source": [
    "import matplotlib.pyplot as plt\n",
    "import numpy as np\n",
    "import pandas as pd"
   ]
  },
  {
   "cell_type": "markdown",
   "metadata": {},
   "source": [
    "## Load Data"
   ]
  },
  {
   "cell_type": "code",
   "execution_count": 4,
   "metadata": {},
   "outputs": [],
   "source": [
    "df = pd.read_csv('../DoubleVariablePolynomialRegression.ipynb/data/Fish.csv')"
   ]
  },
  {
   "cell_type": "code",
   "execution_count": 5,
   "metadata": {},
   "outputs": [
    {
     "data": {
      "text/html": [
       "<div>\n",
       "<style scoped>\n",
       "    .dataframe tbody tr th:only-of-type {\n",
       "        vertical-align: middle;\n",
       "    }\n",
       "\n",
       "    .dataframe tbody tr th {\n",
       "        vertical-align: top;\n",
       "    }\n",
       "\n",
       "    .dataframe thead th {\n",
       "        text-align: right;\n",
       "    }\n",
       "</style>\n",
       "<table border=\"1\" class=\"dataframe\">\n",
       "  <thead>\n",
       "    <tr style=\"text-align: right;\">\n",
       "      <th></th>\n",
       "      <th>Height</th>\n",
       "      <th>Width</th>\n",
       "      <th>Weight</th>\n",
       "    </tr>\n",
       "  </thead>\n",
       "  <tbody>\n",
       "    <tr>\n",
       "      <th>0</th>\n",
       "      <td>11.5200</td>\n",
       "      <td>4.0200</td>\n",
       "      <td>242.0</td>\n",
       "    </tr>\n",
       "    <tr>\n",
       "      <th>1</th>\n",
       "      <td>12.4800</td>\n",
       "      <td>4.3056</td>\n",
       "      <td>290.0</td>\n",
       "    </tr>\n",
       "    <tr>\n",
       "      <th>2</th>\n",
       "      <td>12.3778</td>\n",
       "      <td>4.6961</td>\n",
       "      <td>340.0</td>\n",
       "    </tr>\n",
       "    <tr>\n",
       "      <th>3</th>\n",
       "      <td>12.7300</td>\n",
       "      <td>4.4555</td>\n",
       "      <td>363.0</td>\n",
       "    </tr>\n",
       "    <tr>\n",
       "      <th>4</th>\n",
       "      <td>12.4440</td>\n",
       "      <td>5.1340</td>\n",
       "      <td>430.0</td>\n",
       "    </tr>\n",
       "  </tbody>\n",
       "</table>\n",
       "</div>"
      ],
      "text/plain": [
       "    Height   Width  Weight\n",
       "0  11.5200  4.0200   242.0\n",
       "1  12.4800  4.3056   290.0\n",
       "2  12.3778  4.6961   340.0\n",
       "3  12.7300  4.4555   363.0\n",
       "4  12.4440  5.1340   430.0"
      ]
     },
     "execution_count": 5,
     "metadata": {},
     "output_type": "execute_result"
    }
   ],
   "source": [
    "df.head()"
   ]
  },
  {
   "cell_type": "markdown",
   "metadata": {},
   "source": [
    "## Note: No NAN Values"
   ]
  },
  {
   "cell_type": "code",
   "execution_count": 6,
   "metadata": {},
   "outputs": [
    {
     "data": {
      "text/plain": [
       "Height    0\n",
       "Width     0\n",
       "Weight    0\n",
       "dtype: int64"
      ]
     },
     "execution_count": 6,
     "metadata": {},
     "output_type": "execute_result"
    }
   ],
   "source": [
    "df.isna().sum()"
   ]
  },
  {
   "cell_type": "markdown",
   "metadata": {},
   "source": [
    "## Normalize the Features"
   ]
  },
  {
   "cell_type": "code",
   "execution_count": 7,
   "metadata": {},
   "outputs": [
    {
     "data": {
      "text/html": [
       "<div>\n",
       "<style scoped>\n",
       "    .dataframe tbody tr th:only-of-type {\n",
       "        vertical-align: middle;\n",
       "    }\n",
       "\n",
       "    .dataframe tbody tr th {\n",
       "        vertical-align: top;\n",
       "    }\n",
       "\n",
       "    .dataframe thead th {\n",
       "        text-align: right;\n",
       "    }\n",
       "</style>\n",
       "<table border=\"1\" class=\"dataframe\">\n",
       "  <thead>\n",
       "    <tr style=\"text-align: right;\">\n",
       "      <th></th>\n",
       "      <th>Height</th>\n",
       "      <th>Width</th>\n",
       "      <th>Weight</th>\n",
       "    </tr>\n",
       "  </thead>\n",
       "  <tbody>\n",
       "    <tr>\n",
       "      <th>0</th>\n",
       "      <td>0.596579</td>\n",
       "      <td>-0.236529</td>\n",
       "      <td>242.0</td>\n",
       "    </tr>\n",
       "    <tr>\n",
       "      <th>1</th>\n",
       "      <td>0.821261</td>\n",
       "      <td>-0.066579</td>\n",
       "      <td>290.0</td>\n",
       "    </tr>\n",
       "    <tr>\n",
       "      <th>2</th>\n",
       "      <td>0.797341</td>\n",
       "      <td>0.165793</td>\n",
       "      <td>340.0</td>\n",
       "    </tr>\n",
       "    <tr>\n",
       "      <th>3</th>\n",
       "      <td>0.879771</td>\n",
       "      <td>0.022621</td>\n",
       "      <td>363.0</td>\n",
       "    </tr>\n",
       "    <tr>\n",
       "      <th>4</th>\n",
       "      <td>0.812835</td>\n",
       "      <td>0.426371</td>\n",
       "      <td>430.0</td>\n",
       "    </tr>\n",
       "  </tbody>\n",
       "</table>\n",
       "</div>"
      ],
      "text/plain": [
       "     Height     Width  Weight\n",
       "0  0.596579 -0.236529   242.0\n",
       "1  0.821261 -0.066579   290.0\n",
       "2  0.797341  0.165793   340.0\n",
       "3  0.879771  0.022621   363.0\n",
       "4  0.812835  0.426371   430.0"
      ]
     },
     "execution_count": 7,
     "metadata": {},
     "output_type": "execute_result"
    }
   ],
   "source": [
    "df['Height'] = (df['Height']-np.mean(df['Height']))/np.std(df['Height'])\n",
    "df['Width'] = (df['Width']-np.mean(df['Width']))/np.std(df['Width'])\n",
    "df.head()"
   ]
  },
  {
   "cell_type": "markdown",
   "metadata": {},
   "source": [
    "## Generate Random Test and Train Splits"
   ]
  },
  {
   "cell_type": "code",
   "execution_count": 8,
   "metadata": {},
   "outputs": [],
   "source": [
    "seed = 420\n",
    "train_fraction = 0.8\n",
    "train = df.sample(frac=train_fraction, random_state=seed)\n",
    "test = df.drop(train.index)"
   ]
  },
  {
   "cell_type": "markdown",
   "metadata": {},
   "source": [
    "## Polynomial Regression Model"
   ]
  },
  {
   "cell_type": "code",
   "execution_count": 27,
   "metadata": {},
   "outputs": [],
   "source": [
    "class PolynomialRegressionModel:\n",
    "    def __init__(self, i, j, q, lmbda):\n",
    "        \"\"\"\n",
    "        Polynomial Regression Model for some particular degree.\n",
    "        \"\"\"\n",
    "        self.errors = {}\n",
    "        self.q = q\n",
    "        self.lmbda = lmbda\n",
    "        self.i = i\n",
    "        self.j = j\n",
    "        self.weights = np.random.rand(i+1, j+1)\n",
    "\n",
    "    def calculate_loss(self, X_i, t_i):\n",
    "        # print('inside self.calculate_loss()')\n",
    "        assert type(X_i[0]) == np.float64 and type(t_i) == np.float64 and type(X_i[1]) == np.float64, \"Types are not matching. Check!\"\n",
    "        result = np.zeros_like(self.weights)\n",
    "        a = X_i[0]\n",
    "        b = X_i[1]\n",
    "        t = t_i\n",
    "        prediction = self.predict([(a, b)])\n",
    "        # print('predicted:')\n",
    "        # print(prediction)\n",
    "        # print('expected')\n",
    "        # print(target)\n",
    "\n",
    "        # tmp = np.sum(self.weights * np.power(a, np.arange(self.i + 1))[:, np.newaxis] * np.power(b, np.arange(self.j + 1)), axis=(0, 1))\n",
    "\n",
    "        exponents_a = np.arange(self.i + 1)[:, np.newaxis]\n",
    "        exponents_b = np.arange(self.j + 1)\n",
    "        result = -1*np.outer(np.power(a, exponents_a), np.power(b, exponents_b)) * (t - prediction)\n",
    "\n",
    "        # print('loss: ')\n",
    "        # print(result)\n",
    "        return result\n",
    "\n",
    "    def fit(self, X_train, y_train, lr=0.01, epochs=500, batch_size=20):\n",
    "        \"\"\"\n",
    "        Fit the polynomial regression model using Batch Gradient Descent.\n",
    "\n",
    "        Parameters:\n",
    "        X_train: Input Feature variables.\n",
    "        y_train: Target Variable\n",
    "        lr: Learning Rate for Gradient Descent\n",
    "        epochs: No of Epochs to train\n",
    "\n",
    "        Returns:\n",
    "        NA\n",
    "        \"\"\"\n",
    "        print('Starting Training.....')\n",
    "        X_train = np.array(X_train)\n",
    "        y_train = np.array(y_train)\n",
    "        # print(X_train.head())\n",
    "        for epoch in range(epochs):\n",
    "            count = 0\n",
    "            loss = np.zeros_like(self.weights)\n",
    "            # print(X_train.shape[0])\n",
    "            \n",
    "            for i in range(X_train.shape[0]):\n",
    "                # print('sample')\n",
    "                # print(X_train[i][0])\n",
    "                # print(X_train[i][1])\n",
    "                # print(y_train[i])\n",
    "                if epoch == 0 or (epoch*epochs+i)%(X_train.shape[0]/2):\n",
    "                    self.errors[epoch*epochs + i] = self.calculate_error(X_train, y_train)\n",
    "\n",
    "                X_i = (X_train[i][0],X_train[i][1])\n",
    "                t_i =  y_train[i]\n",
    "\n",
    "                if count%batch_size == 0:\n",
    "                    loss /= batch_size\n",
    "                    # print('loss: ')\n",
    "                    # print(loss)\n",
    "                    self.weights += (self.lmbda*self.q//2)*(np.abs(self.weights)**(self.q-1))\n",
    "                    self.weights -= lr*loss\n",
    "                    loss = np.zeros_like(self.weights)\n",
    "                else:\n",
    "                    loss += self.calculate_loss(X_i, t_i)\n",
    "            \n",
    "                count+=1\n",
    "            if epoch%(epochs/10) == 0:\n",
    "                print(f\"epoch: {epoch}\")\n",
    "                print(f\"Error: {self.calculate_error(X_train, y_train)}\")\n",
    "\n",
    "        return\n",
    "\n",
    "    def calculate_error(self, X_test, y_test):\n",
    "        \"\"\"\n",
    "        Find the error of the model on some data.\n",
    "\n",
    "        Parameters:\n",
    "        X_test: The sample Input Feature.\n",
    "        y_test: The sample Target Feature.\n",
    "\n",
    "        Returns:\n",
    "        A float value that is the MSE b/w the predicted outputs and the target outputs.\n",
    "        \"\"\"\n",
    "        predictions = self.predict(X_test)\n",
    "        mse = np.mean(\n",
    "            (predictions-y_test)**2\n",
    "        )\n",
    "        return mse\n",
    "\n",
    "    def predict(self, X_test):\n",
    "        \"\"\"\n",
    "        Make Predictions using the trained model.\n",
    "\n",
    "        Parameters:\n",
    "        X_test: The sample Input Features.\n",
    "\n",
    "        Returns:\n",
    "        A numpy Array with the predicted target variable value for each of the samples having\n",
    "        same dimensions as X_test.\n",
    "        \"\"\"\n",
    "        result = [] \n",
    "        for sample in X_test:\n",
    "            assert type(sample[0]) == np.float64 and type(sample[1]) == np.float64, \"Variable doesn't have the required type!\"\n",
    "            a = sample[0]\n",
    "            b = sample[1]\n",
    "            tmp = np.sum(self.weights * np.power(a, np.arange(self.i + 1))[:, np.newaxis] * np.power(b, np.arange(self.j + 1)), axis=(0, 1))           \n",
    "            result.append(tmp)\n",
    "        return np.array(result)"
   ]
  },
  {
   "cell_type": "markdown",
   "metadata": {},
   "source": [
    "## Skip"
   ]
  },
  {
   "cell_type": "code",
   "execution_count": 10,
   "metadata": {},
   "outputs": [
    {
     "data": {
      "text/html": [
       "<div>\n",
       "<style scoped>\n",
       "    .dataframe tbody tr th:only-of-type {\n",
       "        vertical-align: middle;\n",
       "    }\n",
       "\n",
       "    .dataframe tbody tr th {\n",
       "        vertical-align: top;\n",
       "    }\n",
       "\n",
       "    .dataframe thead th {\n",
       "        text-align: right;\n",
       "    }\n",
       "</style>\n",
       "<table border=\"1\" class=\"dataframe\">\n",
       "  <thead>\n",
       "    <tr style=\"text-align: right;\">\n",
       "      <th></th>\n",
       "      <th>Height</th>\n",
       "      <th>Width</th>\n",
       "      <th>Weight</th>\n",
       "    </tr>\n",
       "  </thead>\n",
       "  <tbody>\n",
       "    <tr>\n",
       "      <th>25</th>\n",
       "      <td>1.72935</td>\n",
       "      <td>0.973353</td>\n",
       "      <td>725.0</td>\n",
       "    </tr>\n",
       "  </tbody>\n",
       "</table>\n",
       "</div>"
      ],
      "text/plain": [
       "     Height     Width  Weight\n",
       "25  1.72935  0.973353   725.0"
      ]
     },
     "execution_count": 10,
     "metadata": {},
     "output_type": "execute_result"
    }
   ],
   "source": [
    "train.head(1)"
   ]
  },
  {
   "cell_type": "code",
   "execution_count": 28,
   "metadata": {},
   "outputs": [
    {
     "name": "stdout",
     "output_type": "stream",
     "text": [
      "Starting Training.....\n",
      "epoch: 0\n",
      "Error: 45678.62200108086\n",
      "epoch: 10\n",
      "Error: 21473.152779960707\n",
      "epoch: 20\n",
      "Error: 17773.69100255613\n",
      "epoch: 30\n",
      "Error: 16311.66502306552\n",
      "epoch: 40\n",
      "Error: 15580.359268564782\n",
      "epoch: 50\n",
      "Error: 15142.196787022933\n",
      "epoch: 60\n",
      "Error: 14842.352314287873\n",
      "epoch: 70\n",
      "Error: 14618.336594428794\n",
      "epoch: 80\n",
      "Error: 14441.398576708112\n",
      "epoch: 90\n",
      "Error: 14296.542759269974\n"
     ]
    }
   ],
   "source": [
    "model = PolynomialRegressionModel(i=2, j=2, q=1, lmbda=0.5)\n",
    "model.fit(train.drop(['Weight'], axis=1), train['Weight'], lr=0.1, epochs=100)"
   ]
  },
  {
   "cell_type": "code",
   "execution_count": 30,
   "metadata": {},
   "outputs": [
    {
     "data": {
      "image/png": "[encoded data removed]",
      "text/plain": [
       "<Figure size 640x480 with 1 Axes>"
      ]
     },
     "metadata": {},
     "output_type": "display_data"
    }
   ],
   "source": [
    "plt.plot(x, y)\n",
    "plt.show()"
   ]
  },
  {
   "cell_type": "code",
   "execution_count": 29,
   "metadata": {},
   "outputs": [],
   "source": [
    "x = model.errors.keys()\n",
    "x\n",
    "y = []\n",
    "for i in x:\n",
    "    y.append(model.errors[i])\n",
    "x = np.array(list(x))\n",
    "y = np.array(y)"
   ]
  },
  {
   "cell_type": "markdown",
   "metadata": {},
   "source": [
    "## Testing"
   ]
  },
  {
   "cell_type": "code",
   "execution_count": 19,
   "metadata": {},
   "outputs": [
    {
     "data": {
      "text/html": [
       "<div>\n",
       "<style scoped>\n",
       "    .dataframe tbody tr th:only-of-type {\n",
       "        vertical-align: middle;\n",
       "    }\n",
       "\n",
       "    .dataframe tbody tr th {\n",
       "        vertical-align: top;\n",
       "    }\n",
       "\n",
       "    .dataframe thead th {\n",
       "        text-align: right;\n",
       "    }\n",
       "</style>\n",
       "<table border=\"1\" class=\"dataframe\">\n",
       "  <thead>\n",
       "    <tr style=\"text-align: right;\">\n",
       "      <th></th>\n",
       "      <th>Height</th>\n",
       "      <th>Width</th>\n",
       "    </tr>\n",
       "  </thead>\n",
       "  <tbody>\n",
       "    <tr>\n",
       "      <th>5</th>\n",
       "      <td>1.083951</td>\n",
       "      <td>0.303431</td>\n",
       "    </tr>\n",
       "    <tr>\n",
       "      <th>9</th>\n",
       "      <td>1.230041</td>\n",
       "      <td>0.322473</td>\n",
       "    </tr>\n",
       "    <tr>\n",
       "      <th>10</th>\n",
       "      <td>1.238514</td>\n",
       "      <td>0.408638</td>\n",
       "    </tr>\n",
       "    <tr>\n",
       "      <th>23</th>\n",
       "      <td>1.520723</td>\n",
       "      <td>1.019411</td>\n",
       "    </tr>\n",
       "    <tr>\n",
       "      <th>28</th>\n",
       "      <td>1.853299</td>\n",
       "      <td>1.059756</td>\n",
       "    </tr>\n",
       "    <tr>\n",
       "      <th>31</th>\n",
       "      <td>2.132841</td>\n",
       "      <td>1.115454</td>\n",
       "    </tr>\n",
       "    <tr>\n",
       "      <th>35</th>\n",
       "      <td>-1.128978</td>\n",
       "      <td>-1.279079</td>\n",
       "    </tr>\n",
       "    <tr>\n",
       "      <th>37</th>\n",
       "      <td>-0.794670</td>\n",
       "      <td>-0.900381</td>\n",
       "    </tr>\n",
       "    <tr>\n",
       "      <th>47</th>\n",
       "      <td>-0.601725</td>\n",
       "      <td>-0.367443</td>\n",
       "    </tr>\n",
       "    <tr>\n",
       "      <th>52</th>\n",
       "      <td>-0.022045</td>\n",
       "      <td>0.047197</td>\n",
       "    </tr>\n",
       "    <tr>\n",
       "      <th>59</th>\n",
       "      <td>0.653030</td>\n",
       "      <td>1.283024</td>\n",
       "    </tr>\n",
       "    <tr>\n",
       "      <th>63</th>\n",
       "      <td>-0.366464</td>\n",
       "      <td>-1.038079</td>\n",
       "    </tr>\n",
       "    <tr>\n",
       "      <th>72</th>\n",
       "      <td>-1.605304</td>\n",
       "      <td>-1.790834</td>\n",
       "    </tr>\n",
       "    <tr>\n",
       "      <th>75</th>\n",
       "      <td>-1.024782</td>\n",
       "      <td>-1.062714</td>\n",
       "    </tr>\n",
       "    <tr>\n",
       "      <th>76</th>\n",
       "      <td>-1.025812</td>\n",
       "      <td>-0.878304</td>\n",
       "    </tr>\n",
       "    <tr>\n",
       "      <th>85</th>\n",
       "      <td>-0.605469</td>\n",
       "      <td>-0.525730</td>\n",
       "    </tr>\n",
       "    <tr>\n",
       "      <th>95</th>\n",
       "      <td>-0.630980</td>\n",
       "      <td>-0.412073</td>\n",
       "    </tr>\n",
       "    <tr>\n",
       "      <th>101</th>\n",
       "      <td>-0.421979</td>\n",
       "      <td>-0.162741</td>\n",
       "    </tr>\n",
       "    <tr>\n",
       "      <th>107</th>\n",
       "      <td>-0.324336</td>\n",
       "      <td>0.129673</td>\n",
       "    </tr>\n",
       "    <tr>\n",
       "      <th>111</th>\n",
       "      <td>0.589183</td>\n",
       "      <td>2.010251</td>\n",
       "    </tr>\n",
       "    <tr>\n",
       "      <th>115</th>\n",
       "      <td>0.374635</td>\n",
       "      <td>1.159846</td>\n",
       "    </tr>\n",
       "    <tr>\n",
       "      <th>121</th>\n",
       "      <td>0.798043</td>\n",
       "      <td>1.811916</td>\n",
       "    </tr>\n",
       "    <tr>\n",
       "      <th>123</th>\n",
       "      <td>0.896201</td>\n",
       "      <td>1.458449</td>\n",
       "    </tr>\n",
       "    <tr>\n",
       "      <th>126</th>\n",
       "      <td>0.850282</td>\n",
       "      <td>2.216321</td>\n",
       "    </tr>\n",
       "    <tr>\n",
       "      <th>130</th>\n",
       "      <td>-0.710227</td>\n",
       "      <td>-0.019688</td>\n",
       "    </tr>\n",
       "    <tr>\n",
       "      <th>132</th>\n",
       "      <td>-0.393426</td>\n",
       "      <td>0.094624</td>\n",
       "    </tr>\n",
       "    <tr>\n",
       "      <th>134</th>\n",
       "      <td>-0.395766</td>\n",
       "      <td>-0.056522</td>\n",
       "    </tr>\n",
       "    <tr>\n",
       "      <th>135</th>\n",
       "      <td>-0.502256</td>\n",
       "      <td>0.024704</td>\n",
       "    </tr>\n",
       "    <tr>\n",
       "      <th>136</th>\n",
       "      <td>-0.277340</td>\n",
       "      <td>0.423753</td>\n",
       "    </tr>\n",
       "    <tr>\n",
       "      <th>142</th>\n",
       "      <td>0.147215</td>\n",
       "      <td>1.027385</td>\n",
       "    </tr>\n",
       "    <tr>\n",
       "      <th>155</th>\n",
       "      <td>-1.530878</td>\n",
       "      <td>-1.873547</td>\n",
       "    </tr>\n",
       "    <tr>\n",
       "      <th>158</th>\n",
       "      <td>-1.413341</td>\n",
       "      <td>-1.510440</td>\n",
       "    </tr>\n",
       "  </tbody>\n",
       "</table>\n",
       "</div>"
      ],
      "text/plain": [
       "       Height     Width\n",
       "5    1.083951  0.303431\n",
       "9    1.230041  0.322473\n",
       "10   1.238514  0.408638\n",
       "23   1.520723  1.019411\n",
       "28   1.853299  1.059756\n",
       "31   2.132841  1.115454\n",
       "35  -1.128978 -1.279079\n",
       "37  -0.794670 -0.900381\n",
       "47  -0.601725 -0.367443\n",
       "52  -0.022045  0.047197\n",
       "59   0.653030  1.283024\n",
       "63  -0.366464 -1.038079\n",
       "72  -1.605304 -1.790834\n",
       "75  -1.024782 -1.062714\n",
       "76  -1.025812 -0.878304\n",
       "85  -0.605469 -0.525730\n",
       "95  -0.630980 -0.412073\n",
       "101 -0.421979 -0.162741\n",
       "107 -0.324336  0.129673\n",
       "111  0.589183  2.010251\n",
       "115  0.374635  1.159846\n",
       "121  0.798043  1.811916\n",
       "123  0.896201  1.458449\n",
       "126  0.850282  2.216321\n",
       "130 -0.710227 -0.019688\n",
       "132 -0.393426  0.094624\n",
       "134 -0.395766 -0.056522\n",
       "135 -0.502256  0.024704\n",
       "136 -0.277340  0.423753\n",
       "142  0.147215  1.027385\n",
       "155 -1.530878 -1.873547\n",
       "158 -1.413341 -1.510440"
      ]
     },
     "execution_count": 19,
     "metadata": {},
     "output_type": "execute_result"
    }
   ],
   "source": [
    "test.drop(['Weight'], axis=1)"
   ]
  },
  {
   "cell_type": "code",
   "execution_count": 20,
   "metadata": {},
   "outputs": [],
   "source": [
    "y_pred = model.predict(list(np.array(test.drop(['Weight'], axis=1))))"
   ]
  },
  {
   "cell_type": "code",
   "execution_count": 21,
   "metadata": {},
   "outputs": [
    {
     "data": {
      "text/plain": [
       "array([ 474.25047249,  510.64910221,  535.94252512,  757.8869782 ,\n",
       "        844.80913199,  936.69253702,   37.13535535,   73.23897541,\n",
       "        171.39103203,  287.9319602 ,  803.84273726,   86.37683057,\n",
       "         -8.1336434 ,   50.98975495,   69.9702769 ,  133.23797963,\n",
       "        160.37110612,  225.98959088,  326.83975409, 1234.75831465,\n",
       "        770.61147138, 1051.34460517,  864.00910783, 1255.04266724,\n",
       "        298.68238301,  317.36945675,  260.47003205,  297.49649483,\n",
       "        454.88119779,  727.57730947,   22.92866759,    8.45847872])"
      ]
     },
     "execution_count": 21,
     "metadata": {},
     "output_type": "execute_result"
    }
   ],
   "source": [
    "y_pred"
   ]
  },
  {
   "cell_type": "code",
   "execution_count": 22,
   "metadata": {},
   "outputs": [
    {
     "data": {
      "text/plain": [
       "array([ 450. ,  500. ,  475. ,  680. ,  850. ,  955. ,   40. ,   78. ,\n",
       "        160. ,  290. ,  800. ,   90. ,    5.9,   51.5,   70. ,  130. ,\n",
       "        170. ,  218. ,  300. ,  840. ,  690. , 1015. , 1100. , 1000. ,\n",
       "        300. ,  430. ,  456. ,  510. ,  540. , 1600. ,   13.4,   19.9])"
      ]
     },
     "execution_count": 22,
     "metadata": {},
     "output_type": "execute_result"
    }
   ],
   "source": [
    "true = np.array(test['Weight'])\n",
    "true"
   ]
  },
  {
   "cell_type": "code",
   "execution_count": 24,
   "metadata": {},
   "outputs": [
    {
     "name": "stdout",
     "output_type": "stream",
     "text": [
      "Requirement already satisfied: scipy in /home/mpradyumna/RegressionFromScratch/.venv/lib64/python3.11/site-packages (1.11.3)\n",
      "Requirement already satisfied: numpy<1.28.0,>=1.21.6 in /home/mpradyumna/RegressionFromScratch/.venv/lib64/python3.11/site-packages (from scipy) (1.26.0)\n",
      "Note: you may need to restart the kernel to use updated packages.\n",
      "Requirement already satisfied: scikit-learn in /home/mpradyumna/RegressionFromScratch/.venv/lib64/python3.11/site-packages (1.3.1)\n",
      "Requirement already satisfied: numpy<2.0,>=1.17.3 in /home/mpradyumna/RegressionFromScratch/.venv/lib64/python3.11/site-packages (from scikit-learn) (1.26.0)\n",
      "Requirement already satisfied: scipy>=1.5.0 in /home/mpradyumna/RegressionFromScratch/.venv/lib64/python3.11/site-packages (from scikit-learn) (1.11.3)\n",
      "Requirement already satisfied: joblib>=1.1.1 in /home/mpradyumna/RegressionFromScratch/.venv/lib64/python3.11/site-packages (from scikit-learn) (1.3.2)\n",
      "Requirement already satisfied: threadpoolctl>=2.0.0 in /home/mpradyumna/RegressionFromScratch/.venv/lib64/python3.11/site-packages (from scikit-learn) (3.2.0)\n",
      "Note: you may need to restart the kernel to use updated packages.\n"
     ]
    }
   ],
   "source": [
    "%pip install scipy\n",
    "%pip install scikit-learn"
   ]
  },
  {
   "cell_type": "code",
   "execution_count": 25,
   "metadata": {},
   "outputs": [
    {
     "data": {
      "text/plain": [
       "0.7352449457278318"
      ]
     },
     "execution_count": 25,
     "metadata": {},
     "output_type": "execute_result"
    }
   ],
   "source": [
    "from sklearn.metrics import r2_score\n",
    "r2_score(y_pred, true)"
   ]
  }
 ],
 "metadata": {
  "kernelspec": {
   "display_name": ".venv",
   "language": "python",
   "name": "python3"
  },
  "language_info": {
   "codemirror_mode": {
    "name": "ipython",
    "version": 3
   },
   "file_extension": ".py",
   "mimetype": "text/x-python",
   "name": "python",
   "nbconvert_exporter": "python",
   "pygments_lexer": "ipython3",
   "version": "3.11.5"
  },
  "orig_nbformat": 4
 },
 "nbformat": 4,
 "nbformat_minor": 2
}
